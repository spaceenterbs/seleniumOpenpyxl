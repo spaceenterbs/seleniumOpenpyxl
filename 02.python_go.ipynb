{
 "cells": [
  {
   "attachments": {},
   "cell_type": "markdown",
   "metadata": {},
   "source": [
    "### naver news"
   ]
  },
  {
   "cell_type": "code",
   "execution_count": 1,
   "metadata": {},
   "outputs": [],
   "source": [
    "from selenium import webdriver\n",
    "from selenium.webdriver.common.by import By"
   ]
  },
  {
   "cell_type": "code",
   "execution_count": 2,
   "metadata": {},
   "outputs": [],
   "source": [
    "browser = webdriver.Chrome()"
   ]
  },
  {
   "cell_type": "code",
   "execution_count": 3,
   "metadata": {},
   "outputs": [],
   "source": [
    "url = 'https://news.naver.com/main/list.naver?mode=LS2D&mid=shm&sid1=101&sid2=259'\n",
    "browser.get(url)"
   ]
  },
  {
   "cell_type": "code",
   "execution_count": 8,
   "metadata": {},
   "outputs": [
    {
     "name": "stdout",
     "output_type": "stream",
     "text": [
      "청소년 상대로 1000% 돈놀이…‘대리입금’ 미끼 나쁜 어른들 [금융 라운지]\n",
      "금융감독원은 청소년을 대상으로 사회관계망서비스(SNS)를 통한 ‘대리입금’을 비롯한 불법 사금융광고가 확산되고 있어 ‘소비자 피 …\n",
      "매일경제 1시간전\n",
      "'6대' 가상자산 거래소 되나…한빗코, 광주은행과 실명계좌 계약 체결\n",
      "원화마켓을 운영하는 가상자산 거래소들로 구성된 '5대 가상자산 거래소' 체제가 '6대 거래소'로 개편될 가능성이 커졌다. 코인마 …\n",
      "뉴스1 1시간전\n",
      "청년도약계좌 닷새 만에 가입 신청자 41만명 넘어서\n",
      "청년층의 목돈 마련을 돕는 청년도약계좌 가입 신청자가 5일 만에 41만명을 넘었다. 금융위원회는 21일 오후 6시30분까지 청년 …\n",
      "이코노미스트 2시간전\n",
      "이미 쌓인 빚도 곪아 위험한데…가계·기업 ‘대출’ 더 불어날라\n",
      "한국은행이 21일 발표한 금융안정보고서에는 우리나라 경제 규모에 견줘 과도한 수준의 가계 부채 등과 같은 금융 불균형과 그에 따 …\n",
      "한겨레 3시간전\n",
      "청년도약계좌 5일간 41만명 신청…이틀간 출생연도 구분없이 접수(종합)\n",
      "청년의 목돈 마련을 위한 정책금융상품 '청년도약계좌' 가입 신청자가 개시 5일 만에 40만명을 넘었다. 금융위원회는 21일 오후 …\n",
      "뉴스1 3시간전\n",
      "저렴한 비용으로 실시간 투자…한국거래소 ETF·ETN '인기'\n",
      "해외 투자가 활성화되면서 외국 기초 자산에 투자하는 상장지수펀드(ETF)와 상장지수증권(ETN) 상품 인기가 높아지고 있다. 저 …\n",
      "국제신문 3시간전\n",
      "청년도약계좌, 22∼23일 출생연도 관계없이 신청\n",
      "청년층의 목돈 마련을 돕는 청년도약계좌 가입 신청자가 5일 만에 40만명을 돌파했다. 금융위원회는 이달 15일부터 21일 오후 …\n",
      "한국경제TV 3시간전\n",
      "'최고 금리 6%' 청년도약계좌 신청자 40만명 돌파\n",
      "금융위원회는 21일 이날 오후 6시30분까지 청년도약계좌 가입 신청자가 8만8000명으로 집계됐다고 밝혔다. 지난 15일 출시한 …\n",
      "데일리안 3시간전\n",
      "청년도약계좌 5일간 41만명…22∼23일 출생연도 상관없이 신청(종합)\n",
      "청년층의 목돈 마련을 돕는 청년도약계좌 가입 신청자가 5일 만에 40만명을 넘었다. 금융위원회는 21일 오후 6시30분까지 청년 …\n",
      "연합뉴스 4시간전\n",
      "청년도약계좌 닷새만에 가입 신청자 41만명 돌파(종합)\n",
      "5년간 매월 70만원씩 납입하면 최대 5000만원까지 모을 수 있는 청년도약계좌 가입 신청자가 닷새 만에 41만명을 넘어섰다. …\n",
      "뉴시스 4시간전\n"
     ]
    }
   ],
   "source": [
    "titles = browser.find_elements(By.CLASS_NAME, 'type06_headline')\n",
    "for i in titles:\n",
    "    print(i.text)"
   ]
  },
  {
   "cell_type": "code",
   "execution_count": null,
   "metadata": {},
   "outputs": [],
   "source": [
    "import pandas as pd"
   ]
  },
  {
   "cell_type": "code",
   "execution_count": null,
   "metadata": {},
   "outputs": [],
   "source": [
    "data = {\n",
    "    \"제목\" : title_list,\n",
    "    \"내용\" : content_list,\n",
    "    \"링크\" : link_list\n",
    "}\n",
    "\n",
    "df = pd.DataFrame(data)\n",
    "df\n",
    "# df.to_csv(\"구글 뉴스 크롤링.csv\")"
   ]
  },
  {
   "attachments": {},
   "cell_type": "markdown",
   "metadata": {},
   "source": [
    "### yes24"
   ]
  },
  {
   "cell_type": "code",
   "execution_count": null,
   "metadata": {},
   "outputs": [],
   "source": [
    "from selenium import webdriver\n",
    "from selenium.webdriver.common.by import By"
   ]
  },
  {
   "cell_type": "code",
   "execution_count": null,
   "metadata": {},
   "outputs": [],
   "source": [
    "browser = webdriver.Chrome()"
   ]
  },
  {
   "cell_type": "code",
   "execution_count": 15,
   "metadata": {},
   "outputs": [],
   "source": [
    "url = 'https://www.yes24.com/24/category/bestseller?CategoryNumber=001&sumgb=06'\n",
    "browser.get(url)"
   ]
  },
  {
   "cell_type": "code",
   "execution_count": 16,
   "metadata": {},
   "outputs": [
    {
     "name": "stdout",
     "output_type": "stream",
     "text": [
      "[도서] 비욘드 더 스토리 BEYOND THE STORY : 10-YEAR RECORD OF BTS(Photo Card Set + PET Bookmark, 양장, 무지개 유리컵/포토카드 홀더 증정(택1/포인트 차감/한정수량) )\n",
      "강명석,방탄소년단 저 | 빅히트뮤직(BIGHIT MUSIC) | 2023년 07월\n",
      "35,000원 →31,500원(10% 할인) | YES포인트 1,750원(5% 지급)\n",
      "2023년 07월 10일 발송예정 (예약판매)\n",
      "(예정일 이후 1~2일 이내 받을 수 있습니다.)\n",
      " \n",
      "[도서] 세이노의 가르침\n",
      "세이노(SayNo) 저 | 데이원 | 2023년 03월\n",
      "7,200원 →6,480원(10% 할인) | YES포인트 360원(5% 지급)\n",
      "회원리뷰 (191개) | 내용 | 편집구성\n",
      "24시까지 주문하면 내일(6/22, 목) 도착예정\n",
      "[도서] 문과 남자의 과학 공부 : 나는 무엇이고 왜 존재하며 어디로 가는가?(인쇄 사인본, 오디오매거진이용권(포인트 차감))\n",
      "유시민 저 | 돌베개 | 2023년 06월\n",
      "17,500원 →15,750원(10% 할인) | YES포인트 870원(5% 지급)\n",
      "회원리뷰 (1개) | 내용 | 편집구성\n",
      "24시까지 주문하면 내일(6/22, 목) 도착예정\n",
      "[도서] 역행자 확장판 : 돈·시간·운명으로부터 완전한 자유를 얻는 7단계 인생 공략집([6월 얼리리더] 본 도서 포함 국내도서 3만원 이상 구매 시 '노플라스틱선데이 마그넷' 증정 (포인트 차감))\n",
      "자청 저 | 웅진지식하우스 | 2023년 05월\n",
      "19,500원 →17,550원(10% 할인) | YES포인트 970원(5% 지급)\n",
      "회원리뷰 (62개) | 내용 | 편집구성\n",
      "24시까지 주문하면 내일(6/22, 목) 도착예정\n",
      "[만화] 블루 아카이브 오피셜 아트웍스 한정판 (한정부록 : 일러스트카드+학생스티커+엠블럼스티커+마우스패드+아크릴휴대폰거치대+그립톡+태피스트리, 컬러, [단독] 트레이 쿠션 (포인트 차감))\n",
      "신민섭 역/NEXON GAMES 감수 | 학산문화사 | 2023년 08월\n",
      "98,000원 →88,200원(10% 할인) | YES포인트 4,900원(5% 지급)\n",
      "2023년 08월 26일 발송예정 (예약판매)\n",
      "(예정일 이후 1~2일 이내 받을 수 있습니다.)\n",
      "[도서] 나는 어떻게 삶의 해답을 찾는가 : 고명환의 독서 내공\n",
      "고명환 저 | 라곰 | 2023년 06월\n",
      "17,800원 →16,020원(10% 할인) | YES포인트 890원(5% 지급)\n",
      "회원리뷰 (5개) | 내용 | 편집구성\n",
      "24시까지 주문하면 내일(6/22, 목) 도착예정\n",
      " \n",
      "[도서] 사장학개론([6월 얼리리더] 본 도서 포함 국내도서 3만원 이상 구매 시 '노플라스틱선데이 마그넷' 증정 (포인트 차감))\n",
      "김승호 저 | 스노우폭스북스 | 2023년 04월\n",
      "25,000원 →22,500원(10% 할인) | YES포인트 1,250원(5% 지급)\n",
      "회원리뷰 (39개) | 내용 | 편집구성\n",
      "24시까지 주문하면 내일(6/22, 목) 도착예정\n",
      " \n",
      "[도서] 도둑맞은 집중력 : 집중력 위기의 시대, 삶의 주도권을 되찾는 법\n",
      "요한 하리 저/김하현 역 | 어크로스 | 2023년 04월\n",
      "18,800원 →16,920원(10% 할인) | YES포인트 940원(5% 지급)\n",
      "회원리뷰 (29개) | 내용 | 편집구성\n",
      "24시까지 주문하면 내일(6/22, 목) 도착예정\n",
      "   \n",
      "[도서] 모든 삶은 흐른다 : 삶의 지표가 필요한 당신에게 바다가 건네는 말\n",
      "로랑스 드빌레르 저/이주영 역 | 피카(FIKA) | 2023년 04월\n",
      "16,800원 →15,120원(10% 할인) | YES포인트 840원(5% 지급)\n",
      "회원리뷰 (40개) | 내용 | 편집구성\n",
      "24시까지 주문하면 내일(6/22, 목) 도착예정\n",
      "   \n",
      "[도서] 메리골드 마음 세탁소(포함 국내도서 2만원 이상 구매 시, 아크릴 티코스터 증정 (포인트 차감) )\n",
      "윤정은 저 | 북로망스 | 2023년 03월\n",
      "15,000원 →13,500원(10% 할인) | YES포인트 750원(5% 지급)\n",
      "회원리뷰 (48개) | 내용 | 편집구성\n",
      "24시까지 주문하면 내일(6/22, 목) 도착예정\n",
      "[만화] 블루 아카이브 오피셜 아트웍스(초판한정부록 : 일러스트 카드 2종 + 학생스티커 3매 (책과랩핑), 컬러, [단독] 지퍼파일백 (포인트 차감))\n",
      "신민섭 역/NEXON GAMES 감수 | 학산문화사 | 2023년 08월\n",
      "43,000원 →38,700원(10% 할인) | YES포인트 2,150원(5% 지급)\n",
      "2023년 08월 26일 발송예정 (예약판매)\n",
      "(예정일 이후 1~2일 이내 받을 수 있습니다.)\n",
      "[도서] 유연함의 힘 : 유연함으로 쓰는 새로운 성장 공식\n",
      "수잔 애쉬포드 저/김정혜 역 | 상상스퀘어 | 2023년 05월\n",
      "22,000원 →19,800원(10% 할인) | YES포인트 1,100원(5% 지급)\n",
      "24시까지 주문하면 내일(6/22, 목) 도착예정\n",
      "[만화] 열혈강호 88\n",
      "전극진 글/양재현 그림 | 대원 | 2023년 06월\n",
      "5,500원 →4,950원(10% 할인) | YES포인트 270원(5% 지급)\n",
      "회원리뷰 (5개) | 내용 | 편집구성\n",
      "24시까지 주문하면 내일(6/22, 목) 도착예정\n",
      "[도서] 꿀벌의 예언 1(가든백/1,2권 동시 구매시 스마트 독서대 증정(개별 포인트 차감) )\n",
      "베르나르 베르베르 저/전미연 역 | 열린책들 | 2023년 06월\n",
      "16,800원 →15,120원(10% 할인) | YES포인트 840원(5% 지급)\n",
      "24시까지 주문하면 내일(6/22, 목) 도착예정\n",
      "[도서] 흔한남매의 흔한 호기심 9([단독] 흔한남매 아크릴 무드등 (어린이 2만원↑, 포인트차감, 한정수량))\n",
      "흔한남매 원저/유난희 그림/이정모,흔한컴퍼니 감수 | 미래엔아이세움 | 2023년 06월\n",
      "14,000원 →12,600원(10% 할인) | YES포인트 700원(5% 지급)\n",
      "회원리뷰 (8개) | 내용 | 편집구성\n",
      "24시까지 주문하면 내일(6/22, 목) 도착예정\n",
      "[만화] 명탐정 코난 103 (초판한정부록 : 아크릴 책갈피 (pp) (책과랩핑))\n",
      "아오야마 고쇼 글그림 | 서울미디어코믹스(서울문화사) | 2023년 06월\n",
      "6,000원 →5,400원(10% 할인) | YES포인트 300원(5% 지급)\n",
      "회원리뷰 (1개) | 내용 | 편집구성\n",
      "24시까지 주문하면 내일(6/22, 목) 도착예정\n",
      "[도서] 돈의 속성 300쇄 리커버(양장)\n",
      "김승호 저 | 스노우폭스북스 | 2020년 06월\n",
      "17,800원 →16,020원(10% 할인) | YES포인트 890원(5% 지급)\n",
      "회원리뷰 (354개) | 내용 | 편집구성\n",
      "24시까지 주문하면 내일(6/22, 목) 도착예정\n",
      "   \n",
      "[도서] 꿀벌의 예언 2(가든백/1,2권 동시 구매시 스마트 독서대 증정(개별 포인트 차감) )\n",
      "베르나르 베르베르 저/전미연 역 | 열린책들 | 2023년 06월\n",
      "16,800원 →15,120원(10% 할인) | YES포인트 840원(5% 지급)\n",
      "24시까지 주문하면 내일(6/22, 목) 도착예정\n",
      "[도서] 원씽 THE ONE THING : 복잡한 세상을 이기는 단순함의 힘(리커버 특별판)\n",
      "게리 켈러,제이 파파산 저/구세희 역 | 비즈니스북스 | 2013년 08월\n",
      "14,000원 →12,600원(10% 할인) | YES포인트 700원(5% 지급)\n",
      "회원리뷰 (222개) | 내용 | 편집구성\n",
      "24시까지 주문하면 내일(6/22, 목) 도착예정\n",
      "   \n",
      "[도서] 설민석의 한국사 대모험 25 : 정도전 편 : 이상하고 아름다운 도깨비 나라(초판 한정 도깨비 짱돌 캐릭터 아바타 (책과랩핑, 설쌤앱 다운로드 후 사용))\n",
      "스토리박스,설민석 글/정현희 그림/강석화 감수 | 단꿈아이 | 2023년 05월\n",
      "13,000원 →11,700원(10% 할인) | YES포인트 650원(5% 지급)\n",
      "회원리뷰 (74개) | 내용 | 편집구성\n",
      "24시까지 주문하면 내일(6/22, 목) 도착예정\n"
     ]
    }
   ],
   "source": [
    "titles = browser.find_elements(By.CLASS_NAME, 'goodsTxtInfo')\n",
    "for i in titles:\n",
    "    print(i.text)"
   ]
  },
  {
   "cell_type": "code",
   "execution_count": null,
   "metadata": {},
   "outputs": [],
   "source": [
    "import pandas as pd"
   ]
  },
  {
   "cell_type": "code",
   "execution_count": null,
   "metadata": {},
   "outputs": [],
   "source": [
    "data = {\n",
    "    \"제목\" : title_list,\n",
    "    \"내용\" : content_list,\n",
    "    \"링크\" : link_list\n",
    "}\n",
    "\n",
    "df = pd.DataFrame(data)\n",
    "df\n",
    "# df.to_csv(\"구글 뉴스 크롤링.csv\")"
   ]
  },
  {
   "attachments": {},
   "cell_type": "markdown",
   "metadata": {},
   "source": [
    "### 네이버 뉴스 크롤링\n",
    "- 제목, 내용, 링크, 언론사\n",
    "- [경제 홈 : 네이버 뉴스 (naver.com)](https://news.naver.com/main/list.naver?mode=LS2D&mid=shm&sid1=101&sid2=259)\n",
    "- 엑셀 저장"
   ]
  },
  {
   "cell_type": "code",
   "execution_count": 31,
   "metadata": {},
   "outputs": [],
   "source": [
    "from selenium import webdriver\n",
    "from selenium.webdriver.common.by import By\n",
    "import pandas as pd"
   ]
  },
  {
   "cell_type": "code",
   "execution_count": 5,
   "metadata": {},
   "outputs": [],
   "source": [
    "browser = webdriver.Chrome()"
   ]
  },
  {
   "cell_type": "code",
   "execution_count": 6,
   "metadata": {},
   "outputs": [],
   "source": [
    "url = 'https://news.naver.com/main/list.naver?mode=LS2D&mid=shm&sid1=101&sid2=259'\n",
    "browser.get(url)"
   ]
  },
  {
   "cell_type": "code",
   "execution_count": 19,
   "metadata": {},
   "outputs": [],
   "source": [
    "# (1) 각각의 뉴스 컨테이너를 모두 불러온다.\n",
    "# (2) 컨테이너 안에서 필요한 데이터를 뽑아낸다.\n",
    "\n",
    "# list body의 li를 가져온다. 그렇지 않으면 더 밑은 못 가져온다\n",
    "frame = browser.find_element(By.CLASS_NAME, 'list_body')\n",
    "# frame.find_element(By.TAG_NAME, 'li').text\n",
    "# len(frame.find_elements(By.TAG_NAME, 'li')) # 20개\n",
    "containers = frame.find_elements(By.TAG_NAME, 'li')\n",
    "title_list = []\n",
    "content_list = []\n",
    "company_list = []\n",
    "link_list = []\n",
    "\n",
    "for item in containers:\n",
    "    # print(i)\n",
    "\n",
    "    title = item.find_element(By.TAG_NAME, 'img').get_attribute('alt') # img 태그의 속성값도 좋다.\n",
    "    # title\n",
    "\n",
    "    content = item.find_element(By.CLASS_NAME, 'lede').text\n",
    "    # print(content)\n",
    "\n",
    "    company = item.find_element(By.CLASS_NAME, 'writing').text\n",
    "    \n",
    "    link = item.find_element(By.TAG_NAME, 'a').get_attribute('href')\n",
    "    # print(link)\n",
    "\n",
    "    title_list.append(title)\n",
    "    content_list.append(content)\n",
    "    company_list.append(company)\n",
    "    link_list.append(link)"
   ]
  },
  {
   "cell_type": "code",
   "execution_count": 21,
   "metadata": {},
   "outputs": [],
   "source": [
    "data = {\n",
    "    \"제목\" : title_list,\n",
    "    \"내용\" : content_list,\n",
    "    \"언론사\" : company_list,\n",
    "    \"링크\" : link_list\n",
    "}\n",
    "\n",
    "df = pd.DataFrame(data)\n",
    "# df\n",
    "df.to_csv(\"네이버 경제 뉴스 크롤링.csv\")"
   ]
  },
  {
   "attachments": {},
   "cell_type": "markdown",
   "metadata": {},
   "source": [
    "## 두 번째, 예스 24 베스트셀러 크롤링하기\n",
    "\n",
    "- [예스24 | 베스트셀러 (yes24.com)](https://www.yes24.com/24/category/bestseller?CategoryNumber=001&sumgb=06)\n",
    "- 책 제목, 저자, 출간일\n",
    "- 엑셀 저장"
   ]
  },
  {
   "cell_type": "code",
   "execution_count": 28,
   "metadata": {},
   "outputs": [],
   "source": [
    "url = 'https://www.yes24.com/24/category/bestseller?CategoryNumber=001&sumgb=06'\n",
    "browser.get(url)"
   ]
  },
  {
   "cell_type": "code",
   "execution_count": 36,
   "metadata": {},
   "outputs": [],
   "source": [
    "# (1) 도서 정보가 있는 엘리먼트인, 클래스 값이 goosTxtInfo 인 녀석을 모두 불러온다.\n",
    "# (2) \n",
    "containers = browser.find_elements(By.CLASS_NAME, 'goodsTxtInfo')\n",
    "\n",
    "title_list = []\n",
    "link_list = []\n",
    "writer_list = []\n",
    "company_list = []\n",
    "publishing_list = []\n",
    "# 예외처리가 많다.\n",
    "for item in containers:\n",
    "    title = item.find_element(By.TAG_NAME, 'a').text\n",
    "    title_list.append(title)\n",
    "    # print(title) # 클래스의 첫번째 a 태그\n",
    "    link = item.find_element(By.TAG_NAME, 'a').get_attribute('href')\n",
    "    link_list.append(link)\n",
    "    info = item.find_element(By.CLASS_NAME, 'aupu').text\n",
    "    info_list = info.split(\" | \")\n",
    "\n",
    "    writer = info_list[0]\n",
    "    writer_list.append(writer)\n",
    "\n",
    "    company = info_list[1]\n",
    "    company_list.append(company)\n",
    "\n",
    "    publishing = info_list[2]\n",
    "    publishing_list.append(publishing)\n",
    "\n",
    "data = {\n",
    "    \"제목\" : title_list,\n",
    "    \"저자\" : writer_list,\n",
    "    \"출판사\" : company_list,\n",
    "    \"출판일\" : publishing_list,\n",
    "    \"링크\" : link_list\n",
    "}\n",
    "\n",
    "df = pd.DataFrame(data)\n",
    "# df\n",
    "df.to_csv(\"yes24 책 크롤링.csv\")"
   ]
  },
  {
   "cell_type": "code",
   "execution_count": null,
   "metadata": {},
   "outputs": [],
   "source": [
    "word_list = word.split(' | ')\n",
    "word_list\n",
    "\n",
    "# 저자 (author)\n",
    "author = word_list[0]\n",
    "author_final = author.split()[0]\n",
    "author_final\n",
    "\n",
    "# 출판사 (company)\n",
    "\n",
    "company = word_list[1]\n",
    "company\n",
    "\n",
    "# 출간인 (publish)\n",
    "publish = word_list[2]\n",
    "publish\n"
   ]
  }
 ],
 "metadata": {
  "kernelspec": {
   "display_name": "Python 3",
   "language": "python",
   "name": "python3"
  },
  "language_info": {
   "codemirror_mode": {
    "name": "ipython",
    "version": 3
   },
   "file_extension": ".py",
   "mimetype": "text/x-python",
   "name": "python",
   "nbconvert_exporter": "python",
   "pygments_lexer": "ipython3",
   "version": "3.11.3"
  },
  "orig_nbformat": 4
 },
 "nbformat": 4,
 "nbformat_minor": 2
}
