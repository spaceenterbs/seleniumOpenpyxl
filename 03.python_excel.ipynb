{
 "cells": [
  {
   "attachments": {},
   "cell_type": "markdown",
   "metadata": {},
   "source": [
    "## 엑셀 자동화\n",
    "-openpyxl 라이브러리"
   ]
  },
  {
   "cell_type": "code",
   "execution_count": null,
   "metadata": {},
   "outputs": [],
   "source": [
    "%pip install openpyxl"
   ]
  },
  {
   "cell_type": "code",
   "execution_count": 1,
   "metadata": {},
   "outputs": [],
   "source": [
    "import openpyxl"
   ]
  },
  {
   "cell_type": "code",
   "execution_count": 7,
   "metadata": {},
   "outputs": [],
   "source": [
    "# 엑셀 파일 생성\n",
    "\n",
    "wb = openpyxl.Workbook() # 워크북 생성\n",
    "ws = wb.active # 워크시트 활성화\n",
    "\n",
    "ws.title = \"Info\"\n",
    "\n",
    "ws.append([1, 2, 3, 4, 5])\n",
    "ws.append([1, 2, 3, 4, 5])\n",
    "ws.append([1, 2, 3, 4, 5])\n",
    "ws.append([1, 2, 3, 4, 5])\n",
    "ws.append([1, 2, 3, 4, 5])\n",
    "\n",
    "ws.merge_cells(\"A1:D1\") # 4개 병합\n",
    "ws.insert_rows(3) # 3행에 행추가\n",
    "ws.insert_rows(3)\n",
    "ws.insert_rows(3)\n",
    "\n",
    "wb.save(\"test.xlsx\")"
   ]
  },
  {
   "cell_type": "code",
   "execution_count": 17,
   "metadata": {},
   "outputs": [],
   "source": [
    "# 엑셀 파일 로드\n",
    "\n",
    "workbook = openpyxl.load_workbook(\"test.xlsx\")\n",
    "\n",
    "worksheet = workbook[\"Info\"] # sheet 이름이 Info인 것 찾아라\n",
    "\n",
    "# 좌표로 값을 가져오는 방법\n",
    "worksheet.cell(3, 3).value # 범위 밖이면 만들어야 가져올 수 있다.\n",
    "\n",
    "# 고유값을 통해서 데이터를 가져오는 방법\n",
    "worksheet[\"B2\"].value\n",
    "\n",
    "# 해당 시트의 최대 행 번호\n",
    "worksheet.max_row\n",
    "\n",
    "# 해당 시트의 최대 행 번호\n",
    "worksheet.max_column\n",
    "\n",
    "# 값 변경\n",
    "worksheet[\"D7\"] = \"비고\"\n",
    "\n",
    "workbook.save(\"test_final.xlsx\")"
   ]
  },
  {
   "cell_type": "code",
   "execution_count": null,
   "metadata": {},
   "outputs": [],
   "source": [
    "# 출결 여부 열을 넣고 저장\n",
    "# 저장을 할 때는 오늘 날짜 기준으로 (2023-06-22.xlsx) 으로 저장을 해주세요.\n",
    "# 시간에 따라 출석 결석\n",
    "# - 45분 이상이면 출석\n",
    "# - 15분 이상 지각\n",
    "# - 그 외 모두 결석\n",
    "for i in range(10):\n",
    "    print(\"A\" + str(i))"
   ]
  },
  {
   "cell_type": "code",
   "execution_count": 21,
   "metadata": {},
   "outputs": [],
   "source": [
    "\n",
    "\n",
    "import openpyxl\n",
    "from datetime import datetime\n",
    "wb = openpyxl.load_workbook(\"zoom.xlsx\")\n",
    "\n",
    "ws = wb[\"Sheet\"]\n",
    "\n",
    "# print(ws.[\"C2\"].value)\n",
    "# print(ws.[\"C3\"].value)\n",
    "# print(ws.[\"C4\"].value)\n",
    "# print(ws.[\"C5\"].value)\n",
    "\n",
    "# 출결 여부 열을 넣고 저장\n",
    "# 저장을 할 때는 오늘 날짜 기준으로 (2023-06-22.xlsx) 으로 저장을 해주세요.\n",
    "# 시간에 따라 출석 결석\n",
    "# - 45분 이상이면 출석\n",
    "# - 15분 이상 지각\n",
    "# - 그 외 모두 결석\n",
    "ws[\"E1\"] = \"출결 여부\"\n",
    "\n",
    "for i in range(2, 31): # 시간 떠옴\n",
    "    \n",
    "    time = int(ws[\"C\" + str(i)].value)\n",
    "\n",
    "\n",
    "\n",
    "# workbook = openpyxl.load_workbook(\"zoom.xlsx\")\n",
    "# ws = wb.active\n",
    "# worksheet = workbook[\"Info\"]\n",
    "# if ws.title  = \"\"\n",
    "# for i in range(30):\n",
    "#     if w.append()\n",
    "\n",
    "# ws.insert_columns(출석 지각 결석)\n",
    "    \n",
    "    attendance = \"\"\n",
    "\n",
    "    if int(time) >= 45:\n",
    "        attendance = \"출석\"\n",
    "    elif int(time) >= 15:\n",
    "        attendance = \"지각\"\n",
    "    else:\n",
    "        attendance = \"결석\"\n",
    "        \n",
    "    ws[\"E\" + str(i)] = attendance\n",
    "        #break attendance\n",
    "\n",
    "# date_time 모듈\n",
    "\n",
    "from datetime import datetime # 시간에 따라 저장\n",
    "today = datetime.today()\n",
    "today = today.strftime(\"%Y-%m-%d\")\n",
    "wb.save(\"{}.xlsx\".format(today)) "
   ]
  },
  {
   "cell_type": "code",
   "execution_count": 19,
   "metadata": {},
   "outputs": [
    {
     "data": {
      "text/plain": [
       "'2023-06-22'"
      ]
     },
     "execution_count": 19,
     "metadata": {},
     "output_type": "execute_result"
    }
   ],
   "source": [
    "from datetime import datetime\n",
    "today = datetime.today()\n",
    "today.strftime(\"%Y-%m-%d\")"
   ]
  },
  {
   "attachments": {},
   "cell_type": "markdown",
   "metadata": {},
   "source": [
    "### 엑셀 자동화"
   ]
  },
  {
   "cell_type": "code",
   "execution_count": 2,
   "metadata": {},
   "outputs": [],
   "source": [
    "import openpyxl"
   ]
  },
  {
   "cell_type": "code",
   "execution_count": 16,
   "metadata": {},
   "outputs": [],
   "source": [
    "# (1) 기업 파일에서 배송 내역을 불러온다.\n",
    "\n",
    "wb_company = openpyxl.load_workbook(\"1.삼성전자.xlsx\") # wb_order_list\n",
    "ws_company = wb_company[\"21.3월\"] # 워크북에 이어 워크시트를 가져와야 수정할 수 있다.\n",
    "\n",
    "# (2) 미션: 업체명, 이메일, 업체번호를 가져오자.\n",
    "\n",
    "company_name = ws_company[\"B2\"].value # 업체명\n",
    "company_num = ws_company[\"F2\"].value # 업체번호\n",
    "\n",
    "# (3) 청구서 파일을 불러온다\n",
    "\n",
    "wb_result = openpyxl.load_workbook(\"양식_청구서.xlsx\")\n",
    "ws_result = wb_result[\"Sheet1\"]\n",
    "\n",
    "# (4) 청구서 파일에 업체명과 업체번호를 넣는다. A2와 B2병합, B4 ~ D4와 B4~D7 병합; 상관 없이 하나만 골라도 됨.\n",
    "# worksheet[\"D7\"] = \"비고\"\n",
    "# ws.merge_cells(\"A1:D1\") # 4개 병합\n",
    "\n",
    "ws_result[\"A2\"] = \"No.\" + str(company_num)\n",
    "ws_result[\"B4\"] = company_name\n",
    "\n",
    "# (5) 청구서_업체명.xlsx로 저장한다.\n",
    "wb_result.save(\"양식_{}.xlsx\".format(company_name))"
   ]
  },
  {
   "cell_type": "code",
   "execution_count": 36,
   "metadata": {},
   "outputs": [
    {
     "name": "stdout",
     "output_type": "stream",
     "text": [
      "21.03.31(수) 0 0\n",
      "21.03.31(수) 0 0\n",
      "21.03.31(수) 0 0\n",
      "21.03.31(수) 0 0\n",
      "21.03.31(수) 0 0\n",
      "21.03.31(수) 0 0\n",
      "21.03.31(수) 0 0\n",
      "21.03.31(수) 0 0\n",
      "21.03.31(수) 0 0\n",
      "21.03.31(수) 0 0\n",
      "21.03.31(수) 0 0\n",
      "21.03.31(수) 0 0\n",
      "21.03.31(수) 0 0\n",
      "21.03.31(수) 0 0\n",
      "21.03.31(수) 0 0\n",
      "21.03.31(수) 0 0\n",
      "21.03.31(수) 0 0\n",
      "21.03.31(수) 0 0\n",
      "21.03.31(수) 0 0\n",
      "21.03.31(수) 0 0\n",
      "21.03.31(수) 0 0\n",
      "21.03.31(수) 0 0\n",
      "21.03.31(수) 0 0\n",
      "21.03.31(수) 0 0\n",
      "21.03.31(수) 0 0\n",
      "21.03.31(수) 0 0\n",
      "21.03.31(수) 0 0\n",
      "21.03.31(수) 0 0\n",
      "21.03.31(수) 0 0\n",
      "21.03.31(수) 0 0\n",
      "21.03.31(수) 0 0\n",
      "21.03.31(수) 0 0\n",
      "21.03.31(수) 0 0\n",
      "21.03.31(수) 0 0\n",
      "21.03.31(수) 0 0\n",
      "21.03.31(수) 0 0\n",
      "21.03.31(수) 0 0\n",
      "21.03.31(수) 0 0\n",
      "21.03.31(수) 0 0\n",
      "21.03.31(수) 12000.0 1\n"
     ]
    }
   ],
   "source": [
    "# 신청날짜를 가져온다. => 중복되는 데이터들이 있다.\n",
    "\n",
    "date_list = []\n",
    "for i in range(5, 45):\n",
    "    date = ws_company['A' + str(i)].value\n",
    "    # print(i)\n",
    "    date_list.append(date)\n",
    "\n",
    "# set() : (1) 중복을 허용x (2) 순서를 보장x\n",
    "date_list = set(date_list) # 집합형 함수; 중복되는 데이터를 제거한다\n",
    "# date_list\n",
    "\n",
    "\n",
    "    # print(i)\n",
    "\n",
    "start_number = 10\n",
    "for date in sorted(date_list):\n",
    "\n",
    "# (1) date -> 청구서에 날짜로 들어간다.\n",
    "\n",
    "    ws_result[\"B\" + str(start_number)] = date\n",
    "    start_number += 1\n",
    "\n",
    "# (2) date -> 배송 건수 계산 // for, if\n",
    "\n",
    "date_num = []\n",
    "total_price = 0\n",
    "\n",
    "for i in range(5, 45):\n",
    "    cell_date = ws_company['A' + str(i)].value\n",
    "\n",
    "\n",
    "    if date == cell_date:\n",
    "        total_price += ws_company[\"F\" + str(i)].value\n",
    "        date_num.append(date)\n",
    "\n",
    "    print(date, total_price, len(date_num))\n",
    "\n",
    "    # 청구서에 갯수 데이터를 넣는다.\n",
    "    ws_result[\"F\" + str(start_number)] = len(date_num)\n",
    "\n",
    "    # 청구서에 해당 날짜의 전체 금액을 넣는다.\n",
    "    ws_result[\"H\" + str(start_number)] = total_price\n",
    "\n",
    "\n",
    "# (3) date -> 배송 요금 계산\n",
    "\n",
    "\n",
    "\n",
    "# 같은 날짜의 배송 건수와 전체 배송 금액 (? 갑자기 사라짐)\n",
    "\n",
    "# wb_result.save(\"양식_{}.xlsx\".format(company_name))\n",
    "wb_result.save(\"청구서_{}.xlsx\".format(company_name))"
   ]
  },
  {
   "cell_type": "code",
   "execution_count": null,
   "metadata": {},
   "outputs": [],
   "source": []
  }
 ],
 "metadata": {
  "kernelspec": {
   "display_name": "Python 3",
   "language": "python",
   "name": "python3"
  },
  "language_info": {
   "codemirror_mode": {
    "name": "ipython",
    "version": 3
   },
   "file_extension": ".py",
   "mimetype": "text/x-python",
   "name": "python",
   "nbconvert_exporter": "python",
   "pygments_lexer": "ipython3",
   "version": "3.11.3"
  },
  "orig_nbformat": 4
 },
 "nbformat": 4,
 "nbformat_minor": 2
}
