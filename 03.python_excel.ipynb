{
 "cells": [
  {
   "attachments": {},
   "cell_type": "markdown",
   "metadata": {},
   "source": [
    "## 엑셀 자동화\n",
    "-openpyxl 라이브러리"
   ]
  },
  {
   "cell_type": "code",
   "execution_count": null,
   "metadata": {},
   "outputs": [],
   "source": [
    "%pip install openpyxl"
   ]
  },
  {
   "cell_type": "code",
   "execution_count": 1,
   "metadata": {},
   "outputs": [],
   "source": [
    "import openpyxl"
   ]
  },
  {
   "cell_type": "code",
   "execution_count": 7,
   "metadata": {},
   "outputs": [],
   "source": [
    "# 엑셀 파일 생성\n",
    "\n",
    "wb = openpyxl.Workbook() # 워크북 생성\n",
    "ws = wb.active # 워크시트 활성화\n",
    "\n",
    "ws.title = \"Info\"\n",
    "\n",
    "ws.append([1, 2, 3, 4, 5])\n",
    "ws.append([1, 2, 3, 4, 5])\n",
    "ws.append([1, 2, 3, 4, 5])\n",
    "ws.append([1, 2, 3, 4, 5])\n",
    "ws.append([1, 2, 3, 4, 5])\n",
    "\n",
    "ws.merge_cells(\"A1:D1\") # 4개 병합\n",
    "ws.insert_rows(3) # 3행에 행추가\n",
    "ws.insert_rows(3)\n",
    "ws.insert_rows(3)\n",
    "\n",
    "wb.save(\"test.xlsx\")"
   ]
  },
  {
   "cell_type": "code",
   "execution_count": 17,
   "metadata": {},
   "outputs": [],
   "source": [
    "# 엑셀 파일 로드\n",
    "\n",
    "workbook = openpyxl.load_workbook(\"test.xlsx\")\n",
    "\n",
    "worksheet = workbook[\"Info\"] # sheet 이름이 Info인 것 찾아라\n",
    "\n",
    "# 좌표로 값을 가져오는 방법\n",
    "worksheet.cell(3, 3).value # 범위 밖이면 만들어야 가져올 수 있다.\n",
    "\n",
    "# 고유값을 통해서 데이터를 가져오는 방법\n",
    "worksheet[\"B2\"].value\n",
    "\n",
    "# 해당 시트의 최대 행 번호\n",
    "worksheet.max_row\n",
    "\n",
    "# 해당 시트의 최대 행 번호\n",
    "worksheet.max_column\n",
    "\n",
    "# 값 변경\n",
    "worksheet[\"D7\"] = \"비고\"\n",
    "\n",
    "workbook.save(\"test_final.xlsx\")"
   ]
  },
  {
   "cell_type": "code",
   "execution_count": null,
   "metadata": {},
   "outputs": [],
   "source": [
    "# 출결 여부 열을 넣고 저장\n",
    "# 저장을 할 때는 오늘 날짜 기준으로 (2023-06-22.xlsx) 으로 저장을 해주세요.\n",
    "# 시간에 따라 출석 결석\n",
    "# - 45분 이상이면 출석\n",
    "# - 15분 이상 지각\n",
    "# - 그 외 모두 결석\n",
    "for i in range(10):\n",
    "    print(\"A\" + str(i))"
   ]
  },
  {
   "cell_type": "code",
   "execution_count": 21,
   "metadata": {},
   "outputs": [],
   "source": [
    "\n",
    "\n",
    "import openpyxl\n",
    "from datetime import datetime\n",
    "wb = openpyxl.load_workbook(\"zoom.xlsx\")\n",
    "\n",
    "ws = wb[\"Sheet\"]\n",
    "\n",
    "# print(ws.[\"C2\"].value)\n",
    "# print(ws.[\"C3\"].value)\n",
    "# print(ws.[\"C4\"].value)\n",
    "# print(ws.[\"C5\"].value)\n",
    "\n",
    "# 출결 여부 열을 넣고 저장\n",
    "# 저장을 할 때는 오늘 날짜 기준으로 (2023-06-22.xlsx) 으로 저장을 해주세요.\n",
    "# 시간에 따라 출석 결석\n",
    "# - 45분 이상이면 출석\n",
    "# - 15분 이상 지각\n",
    "# - 그 외 모두 결석\n",
    "ws[\"E1\"] = \"출결 여부\"\n",
    "\n",
    "for i in range(2, 31): # 시간 떠옴\n",
    "    \n",
    "    time = int(ws[\"C\" + str(i)].value)\n",
    "\n",
    "\n",
    "\n",
    "# workbook = openpyxl.load_workbook(\"zoom.xlsx\")\n",
    "# ws = wb.active\n",
    "# worksheet = workbook[\"Info\"]\n",
    "# if ws.title  = \"\"\n",
    "# for i in range(30):\n",
    "#     if w.append()\n",
    "\n",
    "# ws.insert_columns(출석 지각 결석)\n",
    "    \n",
    "    attendance = \"\"\n",
    "\n",
    "    if int(time) >= 45:\n",
    "        attendance = \"출석\"\n",
    "    elif int(time) >= 15:\n",
    "        attendance = \"지각\"\n",
    "    else:\n",
    "        attendance = \"결석\"\n",
    "        \n",
    "    ws[\"E\" + str(i)] = attendance\n",
    "        #break attendance\n",
    "\n",
    "# date_time 모듈\n",
    "\n",
    "from datetime import datetime # 시간에 따라 저장\n",
    "today = datetime.today()\n",
    "today = today.strftime(\"%Y-%m-%d\")\n",
    "wb.save(\"{}.xlsx\".format(today)) "
   ]
  },
  {
   "cell_type": "code",
   "execution_count": 19,
   "metadata": {},
   "outputs": [
    {
     "data": {
      "text/plain": [
       "'2023-06-22'"
      ]
     },
     "execution_count": 19,
     "metadata": {},
     "output_type": "execute_result"
    }
   ],
   "source": [
    "from datetime import datetime\n",
    "today = datetime.today()\n",
    "today.strftime(\"%Y-%m-%d\")"
   ]
  }
 ],
 "metadata": {
  "kernelspec": {
   "display_name": "Python 3",
   "language": "python",
   "name": "python3"
  },
  "language_info": {
   "codemirror_mode": {
    "name": "ipython",
    "version": 3
   },
   "file_extension": ".py",
   "mimetype": "text/x-python",
   "name": "python",
   "nbconvert_exporter": "python",
   "pygments_lexer": "ipython3",
   "version": "3.11.3"
  },
  "orig_nbformat": 4
 },
 "nbformat": 4,
 "nbformat_minor": 2
}
