{
 "cells": [
  {
   "attachments": {},
   "cell_type": "markdown",
   "metadata": {},
   "source": [
    "### 셀레늄\n",
    "- 데이터 크롤링"
   ]
  },
  {
   "cell_type": "code",
   "execution_count": 1,
   "metadata": {},
   "outputs": [
    {
     "name": "stdout",
     "output_type": "stream",
     "text": [
      "Requirement already satisfied: selenium in c:\\python311\\lib\\site-packages (4.10.0)\n",
      "Requirement already satisfied: urllib3[socks]<3,>=1.26 in c:\\python311\\lib\\site-packages (from selenium) (2.0.3)\n",
      "Requirement already satisfied: trio~=0.17 in c:\\python311\\lib\\site-packages (from selenium) (0.22.0)\n",
      "Requirement already satisfied: trio-websocket~=0.9 in c:\\python311\\lib\\site-packages (from selenium) (0.10.3)\n",
      "Requirement already satisfied: certifi>=2021.10.8 in c:\\python311\\lib\\site-packages (from selenium) (2023.5.7)\n",
      "Requirement already satisfied: attrs>=19.2.0 in c:\\python311\\lib\\site-packages (from trio~=0.17->selenium) (23.1.0)\n",
      "Requirement already satisfied: sortedcontainers in c:\\python311\\lib\\site-packages (from trio~=0.17->selenium) (2.4.0)\n",
      "Requirement already satisfied: async-generator>=1.9 in c:\\python311\\lib\\site-packages (from trio~=0.17->selenium) (1.10)\n",
      "Requirement already satisfied: idna in c:\\python311\\lib\\site-packages (from trio~=0.17->selenium) (3.4)\n",
      "Requirement already satisfied: outcome in c:\\python311\\lib\\site-packages (from trio~=0.17->selenium) (1.2.0)\n",
      "Requirement already satisfied: sniffio in c:\\python311\\lib\\site-packages (from trio~=0.17->selenium) (1.3.0)\n",
      "Requirement already satisfied: cffi>=1.14 in c:\\python311\\lib\\site-packages (from trio~=0.17->selenium) (1.15.1)\n",
      "Requirement already satisfied: exceptiongroup in c:\\python311\\lib\\site-packages (from trio-websocket~=0.9->selenium) (1.1.1)\n",
      "Requirement already satisfied: wsproto>=0.14 in c:\\python311\\lib\\site-packages (from trio-websocket~=0.9->selenium) (1.2.0)\n",
      "Requirement already satisfied: pysocks!=1.5.7,<2.0,>=1.5.6 in c:\\python311\\lib\\site-packages (from urllib3[socks]<3,>=1.26->selenium) (1.7.1)\n",
      "Requirement already satisfied: pycparser in c:\\python311\\lib\\site-packages (from cffi>=1.14->trio~=0.17->selenium) (2.21)\n",
      "Requirement already satisfied: h11<1,>=0.9.0 in c:\\python311\\lib\\site-packages (from wsproto>=0.14->trio-websocket~=0.9->selenium) (0.14.0)\n",
      "Note: you may need to restart the kernel to use updated packages.\n"
     ]
    },
    {
     "name": "stderr",
     "output_type": "stream",
     "text": [
      "\n",
      "[notice] A new release of pip available: 22.3.1 -> 23.1.2\n",
      "[notice] To update, run: python.exe -m pip install --upgrade pip\n"
     ]
    }
   ],
   "source": [
    "%pip install selenium"
   ]
  },
  {
   "cell_type": "code",
   "execution_count": 2,
   "metadata": {},
   "outputs": [],
   "source": [
    "from selenium import webdriver\n",
    "\n",
    "browser = webdriver.Chrome()\n",
    "browser.get(\"https://www.naver.com\") # 창이 떴으면 닫지 말자. 닫고 다시 명령어 실행하면 오류 뜸.\n",
    "# browser.get(\"https://www.google.com\") # 창 2개 연결하면 이거 열고 다음 거 열고 함; 결과적으로 구글 페이지 1개"
   ]
  },
  {
   "cell_type": "code",
   "execution_count": 3,
   "metadata": {},
   "outputs": [
    {
     "ename": "NoSuchElementException",
     "evalue": "Message: no such element: Unable to locate element: {\"method\":\"css selector\",\"selector\":\".shortcut_list\"}\n  (Session info: chrome=114.0.5735.134); For documentation on this error, please visit: https://www.selenium.dev/documentation/webdriver/troubleshooting/errors#no-such-element-exception\nStacktrace:\nBacktrace:\n\tGetHandleVerifier [0x007DA813+48355]\n\t(No symbol) [0x0076C4B1]\n\t(No symbol) [0x00675358]\n\t(No symbol) [0x006A09A5]\n\t(No symbol) [0x006A0B3B]\n\t(No symbol) [0x006CE232]\n\t(No symbol) [0x006BA784]\n\t(No symbol) [0x006CC922]\n\t(No symbol) [0x006BA536]\n\t(No symbol) [0x006982DC]\n\t(No symbol) [0x006993DD]\n\tGetHandleVerifier [0x00A3AABD+2539405]\n\tGetHandleVerifier [0x00A7A78F+2800735]\n\tGetHandleVerifier [0x00A7456C+2775612]\n\tGetHandleVerifier [0x008651E0+616112]\n\t(No symbol) [0x00775F8C]\n\t(No symbol) [0x00772328]\n\t(No symbol) [0x0077240B]\n\t(No symbol) [0x00764FF7]\n\tBaseThreadInitThunk [0x75CD7D59+25]\n\tRtlInitializeExceptionChain [0x7700B74B+107]\n\tRtlClearBits [0x7700B6CF+191]\n",
     "output_type": "error",
     "traceback": [
      "\u001b[1;31m---------------------------------------------------------------------------\u001b[0m",
      "\u001b[1;31mNoSuchElementException\u001b[0m                    Traceback (most recent call last)",
      "Cell \u001b[1;32mIn[3], line 8\u001b[0m\n\u001b[0;32m      1\u001b[0m \u001b[39m# from selenium.webdriver.common.by import By\u001b[39;00m\n\u001b[0;32m      2\u001b[0m \u001b[39m# shortcut_list_element = browser.find_element(By.CLASS_NAME, 'shortcut_list')\u001b[39;00m\n\u001b[0;32m      3\u001b[0m \u001b[39m# a = shortcut_list_element.text.split('\\n')\u001b[39;00m\n\u001b[0;32m      4\u001b[0m \u001b[39m# a\u001b[39;00m\n\u001b[0;32m      6\u001b[0m \u001b[39mfrom\u001b[39;00m \u001b[39mselenium\u001b[39;00m\u001b[39m.\u001b[39;00m\u001b[39mwebdriver\u001b[39;00m\u001b[39m.\u001b[39;00m\u001b[39mcommon\u001b[39;00m\u001b[39m.\u001b[39;00m\u001b[39mby\u001b[39;00m \u001b[39mimport\u001b[39;00m By\n\u001b[1;32m----> 8\u001b[0m a \u001b[39m=\u001b[39m browser\u001b[39m.\u001b[39;49mfind_element(By\u001b[39m.\u001b[39;49mCLASS_NAME, \u001b[39m'\u001b[39;49m\u001b[39mshortcut_list\u001b[39;49m\u001b[39m'\u001b[39;49m)\u001b[39m.\u001b[39mtext\u001b[39m.\u001b[39msplit(\u001b[39m\"\u001b[39m\u001b[39m\\n\u001b[39;00m\u001b[39m\"\u001b[39m)\n\u001b[0;32m      9\u001b[0m a\n",
      "File \u001b[1;32mc:\\Python311\\Lib\\site-packages\\selenium\\webdriver\\remote\\webdriver.py:740\u001b[0m, in \u001b[0;36mWebDriver.find_element\u001b[1;34m(self, by, value)\u001b[0m\n\u001b[0;32m    737\u001b[0m     by \u001b[39m=\u001b[39m By\u001b[39m.\u001b[39mCSS_SELECTOR\n\u001b[0;32m    738\u001b[0m     value \u001b[39m=\u001b[39m \u001b[39mf\u001b[39m\u001b[39m'\u001b[39m\u001b[39m[name=\u001b[39m\u001b[39m\"\u001b[39m\u001b[39m{\u001b[39;00mvalue\u001b[39m}\u001b[39;00m\u001b[39m\"\u001b[39m\u001b[39m]\u001b[39m\u001b[39m'\u001b[39m\n\u001b[1;32m--> 740\u001b[0m \u001b[39mreturn\u001b[39;00m \u001b[39mself\u001b[39;49m\u001b[39m.\u001b[39;49mexecute(Command\u001b[39m.\u001b[39;49mFIND_ELEMENT, {\u001b[39m\"\u001b[39;49m\u001b[39musing\u001b[39;49m\u001b[39m\"\u001b[39;49m: by, \u001b[39m\"\u001b[39;49m\u001b[39mvalue\u001b[39;49m\u001b[39m\"\u001b[39;49m: value})[\u001b[39m\"\u001b[39m\u001b[39mvalue\u001b[39m\u001b[39m\"\u001b[39m]\n",
      "File \u001b[1;32mc:\\Python311\\Lib\\site-packages\\selenium\\webdriver\\remote\\webdriver.py:346\u001b[0m, in \u001b[0;36mWebDriver.execute\u001b[1;34m(self, driver_command, params)\u001b[0m\n\u001b[0;32m    344\u001b[0m response \u001b[39m=\u001b[39m \u001b[39mself\u001b[39m\u001b[39m.\u001b[39mcommand_executor\u001b[39m.\u001b[39mexecute(driver_command, params)\n\u001b[0;32m    345\u001b[0m \u001b[39mif\u001b[39;00m response:\n\u001b[1;32m--> 346\u001b[0m     \u001b[39mself\u001b[39;49m\u001b[39m.\u001b[39;49merror_handler\u001b[39m.\u001b[39;49mcheck_response(response)\n\u001b[0;32m    347\u001b[0m     response[\u001b[39m\"\u001b[39m\u001b[39mvalue\u001b[39m\u001b[39m\"\u001b[39m] \u001b[39m=\u001b[39m \u001b[39mself\u001b[39m\u001b[39m.\u001b[39m_unwrap_value(response\u001b[39m.\u001b[39mget(\u001b[39m\"\u001b[39m\u001b[39mvalue\u001b[39m\u001b[39m\"\u001b[39m, \u001b[39mNone\u001b[39;00m))\n\u001b[0;32m    348\u001b[0m     \u001b[39mreturn\u001b[39;00m response\n",
      "File \u001b[1;32mc:\\Python311\\Lib\\site-packages\\selenium\\webdriver\\remote\\errorhandler.py:245\u001b[0m, in \u001b[0;36mErrorHandler.check_response\u001b[1;34m(self, response)\u001b[0m\n\u001b[0;32m    243\u001b[0m         alert_text \u001b[39m=\u001b[39m value[\u001b[39m\"\u001b[39m\u001b[39malert\u001b[39m\u001b[39m\"\u001b[39m]\u001b[39m.\u001b[39mget(\u001b[39m\"\u001b[39m\u001b[39mtext\u001b[39m\u001b[39m\"\u001b[39m)\n\u001b[0;32m    244\u001b[0m     \u001b[39mraise\u001b[39;00m exception_class(message, screen, stacktrace, alert_text)  \u001b[39m# type: ignore[call-arg]  # mypy is not smart enough here\u001b[39;00m\n\u001b[1;32m--> 245\u001b[0m \u001b[39mraise\u001b[39;00m exception_class(message, screen, stacktrace)\n",
      "\u001b[1;31mNoSuchElementException\u001b[0m: Message: no such element: Unable to locate element: {\"method\":\"css selector\",\"selector\":\".shortcut_list\"}\n  (Session info: chrome=114.0.5735.134); For documentation on this error, please visit: https://www.selenium.dev/documentation/webdriver/troubleshooting/errors#no-such-element-exception\nStacktrace:\nBacktrace:\n\tGetHandleVerifier [0x007DA813+48355]\n\t(No symbol) [0x0076C4B1]\n\t(No symbol) [0x00675358]\n\t(No symbol) [0x006A09A5]\n\t(No symbol) [0x006A0B3B]\n\t(No symbol) [0x006CE232]\n\t(No symbol) [0x006BA784]\n\t(No symbol) [0x006CC922]\n\t(No symbol) [0x006BA536]\n\t(No symbol) [0x006982DC]\n\t(No symbol) [0x006993DD]\n\tGetHandleVerifier [0x00A3AABD+2539405]\n\tGetHandleVerifier [0x00A7A78F+2800735]\n\tGetHandleVerifier [0x00A7456C+2775612]\n\tGetHandleVerifier [0x008651E0+616112]\n\t(No symbol) [0x00775F8C]\n\t(No symbol) [0x00772328]\n\t(No symbol) [0x0077240B]\n\t(No symbol) [0x00764FF7]\n\tBaseThreadInitThunk [0x75CD7D59+25]\n\tRtlInitializeExceptionChain [0x7700B74B+107]\n\tRtlClearBits [0x7700B6CF+191]\n"
     ]
    }
   ],
   "source": [
    "# from selenium.webdriver.common.by import By\n",
    "# shortcut_list_element = browser.find_element(By.CLASS_NAME, 'shortcut_list')\n",
    "# a = shortcut_list_element.text.split('\\n')\n",
    "# a\n",
    "\n",
    "from selenium.webdriver.common.by import By\n",
    "\n",
    "a = browser.find_element(By.CLASS_NAME, 'shortcut_list').text.split(\"\\n\")\n",
    "a"
   ]
  },
  {
   "cell_type": "code",
   "execution_count": null,
   "metadata": {},
   "outputs": [],
   "source": [
    "browser.find_element(By.ID, 'query').click()"
   ]
  },
  {
   "cell_type": "code",
   "execution_count": null,
   "metadata": {},
   "outputs": [],
   "source": [
    "browser.find_element(By.ID, 'query').send_keys(\"날씨\")"
   ]
  },
  {
   "cell_type": "code",
   "execution_count": null,
   "metadata": {},
   "outputs": [],
   "source": [
    "browser.find_element(By.ID, 'search-btn').click()\n",
    "#클릭"
   ]
  },
  {
   "cell_type": "code",
   "execution_count": null,
   "metadata": {},
   "outputs": [
    {
     "name": "stdout",
     "output_type": "stream",
     "text": [
      "23.6°\n",
      "82%\n",
      "0.5m/s\n"
     ]
    },
    {
     "data": {
      "text/plain": [
       "['체감 23.6°', '습도 82%', '서풍 0.5m/s']"
      ]
     },
     "execution_count": 14,
     "metadata": {},
     "output_type": "execute_result"
    }
   ],
   "source": [
    "# 온도 가져옴\n",
    "parent = browser.find_element(By.CLASS_NAME, 'summary_list')\n",
    "childs = parent.find_elements(By.CLASS_NAME, 'sort')\n",
    "\n",
    "data_list = []\n",
    "for i in childs:\n",
    "    data_list.append(i.text)\n",
    "    print(i.find_element(By.CLASS_NAME, 'desc').text)\n",
    "# # 20.2 가져오기\n",
    "# parent.find_element(By.TAG_NAME, 'strong').text\n",
    "\n",
    "\n",
    "data_list\n"
   ]
  },
  {
   "cell_type": "code",
   "execution_count": null,
   "metadata": {},
   "outputs": [
    {
     "ename": "AttributeError",
     "evalue": "'list' object has no attribute 'text'",
     "output_type": "error",
     "traceback": [
      "\u001b[1;31m---------------------------------------------------------------------------\u001b[0m",
      "\u001b[1;31mAttributeError\u001b[0m                            Traceback (most recent call last)",
      "Cell \u001b[1;32mIn[15], line 3\u001b[0m\n\u001b[0;32m      1\u001b[0m data \u001b[39m=\u001b[39m [\u001b[39m\"\u001b[39m\u001b[39melement_1\u001b[39m\u001b[39m\"\u001b[39m, \u001b[39m\"\u001b[39m\u001b[39melement_2\u001b[39m\u001b[39m\"\u001b[39m, \u001b[39m\"\u001b[39m\u001b[39melement_3\u001b[39m\u001b[39m\"\u001b[39m, \u001b[39m\"\u001b[39m\u001b[39melement_4\u001b[39m\u001b[39m\"\u001b[39m]\n\u001b[1;32m----> 3\u001b[0m data\u001b[39m.\u001b[39;49mtext\n",
      "\u001b[1;31mAttributeError\u001b[0m: 'list' object has no attribute 'text'"
     ]
    }
   ],
   "source": [
    "data = [\"element_1\", \"element_2\", \"element_3\", \"element_4\"]\n",
    "\n",
    "data.text\n",
    "# list가 나오면 for문을 떠올려라\n",
    "\n",
    "# for i in data:\n",
    "#     data.append(i.text)\n",
    "#     print(i.find_element(By.CLASS_NAME, 'desc').text)"
   ]
  },
  {
   "cell_type": "code",
   "execution_count": null,
   "metadata": {},
   "outputs": [],
   "source": [
    "# 환율 데이터 가져오기\n",
    "url = \"https://search.naver.com/search.naver?where=nexearch&sm=top_hty&fbm=0&ie=utf8&query=%ED%99%98%EC%9C%A8\"\n",
    "browser.get(url)"
   ]
  },
  {
   "cell_type": "code",
   "execution_count": null,
   "metadata": {},
   "outputs": [
    {
     "data": {
      "text/plain": [
       "'1,291.60'"
      ]
     },
     "execution_count": 65,
     "metadata": {},
     "output_type": "execute_result"
    }
   ],
   "source": [
    "browser.find_element(By.XPATH, '//*[@id=\"_cs_foreigninfo\"]/div[1]/div[2]/div/div[1]/div[1]/div[1]/div[1]/h3/a/span[2]/strong').text\n",
    "# spt_con up 에서 자녀로 blind를 받거나\n",
    "# 요소 위에서 오른쪽 우클릭 XPATH copy 후 By.XPATH에 입력"
   ]
  },
  {
   "attachments": {},
   "cell_type": "markdown",
   "metadata": {},
   "source": [
    "### 구글 뉴스 크롤링"
   ]
  },
  {
   "cell_type": "code",
   "execution_count": null,
   "metadata": {},
   "outputs": [],
   "source": [
    "from selenium import webdriver\n",
    "from selenium.webdriver.common.by import By"
   ]
  },
  {
   "cell_type": "code",
   "execution_count": null,
   "metadata": {},
   "outputs": [],
   "source": [
    "browser = webdriver.Chrome()"
   ]
  },
  {
   "cell_type": "code",
   "execution_count": 9,
   "metadata": {},
   "outputs": [
    {
     "data": {
      "text/plain": [
       "'자동화 - Google 검색'"
      ]
     },
     "execution_count": 9,
     "metadata": {},
     "output_type": "execute_result"
    }
   ],
   "source": [
    "url = 'https://www.google.com/search?q=%EC%9E%90%EB%8F%99%ED%99%94&biw=338&bih=691&tbm=nws&ei=OHaSZLekH4P1hwPF_52QAg&ved=0ahUKEwi3oJ-jvdP_AhWD-mEKHcV_ByIQ4dUDCA0&uact=5&oq=%EC%9E%90%EB%8F%99%ED%99%94&gs_lcp=Cgxnd3Mtd2l6LW5ld3MQAzILCAAQgAQQsQMQgwEyBQgAEIAEMgUIABCABDIFCAAQgAQyBQgAEIAEMgUIABCABDIFCAAQgAQyBQgAEIAEMgUIABCABDIFCAAQgAQ6CAgAEIAEELEDOgQIABADUABY-DZgqTloD3AAeACAAXWIAYQIkgEDNC42mAEAoAEBsAEAwAEB&sclient=gws-wiz-news'\n",
    "browser.get(url)\n",
    "\n",
    "browser.title"
   ]
  },
  {
   "cell_type": "code",
   "execution_count": 10,
   "metadata": {},
   "outputs": [
    {
     "data": {
      "text/plain": [
       "('뉴로메카-원익로보틱스, 로봇 자동화 개발 맞손',\n",
       " '협동로봇 제조기업 뉴로메카가 19일 원익로보틱스와 판교 원익빌딩에서 로봇·자동화 개발 사업 추진을 위한 상호 협력 양해각서를 체결했다.',\n",
       " 'https://zdnet.co.kr/view/?no=20230620104928')"
      ]
     },
     "execution_count": 10,
     "metadata": {},
     "output_type": "execute_result"
    }
   ],
   "source": [
    "# 첫 번째 뉴스의 제목, 내용, 링크 가져오기\n",
    "title = browser.find_element(By.CLASS_NAME, 'n0jPhd').text\n",
    "title\n",
    "\n",
    "content = browser.find_element(By.CLASS_NAME, 'GI74Re').text\n",
    "content\n",
    "\n",
    "link = browser.find_element(By.CLASS_NAME, 'WlydOe').get_attribute('href')\n",
    "link\n",
    "\n",
    "title, content, link"
   ]
  },
  {
   "cell_type": "code",
   "execution_count": 11,
   "metadata": {},
   "outputs": [
    {
     "name": "stdout",
     "output_type": "stream",
     "text": [
      "뉴로메카-원익로보틱스, 로봇 자동화 개발 맞손\n",
      "에스피시스템스, 66억 규모 로봇 자동화 시스템 공급 계약[주목 e공시]\n",
      "에스피시스템스, 65억원 규모 산업용 로봇 자동화 시스템 계약 By MoneyS\n",
      "\"변곡점에 이른 현대 업무, AI와 자동화가 열쇠\" 슬랙 업무 현황 보고서 2023\n",
      "에스피시스템스, 66억 규모 로봇 자동화 시스템 공급계약\n",
      "뉴로메카-원익로보틱스, '혁신 로봇·자동화 기술 고도화' 맞손\n",
      "이노버스, 과기부 장관 표창… AIoT 기술 통한 재활용 시스템 자동화 공로\n",
      "인터뷰 | 아틀란틱 헬스 시스템, 지능형 자동화로 보험 승인을 간소화하다\n",
      "빅데이터·AI 시대 회계감사…전수 조사·자동화 등\n",
      "에스피시스템스 수주공시 - 산업용 로봇 자동화 시스템(인버터 및 모터 케이스 제조라인) 65.5억원 (매출액대비 12.3 %)\n"
     ]
    }
   ],
   "source": [
    "# 1페이지에 있는 전체 뉴스 데이터를 가져오기\n",
    "titles = browser.find_elements(By.CLASS_NAME, 'n0jPhd')\n",
    "for i in titles:\n",
    "    print(i.text)"
   ]
  },
  {
   "cell_type": "code",
   "execution_count": 12,
   "metadata": {},
   "outputs": [
    {
     "name": "stdout",
     "output_type": "stream",
     "text": [
      "협동로봇 제조기업 뉴로메카가 19일 원익로보틱스와 판교 원익빌딩에서 로봇·자동화 개발 사업 추진을 위한 상호 협력 양해각서를 체결했다.\n",
      "는 코넥과 66억원 규모의 산업용 로봇 자동화 시스템 공급계약을 체결했다고 21일 공시했다. 계약 금액은 65억5000만원으로 지난해 연결 기준 매출액...\n",
      "에스피시스템스는 코넥과 65억원 규모의 산업용 로봇 자동화 시스템 공급 계약을 체결했다고 21일 공시했다. 계약 금액은 최근 매출액 대비 12.3%에...\n",
      "슬랙에 따르면 현대의 업무는 새로운 변곡점에 도달했다. 많은 사무직 노동자가 경제적 불확실성과 빡빡한 운영 요구사항에 직면한 가운데, 생성형 A.\n",
      "[서울=뉴시스] 김경택 기자 = 에스피시스템스는 코넥과 66억원 규모의 산업용 로봇 자동화 시스템 공급계약을 체결했다고 21일 공시했다.\n",
      "뉴로메카는 원익로보틱스와 최근 판교 원익빌딩에서 '로봇·자동화 개발 사업 추진'을 위한 업무협약(MOU)을 맺었다고 21일 밝혔다.\n",
      "[일간투데이 한지연 기자] 환경 엔지니어링 기업 주식회사 이노버스(대표 장진혁)가 지난 15일 개최된 2023년 '제36회 정보문화의 달 기념식'에서...\n",
      "의료 서비스 전문 업체인 아틀란틱 헬스 시스템(Atlantic Health System)은 빠르게 환자 치료를 지원하기 위해 지능형 자동화로 비.\n",
      "한국공인회계사회 회계현안 세미나 '빅데이터와 AI시대 회계감사' 4대 회계법인 활용 사례 및 계획 발표 한공회, 교육 커리큘럼 및 자격시험 평가법...\n",
      "에스피시스템스 수주공시 - 산업용 로봇 자동화 시스템(인버터 및 모터 케이스 제조라인) 65.5억원 (매출액대비 12.3 %), 뉴스.\n"
     ]
    }
   ],
   "source": [
    "contents = browser.find_elements(By.CLASS_NAME, 'GI74Re')\n",
    "for i in contents:\n",
    "    print(i.text)"
   ]
  },
  {
   "cell_type": "code",
   "execution_count": 13,
   "metadata": {},
   "outputs": [
    {
     "name": "stdout",
     "output_type": "stream",
     "text": [
      "https://zdnet.co.kr/view/?no=20230620104928\n",
      "https://www.hankyung.com/finance/article/2023062140606\n",
      "https://kr.investing.com/news/stock-market-news/article-919731\n",
      "https://www.itworld.co.kr/news/295747\n",
      "https://www.fnnews.com/news/202306211143537130\n",
      "https://www.etnews.com/20230621000154\n",
      "http://www.dtoday.co.kr/news/articleView.html?idxno=603552\n",
      "https://www.ciokorea.com/news/295783\n",
      "https://www.dnews.co.kr/uhtml/view.jsp?idxno=202306210004036640485\n",
      "https://www.hankyung.com/finance/article/202306213992L\n"
     ]
    }
   ],
   "source": [
    "links = browser.find_elements(By.CLASS_NAME, 'WlydOe')\n",
    "for i in links:\n",
    "    print(i.get_attribute('href'))"
   ]
  },
  {
   "cell_type": "code",
   "execution_count": 18,
   "metadata": {},
   "outputs": [],
   "source": [
    "# 1페이지에 있는 전체 뉴스 데이터를 가져오기\n",
    "parents = browser.find_elements(By.CLASS_NAME, 'SoaBEf')\n",
    "\n",
    "title_list = []\n",
    "content_list = []\n",
    "link_list = []\n",
    "\n",
    "for elem in parents:\n",
    "    title = elem.find_element(By.CLASS_NAME, 'n0jPhd').text\n",
    "    content = elem.find_element(By.CLASS_NAME, 'GI74Re').text\n",
    "    link = elem.find_element(By.CLASS_NAME, 'WlydOe').get_attribute('href')\n",
    "\n",
    "    title_list.append(title)\n",
    "    content_list.append(content)\n",
    "    link_list.append(link)\n",
    "    \n",
    "\n"
   ]
  },
  {
   "attachments": {},
   "cell_type": "markdown",
   "metadata": {},
   "source": [
    "### 구글 뉴스 크롤링"
   ]
  },
  {
   "cell_type": "code",
   "execution_count": null,
   "metadata": {},
   "outputs": [],
   "source": [
    "from selenium import webdriver\n",
    "from selenium.webdriver.common.by import By"
   ]
  },
  {
   "cell_type": "code",
   "execution_count": null,
   "metadata": {},
   "outputs": [],
   "source": [
    "browser = webdriver.Chrome()"
   ]
  },
  {
   "cell_type": "code",
   "execution_count": 19,
   "metadata": {},
   "outputs": [],
   "source": [
    "url = 'https://www.google.com/search?q=%EC%9E%90%EB%8F%99%ED%99%94&biw=338&bih=691&tbm=nws&ei=OHaSZLekH4P1hwPF_52QAg&ved=0ahUKEwi3oJ-jvdP_AhWD-mEKHcV_ByIQ4dUDCA0&uact=5&oq=%EC%9E%90%EB%8F%99%ED%99%94&gs_lcp=Cgxnd3Mtd2l6LW5ld3MQAzILCAAQgAQQsQMQgwEyBQgAEIAEMgUIABCABDIFCAAQgAQyBQgAEIAEMgUIABCABDIFCAAQgAQyBQgAEIAEMgUIABCABDIFCAAQgAQ6CAgAEIAEELEDOgQIABADUABY-DZgqTloD3AAeACAAXWIAYQIkgEDNC42mAEAoAEBsAEAwAEB&sclient=gws-wiz-news'\n",
    "browser.get(url)"
   ]
  },
  {
   "cell_type": "code",
   "execution_count": null,
   "metadata": {},
   "outputs": [
    {
     "data": {
      "text/plain": [
       "(\"파씨온택, 자동화 기술 솔루션 공급업체로 '우뚝'\",\n",
       " '업력 3년이 채 되지 않은 자동화기기 부품ㆍ기술 제공기업 ㈜파씨온택이 자동화ㆍ전력기기 유통 시장에서 대형 계약을 연속 따내며 소프트웨어까지...',\n",
       " 'https://www.eroun.net/news/articleView.html?idxno=33511')"
      ]
     },
     "execution_count": 141,
     "metadata": {},
     "output_type": "execute_result"
    }
   ],
   "source": [
    "# 첫 번째 뉴스의 제목, 내용, 링크 가져오기\n",
    "\n",
    "title = browser.find_element(By.CLASS_NAME, 'n0jPhd').text\n",
    "title\n",
    "\n",
    "content = browser.find_element(By.CLASS_NAME, 'GI74Re').text\n",
    "content\n",
    "\n",
    "# 링크는 a 태그\n",
    "\n",
    "link = browser.find_element(By.CLASS_NAME, 'WlydOe').get_attribute('href')\n",
    "link\n",
    "\n",
    "title, content, link"
   ]
  },
  {
   "cell_type": "code",
   "execution_count": null,
   "metadata": {},
   "outputs": [
    {
     "name": "stdout",
     "output_type": "stream",
     "text": [
      "파씨온택, 자동화 기술 솔루션 공급업체로 '우뚝'\n",
      "현대글로비스, 물류자동화 SW 전문기업 인수 '주목'\n",
      "회계감사, 자동화 등 AI·빅데이터 도입···남은 과제는?\n",
      "뉴로메카-원익로보틱스, '혁신 로봇·자동화 기술 고도화' 맞손\n",
      "에스피시스템스, 65억원 규모 산업용 로봇 자동화 시스템 계약 부터 MoneyS\n",
      "한국이 만든 철도 자동화 운전기술, 첫 실증시험 돌입\n",
      "빅데이터·AI 시대 회계감사…전수 조사·자동화 등\n",
      "에스피시스템스, 65억원 규모 산업용 로봇 자동화 시스템 계약\n",
      "[2023 AMWC] 자동화에서 자율화로… 디지털 트윈 통한 제조 최적화 구현\n",
      "자동화된 출장예약·경비분석·전자결재, 지출관리 걱정없어\n"
     ]
    }
   ],
   "source": [
    "# 1페이지에 있는 전체 뉴스 데이터를 가져오기\n",
    "\n",
    "titles = browser.find_elements(By.CLASS_NAME, 'n0jPhd')\n",
    "for i in titles:\n",
    "    print(i.text)"
   ]
  },
  {
   "cell_type": "code",
   "execution_count": null,
   "metadata": {},
   "outputs": [
    {
     "name": "stdout",
     "output_type": "stream",
     "text": [
      "업력 3년이 채 되지 않은 자동화기기 부품ㆍ기술 제공기업 ㈜파씨온택이 자동화ㆍ전력기기 유통 시장에서 대형 계약을 연속 따내며 소프트웨어까지...\n",
      "현대글로비스가 미래 성장동력으로 발굴한 스마트물류솔루션 사업에 박차를 가한다. 이를 위해 물류 자동화 소프트웨어 전문성을 갖춘 국내 전문 정보...\n",
      "[서울파이낸스 박조아 기자] \"인공지능, 로봇 공학, 블록체인, 빅데이터 등 새로운 기술 발전은 산업 현장부터 일상생활에 이르기까지 우리 사회의...\n",
      "뉴로메카는 원익로보틱스와 최근 판교 원익빌딩에서 '로봇·자동화 개발 사업 추진'을 위한 업무협약(MOU)을 맺었다고 21일 밝혔다.\n",
      "에스피시스템스는 코넥과 65억원 규모의 산업용 로봇 자동화 시스템 공급 계약을 체결했다고 21일 공시했다. 계약 금액은 최근 매출액 대비 12.3%에...\n",
      "(엔지니어링데일리) 이명주 기자 = 국산 열차 제어시스템이 본격적인 검증 과정에 돌입한다.20일 국가철도공단은 차세대 열차제어시스템인 KTCS-3...\n",
      "한국공인회계사회 회계현안 세미나 '빅데이터와 AI시대 회계감사' 4대 회계법인 활용 사례 및 계획 발표 한공회, 교육 커리큘럼 및 자격시험 평가법...\n",
      "에스피시스템스는 코넥과 65억원 규모의 산업용 로봇 자동화 시스템 공급 계약을 체결했다고 21일 공시했다.계약 금액은 최근 매출액 대비 12.3%에...\n",
      "[인더스트리뉴스 이건오 기자] 카이스트 장영재 교수가 6월 20일 서울 코엑스(COEX) 그랜드볼룸에서 개최된 '2023 자율생산 월드콩그레스(AMWC)'에...\n",
      "디지털 경비지출관리 솔루션 전문기업 비즈플레이(대표 김홍기)가 B2B상용출장솔루션 제공 기업 현대드림투어(대표 장영순)와 연동한 출장예약 서비스...\n"
     ]
    }
   ],
   "source": [
    "contents = browser.find_elements(By.CLASS_NAME, 'GI74Re')\n",
    "for i in contents:\n",
    "    print(i.text)"
   ]
  },
  {
   "cell_type": "code",
   "execution_count": null,
   "metadata": {},
   "outputs": [
    {
     "name": "stdout",
     "output_type": "stream",
     "text": [
      "https://www.eroun.net/news/articleView.html?idxno=33511\n",
      "https://www.shippingnewsnet.com/news/articleView.html?idxno=54320\n",
      "http://www.seoulfn.com/news/articleView.html?idxno=488434\n",
      "https://www.etnews.com/20230621000154\n",
      "https://kr.investing.com/news/stock-market-news/article-919731\n",
      "https://www.engdaily.com/news/articleView.html?idxno=16499\n",
      "https://www.dnews.co.kr/uhtml/view.jsp?idxno=202306210004036640485\n",
      "https://www.moneys.co.kr/news/mwView.php?no=2023062113093161525\n",
      "http://www.industrynews.co.kr/news/articleView.html?idxno=50138\n",
      "https://www.gttkorea.com/news/articleView.html?idxno=5683\n"
     ]
    }
   ],
   "source": [
    "links = browser.find_elements(By.CLASS_NAME, 'WlydOe') # 리스트에 .attribute는 불가능; 오류\n",
    "for i in links:\n",
    "    print(i.get_attribute('href'))\n",
    "\n",
    "# 내용이 빠진 뉴스가 껴있으면 순서가 뒤바뀔 수 있어서 좋은 방식은 아님"
   ]
  },
  {
   "cell_type": "code",
   "execution_count": 20,
   "metadata": {},
   "outputs": [],
   "source": [
    "# 리액트 map으로 뿌려지는 컴포넌트들이기에.\n",
    "# 부모들을 찾아 컨테이너들을 가져온다.\n",
    "\n",
    "containers = browser.find_elements(By.CLASS_NAME, 'SoaBEf')\n",
    "\n",
    "title_list = []\n",
    "content_list = []\n",
    "link_list = []\n",
    "\n",
    "for elem in containers:\n",
    "    title = elem.find_element(By.CLASS_NAME, 'n0jPhd').text\n",
    "# 비어있으면 넘겨버리면 된다.\n",
    "    content = elem.find_element(By.CLASS_NAME, 'GI74Re').text\n",
    "\n",
    "    link = elem.find_element(By.CLASS_NAME, 'WlydOe').get_attribute('href')\n",
    "\n",
    "    # print(link)\n",
    "\n",
    "    # 엑셀 저장을 위함\n",
    "    title_list.append(title)\n",
    "    content_list.append(content)\n",
    "    link_list.append(link)"
   ]
  },
  {
   "cell_type": "code",
   "execution_count": null,
   "metadata": {},
   "outputs": [
    {
     "name": "stdout",
     "output_type": "stream",
     "text": [
      "Collecting pandas\n",
      "  Using cached pandas-2.0.2-cp311-cp311-win_amd64.whl (10.6 MB)\n",
      "Requirement already satisfied: python-dateutil>=2.8.2 in c:\\users\\bangm\\appdata\\roaming\\python\\python311\\site-packages (from pandas) (2.8.2)\n",
      "Requirement already satisfied: pytz>=2020.1 in c:\\python311\\lib\\site-packages (from pandas) (2023.3)\n",
      "Requirement already satisfied: tzdata>=2022.1 in c:\\python311\\lib\\site-packages (from pandas) (2023.3)\n",
      "Requirement already satisfied: numpy>=1.21.0 in c:\\python311\\lib\\site-packages (from pandas) (1.25.0)\n",
      "Requirement already satisfied: six>=1.5 in c:\\users\\bangm\\appdata\\roaming\\python\\python311\\site-packages (from python-dateutil>=2.8.2->pandas) (1.16.0)\n",
      "Installing collected packages: pandas\n",
      "Successfully installed pandas-2.0.2\n",
      "Note: you may need to restart the kernel to use updated packages.\n"
     ]
    },
    {
     "name": "stderr",
     "output_type": "stream",
     "text": [
      "\n",
      "[notice] A new release of pip available: 22.3.1 -> 23.1.2\n",
      "[notice] To update, run: python.exe -m pip install --upgrade pip\n"
     ]
    }
   ],
   "source": [
    "%pip install pandas"
   ]
  },
  {
   "cell_type": "code",
   "execution_count": 21,
   "metadata": {},
   "outputs": [],
   "source": [
    "import pandas as pd"
   ]
  },
  {
   "cell_type": "code",
   "execution_count": null,
   "metadata": {},
   "outputs": [],
   "source": [
    "data = {\n",
    "    \"제목\" : title_list,\n",
    "    \"내용\" : content_list,\n",
    "    \"링크\" : link_list\n",
    "}\n",
    "\n",
    "df = pd.DataFrame(data)\n",
    "# df # dataframe\n",
    "df.to_csv(\"구글 뉴스 크롤링.csv\")"
   ]
  },
  {
   "cell_type": "code",
   "execution_count": null,
   "metadata": {},
   "outputs": [],
   "source": []
  }
 ],
 "metadata": {
  "kernelspec": {
   "display_name": "Python 3",
   "language": "python",
   "name": "python3"
  },
  "language_info": {
   "codemirror_mode": {
    "name": "ipython",
    "version": 3
   },
   "file_extension": ".py",
   "mimetype": "text/x-python",
   "name": "python",
   "nbconvert_exporter": "python",
   "pygments_lexer": "ipython3",
   "version": "3.11.3"
  },
  "orig_nbformat": 4
 },
 "nbformat": 4,
 "nbformat_minor": 2
}
