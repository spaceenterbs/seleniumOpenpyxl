{
 "cells": [
  {
   "attachments": {},
   "cell_type": "markdown",
   "metadata": {},
   "source": [
    "### 파이썬 자료형\n",
    "- 숫자형, 문자형, 리스트, 튜플형, 딕셔너리형, 집합형, 불형\n",
    "* 자료를 담는 그릇"
   ]
  },
  {
   "cell_type": "code",
   "execution_count": 1,
   "metadata": {},
   "outputs": [
    {
     "data": {
      "text/plain": [
       "str"
      ]
     },
     "execution_count": 1,
     "metadata": {},
     "output_type": "execute_result"
    }
   ],
   "source": [
    "a = \"a\"\n",
    "type(a)"
   ]
  },
  {
   "cell_type": "code",
   "execution_count": 4,
   "metadata": {},
   "outputs": [
    {
     "name": "stdout",
     "output_type": "stream",
     "text": [
      "Act as though \n",
      "it is impossible to fail\n"
     ]
    }
   ],
   "source": [
    "a = 'Act as though \\nit is impossible to fail'\n",
    "print(a)"
   ]
  },
  {
   "cell_type": "code",
   "execution_count": 7,
   "metadata": {},
   "outputs": [
    {
     "name": "stdout",
     "output_type": "stream",
     "text": [
      "\"Failure is simply the opportunity to begin again.\" he says.\"\n"
     ]
    }
   ],
   "source": [
    "# a = '\"Failure is simply the opportunity to begin again.\" he says.\"'\n",
    "a = \"\\\"Failure is simply the opportunity to begin again.\\\" he says.\\\"\"\n",
    "print(a)"
   ]
  },
  {
   "cell_type": "code",
   "execution_count": 9,
   "metadata": {},
   "outputs": [
    {
     "data": {
      "text/plain": [
       "'Life is good'"
      ]
     },
     "execution_count": 9,
     "metadata": {},
     "output_type": "execute_result"
    }
   ],
   "source": [
    "a = 'Life'\n",
    "b = ' is good'\n",
    "a + b"
   ]
  },
  {
   "cell_type": "code",
   "execution_count": 10,
   "metadata": {},
   "outputs": [
    {
     "name": "stdout",
     "output_type": "stream",
     "text": [
      "Life\n",
      "Life\n",
      "Life\n",
      "Life\n",
      "Life\n",
      "Life\n",
      "Life\n",
      "Life\n",
      "Life\n",
      "Life\n",
      "\n"
     ]
    }
   ],
   "source": [
    "a = 'Life\\n'\n",
    "print(a * 10)"
   ]
  },
  {
   "cell_type": "code",
   "execution_count": 12,
   "metadata": {},
   "outputs": [
    {
     "name": "stdout",
     "output_type": "stream",
     "text": [
      "Titan\n",
      "James\n"
     ]
    }
   ],
   "source": [
    "a = 'TitanJames'\n",
    "title = a[:5]\n",
    "director = a[5:]\n",
    "print(title)\n",
    "print(director)"
   ]
  },
  {
   "cell_type": "code",
   "execution_count": null,
   "metadata": {},
   "outputs": [],
   "source": [
    "# 집합형 (Set) 순서와 인덱스가 없다. 중복을 허용하지 않는다.\n",
    "x = set([5, 2, 1])\n",
    "x = set('abcde')\n"
   ]
  },
  {
   "attachments": {},
   "cell_type": "markdown",
   "metadata": {},
   "source": [
    "### 제어문"
   ]
  },
  {
   "cell_type": "code",
   "execution_count": 14,
   "metadata": {},
   "outputs": [
    {
     "name": "stdout",
     "output_type": "stream",
     "text": [
      "hello\n",
      "hello\n",
      "hello\n",
      "hello\n",
      "hello\n",
      "hello\n",
      "hello\n",
      "hello\n",
      "hello\n",
      "hello\n"
     ]
    }
   ],
   "source": [
    "for i in range(10):\n",
    "    print('hello')"
   ]
  },
  {
   "cell_type": "code",
   "execution_count": 15,
   "metadata": {},
   "outputs": [
    {
     "name": "stdout",
     "output_type": "stream",
     "text": [
      "초소형\n"
     ]
    }
   ],
   "source": [
    "weight = 80\n",
    "if weight >= 100:\n",
    "    print('대형')\n",
    "elif weight >= 90:\n",
    "    print('중형')\n",
    "else:\n",
    "    print('초소형')"
   ]
  },
  {
   "cell_type": "code",
   "execution_count": 16,
   "metadata": {},
   "outputs": [
    {
     "name": "stdout",
     "output_type": "stream",
     "text": [
      "p\n",
      "y\n",
      "t\n",
      "h\n",
      "o\n",
      "n\n"
     ]
    }
   ],
   "source": [
    "for i in 'python':\n",
    "    print(i)"
   ]
  },
  {
   "cell_type": "code",
   "execution_count": 19,
   "metadata": {},
   "outputs": [
    {
     "name": "stdout",
     "output_type": "stream",
     "text": [
      "0\n",
      "1\n",
      "2\n",
      "3\n",
      "4\n",
      "finish!\n"
     ]
    }
   ],
   "source": [
    "for i in range(5):\n",
    "    print(i)\n",
    "else:\n",
    "    print('finish!')"
   ]
  },
  {
   "cell_type": "code",
   "execution_count": 20,
   "metadata": {},
   "outputs": [
    {
     "name": "stdout",
     "output_type": "stream",
     "text": [
      "0번쨰 반복, 결과값 : 0\n",
      "1번쨰 반복, 결과값 : 1\n",
      "2번쨰 반복, 결과값 : 3\n",
      "3번쨰 반복, 결과값 : 6\n",
      "4번쨰 반복, 결과값 : 10\n",
      "5번쨰 반복, 결과값 : 15\n"
     ]
    }
   ],
   "source": [
    "# 1번부터 5번까지 더하는 프로그램을 만들어라\n",
    "\n",
    "# 단순 덧셈\n",
    "result = 1 + 2 + 3 + 4 + 5\n",
    "\n",
    "# for문\n",
    "result = 0\n",
    "for i in range(6):\n",
    "    result += i\n",
    "    print(str(i) + '번쨰 반복, 결과값 : ' + str(result))"
   ]
  },
  {
   "cell_type": "code",
   "execution_count": 22,
   "metadata": {},
   "outputs": [
    {
     "name": "stdout",
     "output_type": "stream",
     "text": [
      "1번째 반복, 결과값 : 0\n",
      "2번째 반복, 결과값 : 1\n",
      "3번째 반복, 결과값 : 3\n",
      "4번째 반복, 결과값 : 6\n",
      "5번째 반복, 결과값 : 10\n",
      "6번째 반복, 결과값 : 15\n"
     ]
    }
   ],
   "source": [
    "# while문\n",
    "result = 0\n",
    "i = 0\n",
    "while i < 6:\n",
    "    result += i\n",
    "    i += 1\n",
    "    print(str(i) + '번째 반복, 결과값 : ' + str(result))"
   ]
  },
  {
   "cell_type": "code",
   "execution_count": 23,
   "metadata": {},
   "outputs": [
    {
     "name": "stdout",
     "output_type": "stream",
     "text": [
      "함수 생성\n"
     ]
    }
   ],
   "source": [
    "def name():\n",
    "    print(\"함수 생성\")\n",
    "    \n",
    "name()"
   ]
  },
  {
   "cell_type": "code",
   "execution_count": 24,
   "metadata": {},
   "outputs": [
    {
     "name": "stdout",
     "output_type": "stream",
     "text": [
      "제 이름은 민식입니다.\n"
     ]
    }
   ],
   "source": [
    "def my_name(name):\n",
    "    print(\"제 이름은 \" + name + \"입니다.\")\n",
    "    \n",
    "my_name(\"민식\")"
   ]
  },
  {
   "cell_type": "code",
   "execution_count": 28,
   "metadata": {},
   "outputs": [
    {
     "name": "stdout",
     "output_type": "stream",
     "text": [
      "제 이름은 minsick 입니다.\n"
     ]
    }
   ],
   "source": [
    "def my_name(name = \"minsick\"):\n",
    "    print(\"제 이름은 \" + name + \" 입니다.\")\n",
    "my_name()"
   ]
  },
  {
   "cell_type": "code",
   "execution_count": 30,
   "metadata": {},
   "outputs": [
    {
     "data": {
      "text/plain": [
       "7"
      ]
     },
     "execution_count": 30,
     "metadata": {},
     "output_type": "execute_result"
    }
   ],
   "source": [
    "def sum(a, b): # a, b를 매개변수(parameter)\n",
    "    result = a + b\n",
    "    # return a + b\n",
    "    return result\n",
    "\n",
    "sum(3, 4) # 3, 4를 인수 (arguments)\n",
    "sum(a = 3, b = 4)"
   ]
  },
  {
   "cell_type": "code",
   "execution_count": 31,
   "metadata": {},
   "outputs": [
    {
     "ename": "NameError",
     "evalue": "name 'inseop' is not defined",
     "output_type": "error",
     "traceback": [
      "\u001b[1;31m---------------------------------------------------------------------------\u001b[0m",
      "\u001b[1;31mNameError\u001b[0m                                 Traceback (most recent call last)",
      "Cell \u001b[1;32mIn[31], line 9\u001b[0m\n\u001b[0;32m      6\u001b[0m     \u001b[39melse\u001b[39;00m:\n\u001b[0;32m      7\u001b[0m         \u001b[39mprint\u001b[39m(name \u001b[39m+\u001b[39m \u001b[39m\"\u001b[39m\u001b[39m 학생은 F등급 입니다\u001b[39m\u001b[39m\"\u001b[39m)\n\u001b[1;32m----> 9\u001b[0m result_grade(\u001b[39m100\u001b[39m,inseop)\n",
      "\u001b[1;31mNameError\u001b[0m: name 'inseop' is not defined"
     ]
    }
   ],
   "source": [
    "def result_grade(score, name):\n",
    "    if score >= 90:\n",
    "        print(name + \" 학생은 A등급 입니다.\")\n",
    "    elif score >= 80:\n",
    "        print(name + \" 학생은 B등급 입니다.\")\n",
    "    else:\n",
    "        print(name + \" 학생은 F등급 입니다\")\n",
    "        \n",
    "result_grade(100,inseop)"
   ]
  },
  {
   "cell_type": "code",
   "execution_count": 35,
   "metadata": {},
   "outputs": [
    {
     "name": "stdout",
     "output_type": "stream",
     "text": [
      "3은 정수입니다.\n",
      "9\n"
     ]
    }
   ],
   "source": [
    "a = str(3)\n",
    "print(a + \"은 정수입니다.\")\n",
    "\n",
    "a = int(\"3\")\n",
    "b = 6\n",
    "print(a + b)"
   ]
  },
  {
   "cell_type": "code",
   "execution_count": 36,
   "metadata": {},
   "outputs": [
    {
     "data": {
      "text/plain": [
       "(4, 0)"
      ]
     },
     "execution_count": 36,
     "metadata": {},
     "output_type": "execute_result"
    }
   ],
   "source": [
    "divmod(12, 3)"
   ]
  },
  {
   "cell_type": "code",
   "execution_count": 37,
   "metadata": {},
   "outputs": [
    {
     "name": "stdout",
     "output_type": "stream",
     "text": [
      "k,a,j,c\n"
     ]
    }
   ],
   "source": [
    "countries = [\"k\", \"a\", \"j\", \"c\"]\n",
    "a = \",\".join(countries) # ,를 중간에 삽입\n",
    "print(a)"
   ]
  },
  {
   "cell_type": "code",
   "execution_count": 39,
   "metadata": {},
   "outputs": [
    {
     "name": "stdout",
     "output_type": "stream",
     "text": [
      "['k', 'a', 'j', 'c']\n"
     ]
    }
   ],
   "source": [
    "country = a.split(\",\")\n",
    "print(country)"
   ]
  },
  {
   "cell_type": "code",
   "execution_count": 44,
   "metadata": {},
   "outputs": [
    {
     "data": {
      "text/plain": [
       "['til', '1, til', '2, til', '3, til', '4']"
      ]
     },
     "execution_count": 44,
     "metadata": {},
     "output_type": "execute_result"
    }
   ],
   "source": [
    "word = \"tile1, tile2, tile3, tile4\"\n",
    "word.split(\"e\")"
   ]
  },
  {
   "cell_type": "code",
   "execution_count": 49,
   "metadata": {},
   "outputs": [
    {
     "name": "stdout",
     "output_type": "stream",
     "text": [
      "I love python\n",
      "I love python\n",
      "my name is fast, I lived in seoul, I'm 30 years old\n"
     ]
    }
   ],
   "source": [
    "# format\n",
    "word = \"python\"\n",
    "\n",
    "print(\"I love python\")\n",
    "print(\"I love {}\".format(word))\n",
    "\n",
    "name = \"fast\"\n",
    "city = \"seoul\"\n",
    "age = 30\n",
    "\n",
    "# print(\"my name is {}, I lived in {}, I'm {} years old\".format(name, city, age))\n",
    "print(f\"my name is {name}, I lived in {city}, I'm {age} years old\")"
   ]
  },
  {
   "cell_type": "code",
   "execution_count": null,
   "metadata": {},
   "outputs": [],
   "source": [
    "# 외장함수 import <모듈이름>\n",
    "# 1) random"
   ]
  },
  {
   "cell_type": "code",
   "execution_count": 50,
   "metadata": {},
   "outputs": [],
   "source": [
    "class FishBread:\n",
    "    def redbean_bread(self):\n",
    "        print(\"이 붕어빵은 \" + self.name + \" 입니다.\")\n",
    "        \n",
    "    def sucream_bread(self):\n",
    "        print(\"이 붕어빵은 \" + self.name + \" 입니다.\")"
   ]
  },
  {
   "cell_type": "code",
   "execution_count": null,
   "metadata": {},
   "outputs": [],
   "source": [
    "a = FishBread() # 클래스 호출\n",
    "type(a) # 클래스\n",
    "\n",
    "a.redbean_bread() # 클래스 내 함수(메소드)에 접근\n",
    "a.name # 클래스 내 변수(속성)에 접근\n",
    "\n",
    "'''\n",
    "클래스 내에 정의 되는 \n",
    "\n",
    "- 변수를 속성\n",
    "- 함수를 메소드라 부른다.\n",
    "'''\n",
    "\n",
    "class FishBread:\n",
    "    # 생성자 => 클래스가 호출될 때 가장 먼저 실행되는 메소드\n",
    "    def __init__(self, name, ingredient, price):\n",
    "        self.name = nameself.ingredient = ingredient\n",
    "        self.price = price\n",
    "    \n",
    "    def bread(self):\n",
    "        print(\"이 붕어빵의 이름은 {}이고, {}이 들어가있습니다. 가격은 {} 입니다.\".format(self.name, self.ingredient, self.price))"
   ]
  },
  {
   "cell_type": "code",
   "execution_count": null,
   "metadata": {},
   "outputs": [],
   "source": [
    "\"\"\"\n",
    "from 모듈이름 import 함수이름 (또는 *)\n",
    "\n",
    "from info import name, age\n",
    "from info import *\n",
    "\"\"\""
   ]
  }
 ],
 "metadata": {
  "kernelspec": {
   "display_name": "Python 3",
   "language": "python",
   "name": "python3"
  },
  "language_info": {
   "codemirror_mode": {
    "name": "ipython",
    "version": 3
   },
   "file_extension": ".py",
   "mimetype": "text/x-python",
   "name": "python",
   "nbconvert_exporter": "python",
   "pygments_lexer": "ipython3",
   "version": "3.11.3"
  },
  "orig_nbformat": 4
 },
 "nbformat": 4,
 "nbformat_minor": 2
}
