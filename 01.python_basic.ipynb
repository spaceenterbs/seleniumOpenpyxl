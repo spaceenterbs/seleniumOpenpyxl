{
 "cells": [
  {
   "attachments": {},
   "cell_type": "markdown",
   "metadata": {},
   "source": [
    "## 파이썬 자료형\n",
    "\n",
    "- 숫자형 (Number)\n",
    "- 문자형 (String)\n",
    "- 리스트 (List)\n",
    "* 위에 3개만 기억해도 됨!\n",
    "- 튜플형 (Tuple), 딕셔너리형(Dict), 집합형(Set)\n",
    "- 불형 (Boolean)\n",
    "\n",
    "* 자료를 담는 그릇"
   ]
  },
  {
   "attachments": {},
   "cell_type": "markdown",
   "metadata": {},
   "source": [
    "### 숫자형 (Number)\n"
   ]
  },
  {
   "cell_type": "code",
   "execution_count": 9,
   "metadata": {},
   "outputs": [
    {
     "data": {
      "text/plain": [
       "float"
      ]
     },
     "execution_count": 9,
     "metadata": {},
     "output_type": "execute_result"
    }
   ],
   "source": [
    "# a = 1 # int\n",
    "# a = 1.0 # float\n",
    "\n",
    "type(a)"
   ]
  },
  {
   "cell_type": "code",
   "execution_count": 10,
   "metadata": {},
   "outputs": [
    {
     "name": "stdout",
     "output_type": "stream",
     "text": [
      "11\n",
      "-9\n",
      "0.1\n",
      "10\n"
     ]
    }
   ],
   "source": [
    "a = 1\n",
    "b = 10\n",
    "\n",
    "print(a + b)\n",
    "print(a - b)\n",
    "print(a / b)\n",
    "print(a * b)\n"
   ]
  },
  {
   "attachments": {},
   "cell_type": "markdown",
   "metadata": {},
   "source": [
    "### 문자형 (String)\n",
    "\n",
    "- 쌍 따옴표(\") 또는 작은 따옴표(')로 감싸져 있는 형태"
   ]
  },
  {
   "cell_type": "code",
   "execution_count": 13,
   "metadata": {},
   "outputs": [
    {
     "data": {
      "text/plain": [
       "str"
      ]
     },
     "execution_count": 13,
     "metadata": {},
     "output_type": "execute_result"
    }
   ],
   "source": [
    "a = \"python\"\n",
    "type(a) # type() : 변수의 타입을 리턴"
   ]
  },
  {
   "cell_type": "code",
   "execution_count": 20,
   "metadata": {},
   "outputs": [
    {
     "name": "stdout",
     "output_type": "stream",
     "text": [
      "Act as though\n",
      "it is impossible to fail\n",
      "Act as though\n",
      "it is impossible to fail\n"
     ]
    }
   ],
   "source": [
    "word = \"Act as though\\nit is impossible to fail\"\n",
    "print(word)\n",
    "\n",
    "word2 = \"\"\"Act as though\\nit is impossible to fail\"\"\"\n",
    "print(word2)"
   ]
  },
  {
   "cell_type": "code",
   "execution_count": 23,
   "metadata": {},
   "outputs": [
    {
     "name": "stdout",
     "output_type": "stream",
     "text": [
      "It's kind of fun to do the impossible\n"
     ]
    }
   ],
   "source": [
    "word = 'It\\'s kind of fun to do the impossible'\n",
    "print(word)"
   ]
  },
  {
   "cell_type": "code",
   "execution_count": 31,
   "metadata": {},
   "outputs": [
    {
     "name": "stdout",
     "output_type": "stream",
     "text": [
      "\"Failure is imply the opportunity to begin again.\" he says.\"\n",
      "\"Failure is imply the opportunity to begin again.\" he says.\"\n",
      "\"Failure is imply the opportunity to begin again.\" he says.\"\n",
      "\"Failure is imply the opportunity to begin again.\" he says.\" \n"
     ]
    }
   ],
   "source": [
    "word = \"\\\"Failure is imply the opportunity to begin again.\\\" he says.\\\"\"\n",
    "word2 = '\"Failure is imply the opportunity to begin again.\" he says.\"'\n",
    "word3 = '''\"Failure is imply the opportunity to begin again.\" he says.\"'''\n",
    "word4 = \"\"\"\"Failure is imply the opportunity to begin again.\" he says.\" \"\"\"\n",
    "\n",
    "print(word)\n",
    "print(word2)\n",
    "print(word3)\n",
    "print(word4)\n",
    "\n",
    "# 1. 작은 따옴표\n",
    "# 2. 백슬래쉬를 활용하는 방법\n",
    "# 3. \"\"\""
   ]
  },
  {
   "cell_type": "code",
   "execution_count": 38,
   "metadata": {},
   "outputs": [
    {
     "data": {
      "text/plain": [
       "'KindKindKindKindKindKindKindKindKindKind'"
      ]
     },
     "execution_count": 38,
     "metadata": {},
     "output_type": "execute_result"
    }
   ],
   "source": [
    "a = \"K\"\n",
    "b = \"i\"\n",
    "c = \"n\"\n",
    "d = \"d\"\n",
    "\n",
    "(a + b + c + d) * 10"
   ]
  },
  {
   "cell_type": "code",
   "execution_count": 39,
   "metadata": {},
   "outputs": [
    {
     "data": {
      "text/plain": [
       "6"
      ]
     },
     "execution_count": 39,
     "metadata": {},
     "output_type": "execute_result"
    }
   ],
   "source": [
    "len(\"python\") # 문자열의 길이값을 리턴"
   ]
  },
  {
   "cell_type": "code",
   "execution_count": 50,
   "metadata": {},
   "outputs": [
    {
     "data": {
      "text/plain": [
       "'python'"
      ]
     },
     "execution_count": 50,
     "metadata": {},
     "output_type": "execute_result"
    }
   ],
   "source": [
    "# 문자열 indexing & slicing\n",
    "\n",
    "a = \"hello python!\"\n",
    "a[-13]\n",
    "a[0]\n",
    "\n",
    "a[0:5] # 0 <= x < 5\n",
    "a[:5]\n",
    "a[:] # 끝까지\n",
    "a[5:]\n",
    "a[6:-1]"
   ]
  },
  {
   "cell_type": "code",
   "execution_count": 60,
   "metadata": {},
   "outputs": [
    {
     "name": "stdout",
     "output_type": "stream",
     "text": [
      "Titanic\n",
      "James\n"
     ]
    },
    {
     "data": {
      "text/plain": [
       "('Titanic', 'James')"
      ]
     },
     "execution_count": 60,
     "metadata": {},
     "output_type": "execute_result"
    }
   ],
   "source": [
    "#  \"TitanicJames\"\n",
    "\n",
    "a = \"TitanicJames\" # 12개\n",
    "\n",
    "title = a[:7]\n",
    "director = a[7:]\n",
    "\n",
    "print(a[:7])\n",
    "print(a[7:])\n",
    "\n",
    "title, director"
   ]
  },
  {
   "attachments": {},
   "cell_type": "markdown",
   "metadata": {},
   "source": [
    "### 리스트형 (List)\n",
    "\n",
    "* 여러 개의 변수를 한번에 담아둘 수는 없을까?"
   ]
  },
  {
   "cell_type": "code",
   "execution_count": 9,
   "metadata": {},
   "outputs": [
    {
     "data": {
      "text/plain": [
       "[1, 2, 3, 4, 5]"
      ]
     },
     "execution_count": 9,
     "metadata": {},
     "output_type": "execute_result"
    }
   ],
   "source": [
    "x = [1, 2, 3, 4, 5]\n",
    "type(x)\n",
    "\n",
    "# indexing, slicing\n",
    "\n",
    "x[0:2] # 0 <= x < 2 ( 0,1)\n",
    "x[:]"
   ]
  },
  {
   "cell_type": "code",
   "execution_count": 14,
   "metadata": {},
   "outputs": [
    {
     "data": {
      "text/plain": [
       "'e'"
      ]
     },
     "execution_count": 14,
     "metadata": {},
     "output_type": "execute_result"
    }
   ],
   "source": [
    "x = [\"a\", \"b\", \"c\", [\"d\", \"e\"]]\n",
    "b = x[3]\n",
    "b[1]\n",
    "x[3][1]"
   ]
  },
  {
   "cell_type": "code",
   "execution_count": 17,
   "metadata": {},
   "outputs": [
    {
     "data": {
      "text/plain": [
       "tuple"
      ]
     },
     "execution_count": 17,
     "metadata": {},
     "output_type": "execute_result"
    }
   ],
   "source": [
    "### 튜플형 (Tuple)\n",
    "\n",
    "t = (1, 2, 3, (4, 5))\n",
    "type(t)"
   ]
  },
  {
   "attachments": {},
   "cell_type": "markdown",
   "metadata": {},
   "source": [
    "### 딕셔너리형(Dict)\n",
    "\n",
    "* {} 중괄호로 감싸져 있고, 키와 벨류로 구성되어 있다."
   ]
  },
  {
   "cell_type": "code",
   "execution_count": 1,
   "metadata": {},
   "outputs": [
    {
     "data": {
      "text/plain": [
       "'value'"
      ]
     },
     "execution_count": 1,
     "metadata": {},
     "output_type": "execute_result"
    }
   ],
   "source": [
    "# json 이라고도 부른다.\n",
    "x = {\"key\" : \"value\", \"name\" : \"minsick\", \"age\" : 30, \"city\" : [\"seoul\", \"busan\"]}\n",
    "\n",
    "type(x)\n",
    "\n",
    "x[\"city\"][1]\n",
    "x[\"key\"]"
   ]
  },
  {
   "cell_type": "code",
   "execution_count": null,
   "metadata": {},
   "outputs": [],
   "source": []
  },
  {
   "attachments": {},
   "cell_type": "markdown",
   "metadata": {},
   "source": [
    "### 집합형 (Set)\n",
    "* 순서가 없다.\n",
    "- 중복을 허용하지 않는다."
   ]
  },
  {
   "cell_type": "code",
   "execution_count": 27,
   "metadata": {},
   "outputs": [
    {
     "data": {
      "text/plain": [
       "{'a', 'b', 'c'}"
      ]
     },
     "execution_count": 27,
     "metadata": {},
     "output_type": "execute_result"
    }
   ],
   "source": [
    "x = set([5,2,1,1,1,1,1,7,7])\n",
    "type(x)\n",
    "\n",
    "x = set([\"a\", \"a\", \"b\", \"c\"])\n",
    "\n",
    "x"
   ]
  },
  {
   "attachments": {},
   "cell_type": "markdown",
   "metadata": {},
   "source": [
    "### 불형 (Boolean)"
   ]
  },
  {
   "cell_type": "code",
   "execution_count": 32,
   "metadata": {},
   "outputs": [
    {
     "data": {
      "text/plain": [
       "bool"
      ]
     },
     "execution_count": 32,
     "metadata": {},
     "output_type": "execute_result"
    }
   ],
   "source": [
    "type(True)\n",
    "# False\n",
    "type(1 < 2)"
   ]
  },
  {
   "attachments": {},
   "cell_type": "markdown",
   "metadata": {},
   "source": [
    "### 제어문\n",
    "\n",
    "- if (조건문)\n",
    "- for (반복문)\n",
    "- while (반복문)"
   ]
  },
  {
   "cell_type": "code",
   "execution_count": 44,
   "metadata": {},
   "outputs": [
    {
     "name": "stdout",
     "output_type": "stream",
     "text": [
      "less than 5\n"
     ]
    }
   ],
   "source": [
    "number = int(input(\"input number : \")) # = 2\n",
    "\n",
    "if number < 2:\n",
    "    print(\"less than 2\")\n",
    "elif number < 5:\n",
    "    print(\"less than 5\")\n",
    "else:\n",
    "    print(\"more than 5\")"
   ]
  },
  {
   "cell_type": "code",
   "execution_count": 52,
   "metadata": {},
   "outputs": [
    {
     "name": "stdout",
     "output_type": "stream",
     "text": [
      "get on a plane\n"
     ]
    }
   ],
   "source": [
    "# question 1\n",
    "\n",
    "money = int(input(\"how much do you have?\"))\n",
    "card = True\n",
    "\n",
    "# and, or\n",
    "\n",
    "if money == 70000 and card == True:\n",
    "    print(\"get on a plane\")\n",
    "    # for i in range()\n",
    "elif money == 50000:\n",
    "    print(\"take a train\")\n",
    "elif money == 30000:\n",
    "    print(\"take a bus\")\n",
    "else:\n",
    "    print(\"walk\")"
   ]
  },
  {
   "attachments": {},
   "cell_type": "markdown",
   "metadata": {},
   "source": [
    "### 반복문 (for, while)"
   ]
  },
  {
   "cell_type": "code",
   "execution_count": 63,
   "metadata": {},
   "outputs": [
    {
     "name": "stdout",
     "output_type": "stream",
     "text": [
      "1\n",
      "2\n",
      "third repeat_sentence\n",
      "4\n",
      "5\n",
      "6\n",
      "7\n",
      "8\n",
      "9\n",
      "10\n"
     ]
    },
    {
     "data": {
      "text/plain": [
       "range(0, 10)"
      ]
     },
     "execution_count": 63,
     "metadata": {},
     "output_type": "execute_result"
    }
   ],
   "source": [
    "num = 0\n",
    "for i in range(0, 10):\n",
    "    # num += 1\n",
    "    num = num + 1\n",
    "\n",
    "    if num == 3:\n",
    "        print(\"third repeat_sentence\")\n",
    "        continue # break\n",
    "    print(num)\n",
    "    # print(\"hello python\", i)\n",
    "range(10) # 0 <= range < 10"
   ]
  },
  {
   "cell_type": "code",
   "execution_count": 66,
   "metadata": {},
   "outputs": [
    {
     "name": "stdout",
     "output_type": "stream",
     "text": [
      "seoul\n",
      "daejeon\n",
      "daegu\n",
      "busan\n",
      "wanna go busan\n"
     ]
    }
   ],
   "source": [
    "cities = [\"seoul\", \"daejeon\", \"daegu\", \"busan\"]\n",
    "\n",
    "for city in cities:\n",
    "    print(city) # i라고 하는 것은 좋지 않다.\n",
    "\n",
    "    if city == \"busan\":\n",
    "        print(\"wanna go busan\")"
   ]
  },
  {
   "cell_type": "code",
   "execution_count": 71,
   "metadata": {},
   "outputs": [
    {
     "name": "stdout",
     "output_type": "stream",
     "text": [
      "p\n",
      "y\n",
      "t\n",
      "h\n",
      "o\n",
      "n\n",
      "Execute after end of loop\n"
     ]
    }
   ],
   "source": [
    "for word in \"python\":\n",
    "    print(word)\n",
    "else:\n",
    "    print(\"Execute after end of loop\")"
   ]
  },
  {
   "cell_type": "code",
   "execution_count": 73,
   "metadata": {},
   "outputs": [
    {
     "name": "stdout",
     "output_type": "stream",
     "text": [
      "0\n",
      "1\n",
      "2\n",
      "3\n",
      "4\n"
     ]
    }
   ],
   "source": [
    "# while\n",
    "\n",
    "num = 0\n",
    "while num < 5:\n",
    "# while True: # 무한루프\n",
    "    print(num)\n",
    "    num += 1 # 이렇게 해줘야 해서 while을 잘 쓰지 않는다."
   ]
  },
  {
   "cell_type": "code",
   "execution_count": 83,
   "metadata": {},
   "outputs": [
    {
     "name": "stdout",
     "output_type": "stream",
     "text": [
      "15\n"
     ]
    }
   ],
   "source": [
    "# 1부터 5까지 더하는 프로그램을 만들어 보시오. 1. for 2. while\n",
    "\n",
    "result = 0\n",
    "i = 0\n",
    "for i in range(1, 6): # 1부터 5까지가 들어온다.\n",
    "    result = result + i\n",
    "    i += 1\n",
    "\n",
    "print(result)"
   ]
  },
  {
   "cell_type": "code",
   "execution_count": 90,
   "metadata": {},
   "outputs": [
    {
     "name": "stdout",
     "output_type": "stream",
     "text": [
      "0\n",
      "1\n",
      "3\n",
      "6\n",
      "10\n",
      "15\n"
     ]
    }
   ],
   "source": [
    "i = 0\n",
    "result = 0\n",
    "\n",
    "while i < 6:\n",
    "    # print(i)\n",
    "    result = result + i\n",
    "    i += 1\n",
    "    print(result)"
   ]
  },
  {
   "cell_type": "code",
   "execution_count": 92,
   "metadata": {},
   "outputs": [
    {
     "name": "stdout",
     "output_type": "stream",
     "text": [
      "0\n",
      "2\n",
      "4\n",
      "6\n",
      "8\n"
     ]
    }
   ],
   "source": [
    "# 1부터 10까지의 정수 중에서 짝수만 출력하는 코드를 작성하라.\n",
    "\n",
    "# 1부터 10까지 가져오기\n",
    "# 조건문을 활용해서 내가 원하는 조건의 숫자만 출력하자.\n",
    "i = 0\n",
    "for i in range(1, 11):\n",
    "    if i % 2 != 0:\n",
    "        continue\n",
    "    print(i)\n"
   ]
  },
  {
   "cell_type": "code",
   "execution_count": 93,
   "metadata": {},
   "outputs": [
    {
     "name": "stdout",
     "output_type": "stream",
     "text": [
      "양수\n"
     ]
    }
   ],
   "source": [
    "num = int(input(\"input number : \"))\n",
    "\n",
    "# 코드 최적화는 나중에 생각.\n",
    "if i > 0 :\n",
    "    print(\"양수\")\n",
    "elif num == 0:\n",
    "    print(\"0이야\")\n",
    "else:\n",
    "    print(\"음수\")"
   ]
  },
  {
   "cell_type": "code",
   "execution_count": 1,
   "metadata": {},
   "outputs": [
    {
     "ename": "ValueError",
     "evalue": "invalid literal for int() with base 10: ''",
     "output_type": "error",
     "traceback": [
      "\u001b[1;31m---------------------------------------------------------------------------\u001b[0m",
      "\u001b[1;31mValueError\u001b[0m                                Traceback (most recent call last)",
      "Cell \u001b[1;32mIn[1], line 1\u001b[0m\n\u001b[1;32m----> 1\u001b[0m num \u001b[39m=\u001b[39m \u001b[39mint\u001b[39;49m(\u001b[39minput\u001b[39;49m(\u001b[39m\"\u001b[39;49m\u001b[39minput number : \u001b[39;49m\u001b[39m\"\u001b[39;49m))\n\u001b[0;32m      3\u001b[0m \u001b[39m# 사용자로부터 숫자를 입력받는다.\u001b[39;00m\n\u001b[0;32m      4\u001b[0m \u001b[39m# 구구단 코드를 작성한다.\u001b[39;00m\n\u001b[0;32m      5\u001b[0m \u001b[39m# 1 * 1 = 1\u001b[39;00m\n\u001b[0;32m      6\u001b[0m \u001b[39m# 1 * 2 = 2\u001b[39;00m\n\u001b[0;32m      9\u001b[0m \u001b[39mfor\u001b[39;00m i \u001b[39min\u001b[39;00m \u001b[39mrange\u001b[39m(\u001b[39m1\u001b[39m, \u001b[39m10\u001b[39m):\n",
      "\u001b[1;31mValueError\u001b[0m: invalid literal for int() with base 10: ''"
     ]
    }
   ],
   "source": [
    "num = int(input(\"input number : \"))\n",
    "\n",
    "# 사용자로부터 숫자를 입력받는다.\n",
    "# 구구단 코드를 작성한다.\n",
    "# 1 * 1 = 1\n",
    "# 1 * 2 = 2\n",
    "\n",
    "\n",
    "for i in range(1, 10):\n",
    "    if i == num:\n",
    "        for j in range(1, 10):\n",
    "            print(i * j)\n",
    "        break\n",
    "  "
   ]
  },
  {
   "cell_type": "code",
   "execution_count": 3,
   "metadata": {},
   "outputs": [
    {
     "name": "stdout",
     "output_type": "stream",
     "text": [
      "315\n"
     ]
    }
   ],
   "source": [
    "# 1부터 100까지의 정수 중에서 3의 배수이면서 5의 배수인 정수의 합을 구하는 코드를 작성하세요\n",
    "\n",
    "# 1~100까지의 정수를 표현한다.\n",
    "result = 0\n",
    "for i in range(1, 101):\n",
    "    if i % 3 == 0 and i % 5 == 0:\n",
    "        result += i\n",
    "print(result)"
   ]
  },
  {
   "attachments": {},
   "cell_type": "markdown",
   "metadata": {},
   "source": [
    "## 함수 (def)\n",
    "\n",
    "- def: define 정의하다.\n",
    "- 반복되는 코드들을 함수로 묶어서 => 재활용 하고자 할 때 사용"
   ]
  },
  {
   "cell_type": "code",
   "execution_count": 5,
   "metadata": {},
   "outputs": [
    {
     "name": "stdout",
     "output_type": "stream",
     "text": [
      "name\n"
     ]
    }
   ],
   "source": [
    "# (1) 함수정의\n",
    "\n",
    "def name(): # name() 함수를 사용하면 name 문자열을 출력한다.\n",
    "    print(\"name\")\n",
    "\n",
    "name()"
   ]
  },
  {
   "cell_type": "code",
   "execution_count": 13,
   "metadata": {},
   "outputs": [
    {
     "name": "stdout",
     "output_type": "stream",
     "text": [
      "minsick, it's\n",
      "None\n",
      "7\n",
      "12\n",
      "13\n"
     ]
    }
   ],
   "source": [
    "# (1) 매개변수가 있는 함수\n",
    "\n",
    "def show_name(name): # show_name 함수를 실행하면 name 변수에 , is's를 출력한다.\n",
    "    print(name + \", it's\")\n",
    "\n",
    "myname = show_name(\"minsick\")\n",
    "print(myname)\n",
    "\n",
    "# (2) 리턴이 있는 함수\n",
    "def sum(a, b):\n",
    "    result = a + b\n",
    "    return result\n",
    "\n",
    "result1 = sum(3, 4)\n",
    "result2 = sum(5, 7)\n",
    "result3 = sum(4, 9)\n",
    "print(result1)\n",
    "print(result2)\n",
    "print(result3)\n",
    "# show_name(\"minsick\")"
   ]
  },
  {
   "cell_type": "code",
   "execution_count": 18,
   "metadata": {},
   "outputs": [
    {
     "name": "stdout",
     "output_type": "stream",
     "text": [
      "['B', 'minsick']\n"
     ]
    }
   ],
   "source": [
    "# 성적과 이름을 입력하고(매개변수),\n",
    "# 성적에 따라서 이름과 등급을 알려주는 프로그램을 만드시오.\n",
    "# 리턴을 할 때는 이름과 등급을 리스트 형태로 리턴하시오. ex) append()\n",
    "\n",
    "def result_grade(score, name):\n",
    "    result = []\n",
    "\n",
    "    grade = \"\"\n",
    "    if score >= 90:\n",
    "        grade = \"A\"\n",
    "    elif score >= 80:\n",
    "        grade = \"B\"\n",
    "    elif score >= 70:\n",
    "        grade = \"C\"\n",
    "    elif score >= 60:\n",
    "        grade = \"D\"\n",
    "    else:\n",
    "        grade = \"F\"\n",
    "\n",
    "    result.append(grade)\n",
    "    result.append(name)\n",
    "    # 등급과 이름을 함께 리턴하고 싶을 때\n",
    "    return result # 등급만 리턴하고 싶을 때\n",
    "\n",
    "grade = result_grade(80, \"minsick\")\n",
    "print(grade)\n",
    "\n",
    "\n",
    "\n",
    "# enter = int(input(\"성적과 이름을 입력하세요\"))\n",
    "\n",
    "\n",
    "\n",
    "\n",
    "# return \n",
    "\n",
    "\n",
    "# def input(score, name):\n",
    "#     result = b, grade\n",
    "#     return result\n",
    "\n",
    "# result = \n",
    "# print(result)"
   ]
  },
  {
   "cell_type": "code",
   "execution_count": 16,
   "metadata": {},
   "outputs": [
    {
     "data": {
      "text/plain": [
       "['1', '2', '3']"
      ]
     },
     "execution_count": 16,
     "metadata": {},
     "output_type": "execute_result"
    }
   ],
   "source": [
    "result = []\n",
    "\n",
    "result.append('1')\n",
    "result.append('2')\n",
    "result.append('3')\n",
    "\n",
    "result"
   ]
  },
  {
   "attachments": {},
   "cell_type": "markdown",
   "metadata": {},
   "source": [
    "### 내장함수와 외장함수\n",
    "\n",
    "- 내장함수는 파이썬 언어 자체가 이미 품고 있는 함수 // Built-in Function\n",
    "- 외장함수는 외부에서 불러와서 사용하는 함수 => import // External Function"
   ]
  },
  {
   "cell_type": "code",
   "execution_count": 19,
   "metadata": {},
   "outputs": [
    {
     "data": {
      "text/plain": [
       "111"
      ]
     },
     "execution_count": 19,
     "metadata": {},
     "output_type": "execute_result"
    }
   ],
   "source": [
    "# 내장함수\n",
    "\n",
    "# (1) abs - 절대값\n",
    "abs(-111)"
   ]
  },
  {
   "cell_type": "code",
   "execution_count": 26,
   "metadata": {},
   "outputs": [
    {
     "name": "stdout",
     "output_type": "stream",
     "text": [
      "python\n",
      "PYTHON\n",
      "python\n"
     ]
    }
   ],
   "source": [
    "# (2) upper(), lower()\n",
    "\n",
    "a = \"python\"\n",
    "b = a.upper() # 소문자 -> 대문자로 변경을 해준다.\n",
    "c = b.lower() # 대문자 -> 소문자\n",
    "print(a)\n",
    "print(b)\n",
    "print(c)"
   ]
  },
  {
   "cell_type": "code",
   "execution_count": 27,
   "metadata": {},
   "outputs": [
    {
     "data": {
      "text/plain": [
       "str"
      ]
     },
     "execution_count": 27,
     "metadata": {},
     "output_type": "execute_result"
    }
   ],
   "source": [
    "# (3) 형 변환 (str, int)\n",
    "\n",
    "a = int(\"10\")\n",
    "type(a)\n",
    "\n",
    "b = str(10)\n",
    "type(b) # 문자형 데이터"
   ]
  },
  {
   "cell_type": "code",
   "execution_count": 35,
   "metadata": {},
   "outputs": [
    {
     "data": {
      "text/plain": [
       "['kor', 'usa', 'china']"
      ]
     },
     "execution_count": 35,
     "metadata": {},
     "output_type": "execute_result"
    }
   ],
   "source": [
    "# (4) join(), split()\n",
    "\n",
    "\"^,^\".join(\"korea\")\n",
    "\n",
    "# 리스트 데이터를 join에 넣어보자.\n",
    "countries = ['kor', 'usa', 'china']\n",
    "country = \"==\".join(countries)\n",
    "country.split(\"==\")"
   ]
  },
  {
   "cell_type": "code",
   "execution_count": 37,
   "metadata": {},
   "outputs": [
    {
     "name": "stdout",
     "output_type": "stream",
     "text": [
      "title1\n",
      " title2\n",
      " title3\n"
     ]
    }
   ],
   "source": [
    "word = \"title1, title2, title3\"\n",
    "word_list = word.split(\",\")\n",
    "\n",
    "for i in word_list:\n",
    "    print(i)"
   ]
  },
  {
   "cell_type": "code",
   "execution_count": 41,
   "metadata": {},
   "outputs": [
    {
     "ename": "NameError",
     "evalue": "name 'hobby' is not defined",
     "output_type": "error",
     "traceback": [
      "\u001b[1;31m---------------------------------------------------------------------------\u001b[0m",
      "\u001b[1;31mNameError\u001b[0m                                 Traceback (most recent call last)",
      "Cell \u001b[1;32mIn[41], line 5\u001b[0m\n\u001b[0;32m      3\u001b[0m name \u001b[39m=\u001b[39m \u001b[39m\"\u001b[39m\u001b[39mminsick\u001b[39m\u001b[39m\"\u001b[39m\n\u001b[0;32m      4\u001b[0m hobby_list \u001b[39m=\u001b[39m [\u001b[39m\"\u001b[39m\u001b[39mexercise\u001b[39m\u001b[39m\"\u001b[39m, \u001b[39m\"\u001b[39m\u001b[39mcoding\u001b[39m\u001b[39m\"\u001b[39m, \u001b[39m\"\u001b[39m\u001b[39mstudy\u001b[39m\u001b[39m\"\u001b[39m]\n\u001b[1;32m----> 5\u001b[0m \u001b[39mprint\u001b[39m(\u001b[39m\"\u001b[39m\u001b[39mhi, I\u001b[39m\u001b[39m'\u001b[39m\u001b[39mm \u001b[39m\u001b[39m{}\u001b[39;00m\u001b[39m. I like \u001b[39m\u001b[39m{}\u001b[39;00m\u001b[39m, \u001b[39m\u001b[39m{}\u001b[39;00m\u001b[39m, \u001b[39m\u001b[39m{}\u001b[39;00m\u001b[39m.\u001b[39m\u001b[39m\"\u001b[39m\u001b[39m.\u001b[39mformat(name, hobby[\u001b[39m0\u001b[39m], hobby[\u001b[39m2\u001b[39m], hobby[\u001b[39m2\u001b[39m]))\n\u001b[0;32m      7\u001b[0m \u001b[39m\"\u001b[39m\u001b[39m하이, \u001b[39m\u001b[39m{}\u001b[39;00m\u001b[39m, \u001b[39m\u001b[39m{}\u001b[39;00m\u001b[39m \u001b[39m\u001b[39m\"\u001b[39m\u001b[39m.\u001b[39mformat(\u001b[39m\"\u001b[39m\u001b[39mminsick\u001b[39m\u001b[39m\"\u001b[39m, \u001b[39m\"\u001b[39m\u001b[39mbangsick\u001b[39m\u001b[39m\"\u001b[39m)\n",
      "\u001b[1;31mNameError\u001b[0m: name 'hobby' is not defined"
     ]
    }
   ],
   "source": [
    "# (5) format\n",
    "\n",
    "name = \"minsick\"\n",
    "hobby_list = [\"exercise\", \"coding\", \"study\"]\n",
    "print(\"hi, I'm {}. I like {}, {}, {}.\".format(name, hobby[0], hobby[2], hobby[2]))\n",
    "\n",
    "\"하이, {}, {} \".format(\"minsick\", \"bangsick\")"
   ]
  },
  {
   "cell_type": "code",
   "execution_count": 45,
   "metadata": {},
   "outputs": [
    {
     "data": {
      "text/plain": [
       "[6, 1, 2, 3, 4, 5]"
      ]
     },
     "execution_count": 45,
     "metadata": {},
     "output_type": "execute_result"
    }
   ],
   "source": [
    "# 외장함수\n",
    "# (1) random\n",
    "\n",
    "import random\n",
    "\n",
    "random.random()\n",
    "# random.randint(1, 6) # ? 마지막에 치고 실행하면 가이드(?) 나옴\n",
    "\n",
    "a = [1, 2, 3, 4, 5, 6]\n",
    "# random.choice(a)\n",
    "random.shuffle(a)\n",
    "a\n",
    "\n",
    "\n",
    "# git blame은 누가 언제 코드 짰는지 나옴."
   ]
  },
  {
   "cell_type": "code",
   "execution_count": 11,
   "metadata": {},
   "outputs": [
    {
     "ename": "ValueError",
     "evalue": "Unknown format code 'f' for object of type 'str'",
     "output_type": "error",
     "traceback": [
      "\u001b[1;31m---------------------------------------------------------------------------\u001b[0m",
      "\u001b[1;31mValueError\u001b[0m                                Traceback (most recent call last)",
      "Cell \u001b[1;32mIn[11], line 7\u001b[0m\n\u001b[0;32m      4\u001b[0m \u001b[39m# sys.path\u001b[39;00m\n\u001b[0;32m      5\u001b[0m \u001b[39m# sys.version\u001b[39;00m\n\u001b[0;32m      6\u001b[0m version \u001b[39m=\u001b[39m sys\u001b[39m.\u001b[39mversion[\u001b[39m0\u001b[39m:\u001b[39m4\u001b[39m]\n\u001b[1;32m----> 7\u001b[0m \u001b[39mprint\u001b[39m(\u001b[39m\"\u001b[39;49m\u001b[39m{:.2f}\u001b[39;49;00m\u001b[39m\"\u001b[39;49m\u001b[39m.\u001b[39;49mformat(version))\n\u001b[0;32m      8\u001b[0m \u001b[39m# print(\"%0.2f\"%version)\u001b[39;00m\n\u001b[0;32m      9\u001b[0m \u001b[39m# print(f\"{version:.2f}\")\u001b[39;00m\n\u001b[0;32m     10\u001b[0m \n\u001b[0;32m     11\u001b[0m \u001b[39m# if version < 3.11:\u001b[39;00m\n\u001b[0;32m     12\u001b[0m \u001b[39m#     print(\"update please.\")\u001b[39;00m\n",
      "\u001b[1;31mValueError\u001b[0m: Unknown format code 'f' for object of type 'str'"
     ]
    }
   ],
   "source": [
    "# (2) sys => 시스템 함수\n",
    "import sys\n",
    "\n",
    "# sys.path\n",
    "# sys.version\n",
    "version = sys.version[0:4]\n",
    "print(\"{:.2f}\".format(version))\n",
    "# print(\"%0.2f\"%version)\n",
    "# print(f\"{version:.2f}\")\n",
    "\n",
    "# if version < 3.11:\n",
    "#     print(\"update please.\")"
   ]
  },
  {
   "attachments": {},
   "cell_type": "markdown",
   "metadata": {},
   "source": []
  },
  {
   "cell_type": "code",
   "execution_count": 58,
   "metadata": {},
   "outputs": [
    {
     "data": {
      "text/plain": [
       "'c:\\\\Users\\\\bangm\\\\OneDrive\\\\바탕 화면\\\\python_BS'"
      ]
     },
     "execution_count": 58,
     "metadata": {},
     "output_type": "execute_result"
    }
   ],
   "source": [
    "# (3) os\n",
    "import os\n",
    "\n",
    "# os.mkdir(\"가즈아\")\n",
    "# os.rmdir(\"가즈아\")\n",
    "\n",
    "os.getcwd() # pwd"
   ]
  },
  {
   "cell_type": "code",
   "execution_count": 63,
   "metadata": {},
   "outputs": [
    {
     "data": {
      "text/plain": [
       "time.struct_time(tm_year=2023, tm_mon=6, tm_mday=20, tm_hour=14, tm_min=11, tm_sec=12, tm_wday=1, tm_yday=171, tm_isdst=0)"
      ]
     },
     "execution_count": 63,
     "metadata": {},
     "output_type": "execute_result"
    }
   ],
   "source": [
    "# (4) time\n",
    "import time\n",
    "\n",
    "time.localtime(time.time()) # 클라우드 서비스 사용하면 시간이 서버 시간으로 바뀜"
   ]
  },
  {
   "attachments": {},
   "cell_type": "markdown",
   "metadata": {},
   "source": [
    "### 클래스 (Class)\n",
    "- Object Oriented Programming (객체 지향 프로그래밍) => 가장 기본 단위가 클래스"
   ]
  },
  {
   "cell_type": "code",
   "execution_count": 65,
   "metadata": {},
   "outputs": [
    {
     "ename": "AttributeError",
     "evalue": "'str' object has no attribute 'name'",
     "output_type": "error",
     "traceback": [
      "\u001b[1;31m---------------------------------------------------------------------------\u001b[0m",
      "\u001b[1;31mAttributeError\u001b[0m                            Traceback (most recent call last)",
      "Cell \u001b[1;32mIn[65], line 7\u001b[0m\n\u001b[0;32m      4\u001b[0m     \u001b[39mdef\u001b[39;00m \u001b[39msucream\u001b[39m(\u001b[39mself\u001b[39m):\n\u001b[0;32m      5\u001b[0m         \u001b[39mprint\u001b[39m(\u001b[39m\"\u001b[39m\u001b[39m이 붕어빵은 \u001b[39m\u001b[39m\"\u001b[39m \u001b[39m+\u001b[39m \u001b[39mself\u001b[39m\u001b[39m.\u001b[39mname \u001b[39m+\u001b[39m\u001b[39m\"\u001b[39m\u001b[39m입니다.\u001b[39m\u001b[39m\"\u001b[39m)\n\u001b[1;32m----> 7\u001b[0m FishBread\u001b[39m.\u001b[39;49mred_bean(\u001b[39m\"\u001b[39;49m\u001b[39m팥\u001b[39;49m\u001b[39m\"\u001b[39;49m)\n",
      "Cell \u001b[1;32mIn[65], line 3\u001b[0m, in \u001b[0;36mFishBread.red_bean\u001b[1;34m(self)\u001b[0m\n\u001b[0;32m      2\u001b[0m \u001b[39mdef\u001b[39;00m \u001b[39mred_bean\u001b[39m(\u001b[39mself\u001b[39m):\n\u001b[1;32m----> 3\u001b[0m     \u001b[39mprint\u001b[39m(\u001b[39m\"\u001b[39m\u001b[39m이 붕어빵은 \u001b[39m\u001b[39m\"\u001b[39m \u001b[39m+\u001b[39m \u001b[39mself\u001b[39;49m\u001b[39m.\u001b[39;49mname \u001b[39m+\u001b[39m\u001b[39m\"\u001b[39m\u001b[39m입니다.\u001b[39m\u001b[39m\"\u001b[39m)\n",
      "\u001b[1;31mAttributeError\u001b[0m: 'str' object has no attribute 'name'"
     ]
    }
   ],
   "source": [
    "class FishBread: # 붕어빵 # 클래스는 여러개의 함수로 구성되어 있다. # 구조만 기억하고 장고 사용시에 쓸 것이다.\n",
    "    def red_bean(self):\n",
    "        print(\"이 붕어빵은 \" + self.name +\"입니다.\")\n",
    "    def sucream(self):\n",
    "        print(\"이 붕어빵은 \" + self.name +\"입니다.\")\n",
    "\n",
    "FishBread.red_bean(\"팥\")"
   ]
  },
  {
   "cell_type": "code",
   "execution_count": 68,
   "metadata": {},
   "outputs": [
    {
     "ename": "AttributeError",
     "evalue": "'FishBread' object has no attribute 'bread'",
     "output_type": "error",
     "traceback": [
      "\u001b[1;31m---------------------------------------------------------------------------\u001b[0m",
      "\u001b[1;31mAttributeError\u001b[0m                            Traceback (most recent call last)",
      "Cell \u001b[1;32mIn[68], line 11\u001b[0m\n\u001b[0;32m      8\u001b[0m         \u001b[39mprint\u001b[39m(\u001b[39m\"\u001b[39m\u001b[39m붕어빵 이름: \u001b[39m\u001b[39m{}\u001b[39;00m\u001b[39m, 재료: \u001b[39m\u001b[39m{}\u001b[39;00m\u001b[39m 가격: \u001b[39m\u001b[39m{}\u001b[39;00m\u001b[39m\"\u001b[39m,\u001b[39mformat\u001b[39m(\u001b[39mself\u001b[39m\u001b[39m.\u001b[39mname, \u001b[39mself\u001b[39m\u001b[39m.\u001b[39mingredient, \u001b[39mself\u001b[39m\u001b[39m.\u001b[39mprice))\n\u001b[0;32m     10\u001b[0m red_bean_bread \u001b[39m=\u001b[39m FishBread(\u001b[39m\"\u001b[39m\u001b[39m팥 붕어빵\u001b[39m\u001b[39m\"\u001b[39m, \u001b[39m\"\u001b[39m\u001b[39m팥\u001b[39m\u001b[39m\"\u001b[39m, \u001b[39m500\u001b[39m)\n\u001b[1;32m---> 11\u001b[0m red_bean_bread\u001b[39m.\u001b[39;49mbread()\n\u001b[0;32m     13\u001b[0m sucream_bread \u001b[39m=\u001b[39m FishBread(\u001b[39m\"\u001b[39m\u001b[39m슈크림 붕어빵\u001b[39m\u001b[39m\"\u001b[39m, \u001b[39m\"\u001b[39m\u001b[39m슈크림\u001b[39m\u001b[39m\"\u001b[39m, \u001b[39m1000\u001b[39m)\n\u001b[0;32m     14\u001b[0m sucream_bread\u001b[39m.\u001b[39mbread()\n",
      "\u001b[1;31mAttributeError\u001b[0m: 'FishBread' object has no attribute 'bread'"
     ]
    }
   ],
   "source": [
    "class FishBread:\n",
    "    def __init__(self, name, ingredient, price): # class는 생성자 함수를 갖는다.\n",
    "        self.name = name\n",
    "        self.ingredient = ingredient\n",
    "        self.price = price\n",
    "\n",
    "    def bead(self):\n",
    "        print(\"붕어빵 이름: {}, 재료: {} 가격: {}\",format(self.name, self.ingredient, self.price))\n",
    "\n",
    "red_bean_bread = FishBread(\"팥 붕어빵\", \"팥\", 500)\n",
    "red_bean_bread.bread()\n",
    "\n",
    "sucream_bread = FishBread(\"슈크림 붕어빵\", \"슈크림\", 1000)\n",
    "sucream_bread.bread()"
   ]
  },
  {
   "cell_type": "code",
   "execution_count": null,
   "metadata": {},
   "outputs": [],
   "source": [
    "# (4) 모듈\n",
    "# 변수 -> 함수 -> 클래스 -> 모듈 -> 패키지"
   ]
  },
  {
   "cell_type": "code",
   "execution_count": 1,
   "metadata": {},
   "outputs": [
    {
     "name": "stdout",
     "output_type": "stream",
     "text": [
      "[135, 135, 614, 753, 8648]\n",
      "min : 135\n",
      "max : 135\n"
     ]
    }
   ],
   "source": [
    "user_input = int(input(\"몇 개의 정수를 입력 받을까요?\"))\n",
    "\n",
    "user_input_list = []\n",
    "for i in range(user_input):\n",
    "    number = int(input(\"숫자를 입력하세요 : \"))\n",
    "    user_input_list.append(number) # 숫자 추가\n",
    "\n",
    "print(user_input_list) \n",
    "\n",
    "min_value = user_input_list[0]\n",
    "max_value = user_input_list[0]\n",
    "\n",
    "for i in user_input_list:\n",
    "    if i < min_value:\n",
    "        min_value : i \n",
    "\n",
    "    if i > max_value:\n",
    "        max_value : i\n",
    "\n",
    "print(\"min : {}\".format(min_value))\n",
    "print(\"max : {}\".format(max_value))\n",
    "# 문제가 있다!"
   ]
  },
  {
   "cell_type": "code",
   "execution_count": 3,
   "metadata": {},
   "outputs": [
    {
     "name": "stdout",
     "output_type": "stream",
     "text": [
      "5\n",
      "4\n",
      "3\n",
      "2\n",
      "1\n"
     ]
    }
   ],
   "source": [
    "# 5 4 3 2 1 부터 찍어보자!\n",
    "for i in range(5, 0, -1):\n",
    "    print(\"*\" * i) # 단계별로 코딩하기. 문자열은 곱셈이 된다."
   ]
  },
  {
   "cell_type": "code",
   "execution_count": 7,
   "metadata": {},
   "outputs": [
    {
     "name": "stdout",
     "output_type": "stream",
     "text": [
      "   *\n",
      "  ***\n",
      " *****\n",
      "*******\n"
     ]
    }
   ],
   "source": [
    "# 1 3 5 7 부터 찍어보자!\n",
    "# 반복이 4번!\n",
    "\n",
    "for i in range(1, 5):\n",
    "    print(\" \" * (4 - i) + \"*\" * (2 * i - 1))\n",
    "    # 홀수의 개수만큼 커진다. 위에서부터 한줄씩 출력."
   ]
  },
  {
   "cell_type": "code",
   "execution_count": 8,
   "metadata": {},
   "outputs": [
    {
     "name": "stdout",
     "output_type": "stream",
     "text": [
      "*****\n",
      " ***\n",
      "  *\n"
     ]
    }
   ],
   "source": [
    "# 단순하게 생각한 결과\n",
    "\n",
    "for i in range(3):\n",
    "    print(\" \" * i + \"*\" * (5 - 2 * i))"
   ]
  },
  {
   "cell_type": "code",
   "execution_count": 9,
   "metadata": {},
   "outputs": [
    {
     "name": "stdout",
     "output_type": "stream",
     "text": [
      "*********\n",
      " *******\n",
      "  *****\n",
      "   ***\n",
      "    *\n",
      "   ***\n",
      "  *****\n",
      " *******\n",
      "*********\n"
     ]
    }
   ],
   "source": [
    "# 나눠서 보면 된다.\n",
    "\n",
    "for i in range(1, 6):\n",
    "    print(\" \" * (i - 1) + \"*\" * (11 - 2 * i)) # 스페이스바 0 1 2 ...\n",
    "\n",
    "for i in range(2, 6):\n",
    "    print(\" \" * (5 - i) + \"*\" * (2 * i - 1))"
   ]
  },
  {
   "cell_type": "code",
   "execution_count": null,
   "metadata": {},
   "outputs": [],
   "source": []
  },
  {
   "cell_type": "code",
   "execution_count": null,
   "metadata": {},
   "outputs": [],
   "source": []
  },
  {
   "cell_type": "code",
   "execution_count": null,
   "metadata": {},
   "outputs": [],
   "source": []
  }
 ],
 "metadata": {
  "kernelspec": {
   "display_name": "Python 3",
   "language": "python",
   "name": "python3"
  },
  "language_info": {
   "codemirror_mode": {
    "name": "ipython",
    "version": 3
   },
   "file_extension": ".py",
   "mimetype": "text/x-python",
   "name": "python",
   "nbconvert_exporter": "python",
   "pygments_lexer": "ipython3",
   "version": "3.11.3"
  },
  "orig_nbformat": 4
 },
 "nbformat": 4,
 "nbformat_minor": 2
}
