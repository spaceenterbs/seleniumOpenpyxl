{
 "cells": [
  {
   "attachments": {},
   "cell_type": "markdown",
   "metadata": {},
   "source": [
    "## 엑셀 자동화\n",
    "\n",
    "- openpyxl 라이브러리"
   ]
  },
  {
   "cell_type": "code",
   "execution_count": 1,
   "metadata": {},
   "outputs": [
    {
     "name": "stdout",
     "output_type": "stream",
     "text": [
      "Collecting openpyxl\n",
      "  Downloading openpyxl-3.1.2-py2.py3-none-any.whl (249 kB)\n",
      "\u001b[2K     \u001b[90m━━━━━━━━━━━━━━━━━━━━━━━━━━━━━━━━━━━━━━━\u001b[0m \u001b[32m250.0/250.0 kB\u001b[0m \u001b[31m7.0 MB/s\u001b[0m eta \u001b[36m0:00:00\u001b[0m00:01\u001b[0m\n",
      "\u001b[?25hCollecting et-xmlfile\n",
      "  Downloading et_xmlfile-1.1.0-py3-none-any.whl (4.7 kB)\n",
      "Installing collected packages: et-xmlfile, openpyxl\n",
      "Successfully installed et-xmlfile-1.1.0 openpyxl-3.1.2\n",
      "\n",
      "\u001b[1m[\u001b[0m\u001b[34;49mnotice\u001b[0m\u001b[1;39;49m]\u001b[0m\u001b[39;49m A new release of pip is available: \u001b[0m\u001b[31;49m23.0\u001b[0m\u001b[39;49m -> \u001b[0m\u001b[32;49m23.1.2\u001b[0m\n",
      "\u001b[1m[\u001b[0m\u001b[34;49mnotice\u001b[0m\u001b[1;39;49m]\u001b[0m\u001b[39;49m To update, run: \u001b[0m\u001b[32;49mpython3.10 -m pip install --upgrade pip\u001b[0m\n",
      "Note: you may need to restart the kernel to use updated packages.\n"
     ]
    }
   ],
   "source": [
    "%pip install openpyxl"
   ]
  },
  {
   "cell_type": "code",
   "execution_count": 2,
   "metadata": {},
   "outputs": [],
   "source": [
    "import openpyxl"
   ]
  },
  {
   "cell_type": "code",
   "execution_count": 6,
   "metadata": {},
   "outputs": [],
   "source": [
    "# 엑셀 파일 생성\n",
    "wb = openpyxl.Workbook() # 워크북 생성\n",
    "ws = wb.active # 워크시트 활성화\n",
    "\n",
    "ws.title = \"Info\"\n",
    "\n",
    "ws.append([1,2,3,4,5])\n",
    "ws.append([1,2,3,4,5])\n",
    "ws.append([1,2,3,4,5])\n",
    "ws.append([1,2,3,4,5])\n",
    "ws.append([1,2,3,4,5])\n",
    "\n",
    "ws.merge_cells(\"A1:D1\")\n",
    "\n",
    "ws.insert_rows(3) # 3행에 행추가\n",
    "ws.insert_rows(3) # 3행에 행추가\n",
    "ws.insert_rows(3) # 3행에 행추가\n",
    "\n",
    "wb.save(\"test.xlsx\")"
   ]
  },
  {
   "cell_type": "code",
   "execution_count": 21,
   "metadata": {},
   "outputs": [],
   "source": [
    "# 엑셀 파일 로드\n",
    "workbook = openpyxl.load_workbook(\"test.xlsx\")\n",
    "\n",
    "worksheet = workbook[\"Info\"]\n",
    "\n",
    "# 좌표로 값을 가져오는 방법\n",
    "worksheet.cell(3,3).value\n",
    "\n",
    "# 고유값을 통해서 데이터를 가져오는 방법\n",
    "worksheet[\"B2\"].value\n",
    "\n",
    "# 해당 시트의 최대 행 번호\n",
    "worksheet.max_row\n",
    "\n",
    "# 해당 시트의 최대 열 번호\n",
    "worksheet.max_column\n",
    "\n",
    "# 값 변경\n",
    "worksheet[\"D7\"] = \"비고\"\n",
    "\n",
    "workbook.save(\"test_final.xlsx\")"
   ]
  },
  {
   "cell_type": "code",
   "execution_count": 39,
   "metadata": {},
   "outputs": [],
   "source": [
    "# 출결 여부\n",
    "# - 45분 이상 출석\n",
    "# - 15분 이상 지각\n",
    "# - 그 외 모두 결석\n",
    "# 저장을 할 때는 오늘 날짜 기준으로 (2023-07-07.xlsx) 으로 저장을 해주세요.\n",
    "# for i in range(10):\n",
    "#     print(\"A\" + str(i))\n",
    "\n",
    "wb = openpyxl.load_workbook(\"zoom.xlsx\")\n",
    "ws = wb[\"Sheet\"]\n",
    "ws[\"E1\"] = \"출결 여부\"\n",
    "\n",
    "for i in range(2,31):\n",
    "    time = int(ws[\"C\" + str(i)].value)\n",
    "\n",
    "    attendance = \"\"\n",
    "\n",
    "    if time >= 45:\n",
    "        attendance = '출석'\n",
    "    elif time >= 15:\n",
    "        attendance = '지각'\n",
    "    else:\n",
    "        attendance = '결석'\n",
    "    \n",
    "    ws[\"E\" + str(i)] = attendance\n",
    "\n",
    "from datetime import datetime\n",
    "today = datetime.today()\n",
    "today = today.strftime(\"%Y-%m-%d\")\n",
    "\n",
    "wb.save(\"{}.xlsx\".format(today)) "
   ]
  },
  {
   "attachments": {},
   "cell_type": "markdown",
   "metadata": {},
   "source": [
    "## 청구서 자동화"
   ]
  },
  {
   "cell_type": "code",
   "execution_count": 1,
   "metadata": {},
   "outputs": [],
   "source": [
    "import openpyxl"
   ]
  },
  {
   "cell_type": "code",
   "execution_count": 6,
   "metadata": {},
   "outputs": [],
   "source": [
    "# (1) 기업 파일에서 배송 내역을 불러온다.\n",
    "wb_company = openpyxl.load_workbook(\"1.삼성전자.xlsx\")\n",
    "ws_company = wb_company[\"21.3월\"]\n",
    "\n",
    "# (2) 업체명, 업체번호를 가져오자.\n",
    "company_name = ws_company['B2'].value #업체명\n",
    "company_num = ws_company['F2'].value #업체번호\n",
    "\n",
    "# (3) 청구서 파일을 불러온다.\n",
    "wb_result = openpyxl.load_workbook(\"양식_청구서.xlsx\")\n",
    "ws_result = wb_result['Sheet1']\n",
    "\n",
    "# (4) 청구서 파일에 업체명과 업체번호를 넣는다.\n",
    "ws_result['A2'] = \"No.\" + str(company_num) # 업체번호 입력\n",
    "ws_result['B4'] = company_name # 업체명 입력\n",
    "\n",
    "# (5) 청구서_업체명.xlsx로 저장한다.\n",
    "wb_result.save(\"양식_{}.xlsx\".format(company_name))"
   ]
  },
  {
   "cell_type": "code",
   "execution_count": 24,
   "metadata": {},
   "outputs": [
    {
     "name": "stdout",
     "output_type": "stream",
     "text": [
      "21.03.11(목)  27000.0 3\n",
      "21.03.12(금) 18000.0 2\n",
      "21.03.13(토) 43000.0 3\n",
      "21.03.14(일) 23000.0 2\n",
      "21.03.16(화) 27000.0 3\n",
      "21.03.17(수) 9000.0 1\n",
      "21.03.18(목) 29000.0 3\n",
      "21.03.19(금) 11000.0 1\n",
      "21.03.20(토) 13000.0 1\n",
      "21.03.21(일) 20000.0 2\n",
      "21.03.22(월) 11000.0 1\n",
      "21.03.24(수) 34000.0 2\n",
      "21.03.25(목) 50000.0 5\n",
      "21.03.26(금) 39000.0 3\n",
      "21.03.28(일) 24000.0 2\n",
      "21.03.29(월) 33200.0 3\n",
      "21.03.30(화) 29000.0 2\n",
      "21.03.31(수) 12000.0 1\n"
     ]
    }
   ],
   "source": [
    "# 신청날짜를 가져온다. -> 중복되는 데이터들이 있다.\n",
    "\n",
    "date_list = []\n",
    "for i in range(5,45):\n",
    "    date = ws_company['A' + str(i)].value\n",
    "    date_list.append(date)\n",
    "\n",
    "# set() : (1) 중복을 허용X (2) 순서를 보장X\n",
    "date_list = set(date_list) \n",
    "\n",
    "start_number = 10\n",
    "for date in sorted(date_list):\n",
    "    # (1) date -> 청구서에 날짜로 들어간다.\n",
    "    ws_result[\"B\" + str(start_number)] = date\n",
    "\n",
    "    # (2) date -> 배송 건수 계산 // for, if\n",
    "    # (3) date -> 배송 요금 계산\n",
    "\n",
    "    date_num = []\n",
    "    total_price = 0\n",
    "        \n",
    "    for i in range(5,45):\n",
    "        cell_date =ws_company['A' + str(i)].value\n",
    "\n",
    "        if date == cell_date:\n",
    "            total_price += ws_company[\"F\" + str(i)].value\n",
    "            date_num.append(date)\n",
    "\n",
    "    print(date, total_price, len(date_num))\n",
    "\n",
    "    # 청구서에 갯수 데이터를 넣는다.\n",
    "    ws_result[\"F\" + str(start_number)] = len(date_num)\n",
    "    # 청구서에 해당 날짜의 전체 금액을 넣는다.\n",
    "    ws_result[\"H\" + str(start_number)] = total_price\n",
    "    start_number += 1\n",
    "    \n",
    "wb_result.save(\"청구서_{}.xlsx\".format(company_name))  "
   ]
  },
  {
   "cell_type": "code",
   "execution_count": null,
   "metadata": {},
   "outputs": [],
   "source": []
  }
 ],
 "metadata": {
  "kernelspec": {
   "display_name": "Python 3",
   "language": "python",
   "name": "python3"
  },
  "language_info": {
   "codemirror_mode": {
    "name": "ipython",
    "version": 3
   },
   "file_extension": ".py",
   "mimetype": "text/x-python",
   "name": "python",
   "nbconvert_exporter": "python",
   "pygments_lexer": "ipython3",
   "version": "3.10.9"
  },
  "orig_nbformat": 4
 },
 "nbformat": 4,
 "nbformat_minor": 2
}
