{
 "cells": [
  {
   "attachments": {},
   "cell_type": "markdown",
   "metadata": {},
   "source": [
    "## 셀레늄\n",
    "- 데이터 크롤링"
   ]
  },
  {
   "cell_type": "code",
   "execution_count": 4,
   "metadata": {},
   "outputs": [
    {
     "name": "stdout",
     "output_type": "stream",
     "text": [
      "Requirement already satisfied: selenium in /opt/homebrew/lib/python3.10/site-packages (4.7.2)\n",
      "Requirement already satisfied: urllib3[socks]~=1.26 in /opt/homebrew/lib/python3.10/site-packages (from selenium) (1.26.14)\n",
      "Requirement already satisfied: trio-websocket~=0.9 in /opt/homebrew/lib/python3.10/site-packages (from selenium) (0.9.2)\n",
      "Requirement already satisfied: certifi>=2021.10.8 in /opt/homebrew/lib/python3.10/site-packages (from selenium) (2022.12.7)\n",
      "Requirement already satisfied: trio~=0.17 in /opt/homebrew/lib/python3.10/site-packages (from selenium) (0.22.0)\n",
      "Requirement already satisfied: async-generator>=1.9 in /opt/homebrew/lib/python3.10/site-packages (from trio~=0.17->selenium) (1.10)\n",
      "Requirement already satisfied: outcome in /opt/homebrew/lib/python3.10/site-packages (from trio~=0.17->selenium) (1.2.0)\n",
      "Requirement already satisfied: idna in /opt/homebrew/lib/python3.10/site-packages (from trio~=0.17->selenium) (3.4)\n",
      "Requirement already satisfied: exceptiongroup>=1.0.0rc9 in /opt/homebrew/lib/python3.10/site-packages (from trio~=0.17->selenium) (1.1.0)\n",
      "Requirement already satisfied: sortedcontainers in /opt/homebrew/lib/python3.10/site-packages (from trio~=0.17->selenium) (2.4.0)\n",
      "Requirement already satisfied: attrs>=19.2.0 in /opt/homebrew/lib/python3.10/site-packages (from trio~=0.17->selenium) (22.2.0)\n",
      "Requirement already satisfied: sniffio in /opt/homebrew/lib/python3.10/site-packages (from trio~=0.17->selenium) (1.3.0)\n",
      "Requirement already satisfied: wsproto>=0.14 in /opt/homebrew/lib/python3.10/site-packages (from trio-websocket~=0.9->selenium) (1.2.0)\n",
      "Requirement already satisfied: PySocks!=1.5.7,<2.0,>=1.5.6 in /opt/homebrew/lib/python3.10/site-packages (from urllib3[socks]~=1.26->selenium) (1.7.1)\n",
      "Requirement already satisfied: h11<1,>=0.9.0 in /opt/homebrew/lib/python3.10/site-packages (from wsproto>=0.14->trio-websocket~=0.9->selenium) (0.14.0)\n",
      "\n",
      "\u001b[1m[\u001b[0m\u001b[34;49mnotice\u001b[0m\u001b[1;39;49m]\u001b[0m\u001b[39;49m A new release of pip is available: \u001b[0m\u001b[31;49m23.0\u001b[0m\u001b[39;49m -> \u001b[0m\u001b[32;49m23.1.2\u001b[0m\n",
      "\u001b[1m[\u001b[0m\u001b[34;49mnotice\u001b[0m\u001b[1;39;49m]\u001b[0m\u001b[39;49m To update, run: \u001b[0m\u001b[32;49mpython3.10 -m pip install --upgrade pip\u001b[0m\n",
      "Note: you may need to restart the kernel to use updated packages.\n"
     ]
    }
   ],
   "source": [
    "%pip install selenium"
   ]
  },
  {
   "cell_type": "code",
   "execution_count": 13,
   "metadata": {},
   "outputs": [],
   "source": [
    "from selenium import webdriver\n",
    "\n",
    "browser = webdriver.Chrome()"
   ]
  },
  {
   "cell_type": "code",
   "execution_count": 14,
   "metadata": {},
   "outputs": [],
   "source": [
    "# browser.get(\"https://google.com\")\n",
    "browser.get(\"https://www.naver.com\")"
   ]
  },
  {
   "cell_type": "code",
   "execution_count": 18,
   "metadata": {},
   "outputs": [
    {
     "data": {
      "text/plain": [
       "['메일', '카페', '블로그', '쇼핑', '뉴스', '증권', '부동산', '지도', '웹툰', '바로가기 펼침']"
      ]
     },
     "execution_count": 18,
     "metadata": {},
     "output_type": "execute_result"
    }
   ],
   "source": [
    "from selenium.webdriver.common.by import By\n",
    "\n",
    "a = browser.find_element(By.CLASS_NAME, 'shortcut_list').text.split(\"\\n\")\n",
    "a"
   ]
  },
  {
   "cell_type": "code",
   "execution_count": 20,
   "metadata": {},
   "outputs": [],
   "source": [
    "browser.find_element(By.ID, 'query').click()"
   ]
  },
  {
   "cell_type": "code",
   "execution_count": 22,
   "metadata": {},
   "outputs": [],
   "source": [
    "browser.find_element(By.ID, 'query').send_keys(\"날씨\")"
   ]
  },
  {
   "cell_type": "code",
   "execution_count": 25,
   "metadata": {},
   "outputs": [],
   "source": [
    "browser.find_element(By.ID, 'search-btn').click()"
   ]
  },
  {
   "cell_type": "code",
   "execution_count": 39,
   "metadata": {},
   "outputs": [
    {
     "name": "stdout",
     "output_type": "stream",
     "text": [
      "23.1°\n",
      "95%\n",
      "0.6m/s\n"
     ]
    }
   ],
   "source": [
    "# 온도\n",
    "# 체감 습도 풍향 데이터도 가져오기\n",
    "\n",
    "parent = browser.find_element(By.CLASS_NAME, 'summary_list')\n",
    "childs = parent.find_elements(By.CLASS_NAME, 'sort')\n",
    "\n",
    "data_list = []\n",
    "for i in childs:\n",
    "    data_list.append(i.text)\n",
    "    # print(i.find_element(By.CLASS_NAME, 'desc').text)\n",
    "\n",
    "data_list"
   ]
  },
  {
   "cell_type": "code",
   "execution_count": 29,
   "metadata": {},
   "outputs": [
    {
     "ename": "AttributeError",
     "evalue": "'list' object has no attribute 'text'",
     "output_type": "error",
     "traceback": [
      "\u001b[0;31m---------------------------------------------------------------------------\u001b[0m",
      "\u001b[0;31mAttributeError\u001b[0m                            Traceback (most recent call last)",
      "Cell \u001b[0;32mIn[29], line 3\u001b[0m\n\u001b[1;32m      1\u001b[0m data \u001b[39m=\u001b[39m [\u001b[39m1\u001b[39m,\u001b[39m2\u001b[39m,\u001b[39m3\u001b[39m,\u001b[39m4\u001b[39m]\n\u001b[0;32m----> 3\u001b[0m data\u001b[39m.\u001b[39;49mtext\n",
      "\u001b[0;31mAttributeError\u001b[0m: 'list' object has no attribute 'text'"
     ]
    }
   ],
   "source": [
    "data = [\"element_1\", \"element_2\", \"element_3\", \"element_4\"]\n",
    "\n",
    "data.text"
   ]
  },
  {
   "cell_type": "code",
   "execution_count": 40,
   "metadata": {},
   "outputs": [],
   "source": [
    "# 환율 데이터 가져오기\n",
    "url = \"https://search.naver.com/search.naver?sm=tab_hty.top&where=nexearch&query=%ED%99%98%EC%9C%A8&oquery=%EB%82%A0%EC%94%A8&tqi=i55OPdprvTVssL3F9cossssst0G-208953\"\n",
    "browser.get(url)"
   ]
  },
  {
   "cell_type": "code",
   "execution_count": 41,
   "metadata": {},
   "outputs": [
    {
     "data": {
      "text/plain": [
       "'1,292.00'"
      ]
     },
     "execution_count": 41,
     "metadata": {},
     "output_type": "execute_result"
    }
   ],
   "source": [
    "browser.find_element(By.XPATH, '//*[@id=\"_cs_foreigninfo\"]/div[1]/div[2]/div/div[1]/div[1]/div[1]/div[1]/h3/a/span[2]/strong').text"
   ]
  },
  {
   "attachments": {},
   "cell_type": "markdown",
   "metadata": {},
   "source": [
    "### 구글 뉴스 크롤링 (1)"
   ]
  },
  {
   "cell_type": "code",
   "execution_count": 45,
   "metadata": {},
   "outputs": [],
   "source": [
    "browser = webdriver.Chrome()"
   ]
  },
  {
   "cell_type": "code",
   "execution_count": 46,
   "metadata": {},
   "outputs": [
    {
     "data": {
      "text/plain": [
       "'자동화 - Google 검색'"
      ]
     },
     "execution_count": 46,
     "metadata": {},
     "output_type": "execute_result"
    }
   ],
   "source": [
    "url = 'https://www.google.com/search?q=%EC%9E%90%EB%8F%99%ED%99%94&rlz=1C5CHFA_enKR1038KR1039&tbm=nws&ei=FnaSZKW3Irzs2roPvOqmsAk&ved=0ahUKEwilmoeTvdP_AhU8tlYBHTy1CZYQ4dUDCA0&uact=5&oq=%EC%9E%90%EB%8F%99%ED%99%94&gs_lcp=Cgxnd3Mtd2l6LW5ld3MQAzILCAAQgAQQsQMQgwEyBQgAEIAEMgUIABCABDIFCAAQgAQyBQgAEIAEMgUIABCABDIFCAAQgAQyBQgAEIAEMgUIABCABDIFCAAQgAQ6BAgAEB46BggAEB4QDzoICAAQgAQQsQNQ6AFYxDRgx0VoAHAAeACAAZ0QiAHiMpIBDzEuNC41LTEuMC4xLjEuMZgBAKABAcABAQ&sclient=gws-wiz-news'\n",
    "browser.get(url)\n",
    "\n",
    "browser.title"
   ]
  },
  {
   "cell_type": "code",
   "execution_count": null,
   "metadata": {},
   "outputs": [],
   "source": [
    "# 첫 번째 뉴스의 (1) 뉴스 제목 (2) 뉴스 내용 (3) 링크\n",
    "# 1페이지 전체 (1) 뉴스 제목 (2) 뉴스 내용 (3) 링크"
   ]
  },
  {
   "attachments": {},
   "cell_type": "markdown",
   "metadata": {},
   "source": [
    "### 구글 뉴스 크롤링"
   ]
  },
  {
   "cell_type": "code",
   "execution_count": 47,
   "metadata": {},
   "outputs": [],
   "source": [
    "from selenium import webdriver\n",
    "from selenium.webdriver.common.by import By"
   ]
  },
  {
   "cell_type": "code",
   "execution_count": 48,
   "metadata": {},
   "outputs": [],
   "source": [
    "browser = webdriver.Chrome()"
   ]
  },
  {
   "cell_type": "code",
   "execution_count": 49,
   "metadata": {},
   "outputs": [],
   "source": [
    "url = 'https://www.google.com/search?q=%EC%9E%90%EB%8F%99%ED%99%94&rlz=1C5CHFA_enKR1038KR1039&tbm=nws&ei=FnaSZKW3Irzs2roPvOqmsAk&ved=0ahUKEwilmoeTvdP_AhU8tlYBHTy1CZYQ4dUDCA0&uact=5&oq=%EC%9E%90%EB%8F%99%ED%99%94&gs_lcp=Cgxnd3Mtd2l6LW5ld3MQAzILCAAQgAQQsQMQgwEyBQgAEIAEMgUIABCABDIFCAAQgAQyBQgAEIAEMgUIABCABDIFCAAQgAQyBQgAEIAEMgUIABCABDIFCAAQgAQ6BAgAEB46BggAEB4QDzoICAAQgAQQsQNQ6AFYxDRgx0VoAHAAeACAAZ0QiAHiMpIBDzEuNC41LTEuMC4xLjEuMZgBAKABAcABAQ&sclient=gws-wiz-news'\n",
    "browser.get(url)"
   ]
  },
  {
   "cell_type": "code",
   "execution_count": 54,
   "metadata": {},
   "outputs": [
    {
     "data": {
      "text/plain": [
       "('뉴로메카-원익로보틱스, 로봇 자동화 개발 맞손',\n",
       " '협동로봇 제조기업 뉴로메카가 19일 원익로보틱스와 판교 원익빌딩에서 로봇·자동화 개발 사업 추진을 위한 상호 협력 양해각서를 체결했다.',\n",
       " 'https://zdnet.co.kr/view/?no=20230620104928')"
      ]
     },
     "execution_count": 54,
     "metadata": {},
     "output_type": "execute_result"
    }
   ],
   "source": [
    "# 첫 번째 뉴스의 제목, 내용, 링크 가져오기\n",
    "title = browser.find_element(By.CLASS_NAME, 'n0jPhd').text\n",
    "title\n",
    "\n",
    "content = browser.find_element(By.CLASS_NAME, 'GI74Re').text\n",
    "content\n",
    "\n",
    "link = browser.find_element(By.CLASS_NAME, 'WlydOe').get_attribute('href')\n",
    "link\n",
    "\n",
    "title, content, link"
   ]
  },
  {
   "cell_type": "code",
   "execution_count": null,
   "metadata": {},
   "outputs": [],
   "source": [
    "# 1페이지에 있는 전체 뉴스 데이터를 가져오기\n",
    "titles = browser.find_elements(By.CLASS_NAME, 'n0jPhd')\n",
    "for i in titles:\n",
    "    print(i.text)"
   ]
  },
  {
   "cell_type": "code",
   "execution_count": null,
   "metadata": {},
   "outputs": [],
   "source": [
    "contents = browser.find_elements(By.CLASS_NAME, 'GI74Re')\n",
    "for i in contents:\n",
    "    print(i.text)"
   ]
  },
  {
   "cell_type": "code",
   "execution_count": null,
   "metadata": {},
   "outputs": [],
   "source": [
    "links = browser.find_elements(By.CLASS_NAME, 'WlydOe')\n",
    "\n",
    "for i in links:\n",
    "    print(i.get_attribute('href'))"
   ]
  },
  {
   "cell_type": "code",
   "execution_count": 78,
   "metadata": {},
   "outputs": [],
   "source": [
    "# 1페이지에 있는 전체 뉴스 데이터를 가져오기\n",
    "parents = browser.find_elements(By.CLASS_NAME, 'SoaBEf')\n",
    "\n",
    "title_list = []\n",
    "content_list = []\n",
    "link_list = []\n",
    "\n",
    "for elem in parents:\n",
    "    title = elem.find_element(By.CLASS_NAME, 'n0jPhd').text\n",
    "    content = elem.find_element(By.CLASS_NAME, 'GI74Re').text\n",
    "    link = elem.find_element(By.CLASS_NAME, 'WlydOe').get_attribute('href')\n",
    "\n",
    "    title_list.append(title)\n",
    "    content_list.append(content)\n",
    "    link_list.append(link)"
   ]
  },
  {
   "cell_type": "code",
   "execution_count": null,
   "metadata": {},
   "outputs": [],
   "source": [
    "%pip install pandas"
   ]
  },
  {
   "cell_type": "code",
   "execution_count": 76,
   "metadata": {},
   "outputs": [],
   "source": [
    "import pandas as pd"
   ]
  },
  {
   "cell_type": "code",
   "execution_count": 81,
   "metadata": {},
   "outputs": [
    {
     "data": {
      "text/html": [
       "<div>\n",
       "<style scoped>\n",
       "    .dataframe tbody tr th:only-of-type {\n",
       "        vertical-align: middle;\n",
       "    }\n",
       "\n",
       "    .dataframe tbody tr th {\n",
       "        vertical-align: top;\n",
       "    }\n",
       "\n",
       "    .dataframe thead th {\n",
       "        text-align: right;\n",
       "    }\n",
       "</style>\n",
       "<table border=\"1\" class=\"dataframe\">\n",
       "  <thead>\n",
       "    <tr style=\"text-align: right;\">\n",
       "      <th></th>\n",
       "      <th>제목</th>\n",
       "      <th>내용</th>\n",
       "      <th>링크</th>\n",
       "    </tr>\n",
       "  </thead>\n",
       "  <tbody>\n",
       "    <tr>\n",
       "      <th>0</th>\n",
       "      <td>뉴로메카-원익로보틱스, 로봇 자동화 개발 맞손</td>\n",
       "      <td>협동로봇 제조기업 뉴로메카가 19일 원익로보틱스와 판교 원익빌딩에서 로봇·자동화 개...</td>\n",
       "      <td>https://zdnet.co.kr/view/?no=20230620104928</td>\n",
       "    </tr>\n",
       "    <tr>\n",
       "      <th>1</th>\n",
       "      <td>에스피시스템스, 66억 규모 로봇 자동화 시스템 공급계약</td>\n",
       "      <td>[서울=뉴시스] 김경택 기자 = 에스피시스템스는 코넥과 66억원 규모의 산업용 로봇...</td>\n",
       "      <td>https://www.fnnews.com/news/202306211143537130</td>\n",
       "    </tr>\n",
       "    <tr>\n",
       "      <th>2</th>\n",
       "      <td>뉴로메카-원익로보틱스, '혁신 로봇·자동화 기술 고도화' 맞손</td>\n",
       "      <td>뉴로메카는 원익로보틱스와 최근 판교 원익빌딩에서 '로봇·자동화 개발 사업 추진'을 ...</td>\n",
       "      <td>https://www.etnews.com/20230621000154</td>\n",
       "    </tr>\n",
       "    <tr>\n",
       "      <th>3</th>\n",
       "      <td>[2023 AMWC] 자동화에서 자율화로… 디지털 트윈 통한 제조 최적화 구현</td>\n",
       "      <td>[인더스트리뉴스 이건오 기자] 카이스트 장영재 교수가 6월 20일 서울 코엑스(CO...</td>\n",
       "      <td>http://www.industrynews.co.kr/news/articleView...</td>\n",
       "    </tr>\n",
       "    <tr>\n",
       "      <th>4</th>\n",
       "      <td>이노버스, 과기부 장관 표창… AIoT 기술 통한 재활용 시스템 자동화 공로</td>\n",
       "      <td>[일간투데이 한지연 기자] 환경 엔지니어링 기업 주식회사 이노버스(대표 장진혁)가 ...</td>\n",
       "      <td>http://www.dtoday.co.kr/news/articleView.html?...</td>\n",
       "    </tr>\n",
       "    <tr>\n",
       "      <th>5</th>\n",
       "      <td>빅데이터·AI 시대 회계감사…전수 조사·자동화 등</td>\n",
       "      <td>한국공인회계사회 회계현안 세미나 '빅데이터와 AI시대 회계감사' 4대 회계법인 활용...</td>\n",
       "      <td>https://www.dnews.co.kr/uhtml/view.jsp?idxno=2...</td>\n",
       "    </tr>\n",
       "    <tr>\n",
       "      <th>6</th>\n",
       "      <td>FPT 소프트웨어 코리아 '코리아 노코드·로우코드 자동화 임팩트 2023' 참여</td>\n",
       "      <td>코리아 노코드·로우코드 자동화 임팩트 2023', 21일 한국과학기술회관에서 개최....</td>\n",
       "      <td>https://www.newswire.co.kr/newsRead.php?no=969052</td>\n",
       "    </tr>\n",
       "    <tr>\n",
       "      <th>7</th>\n",
       "      <td>뉴로메카-원익로보틱스, 로봇 자동화 개발 사업 협력</td>\n",
       "      <td>원익로보틱스와 뉴로메카는 로봇 및 자동화 개발 사업 추진을 위한 상호 협력에 대한 ...</td>\n",
       "      <td>http://www.irobotnews.com/news/articleView.htm...</td>\n",
       "    </tr>\n",
       "    <tr>\n",
       "      <th>8</th>\n",
       "      <td>에스피시스템스, 66억 규모 로봇 자동화 시스템 공급 계약[주목 e공시]</td>\n",
       "      <td>는 코넥과 66억원 규모의 산업용 로봇 자동화 시스템 공급계약을 체결했다고 21일 ...</td>\n",
       "      <td>https://www.hankyung.com/finance/article/20230...</td>\n",
       "    </tr>\n",
       "    <tr>\n",
       "      <th>9</th>\n",
       "      <td>파씨온택, 자동화 기술 솔루션 공급업체로 '우뚝'</td>\n",
       "      <td>업력 3년이 채 되지 않은 자동화기기 부품ㆍ기술 제공기업 ㈜파씨온택이 자동화ㆍ전력기...</td>\n",
       "      <td>https://www.eroun.net/news/articleView.html?id...</td>\n",
       "    </tr>\n",
       "  </tbody>\n",
       "</table>\n",
       "</div>"
      ],
      "text/plain": [
       "                                             제목  \\\n",
       "0                     뉴로메카-원익로보틱스, 로봇 자동화 개발 맞손   \n",
       "1               에스피시스템스, 66억 규모 로봇 자동화 시스템 공급계약   \n",
       "2            뉴로메카-원익로보틱스, '혁신 로봇·자동화 기술 고도화' 맞손   \n",
       "3   [2023 AMWC] 자동화에서 자율화로… 디지털 트윈 통한 제조 최적화 구현   \n",
       "4    이노버스, 과기부 장관 표창… AIoT 기술 통한 재활용 시스템 자동화 공로   \n",
       "5                   빅데이터·AI 시대 회계감사…전수 조사·자동화 등   \n",
       "6  FPT 소프트웨어 코리아 '코리아 노코드·로우코드 자동화 임팩트 2023' 참여   \n",
       "7                  뉴로메카-원익로보틱스, 로봇 자동화 개발 사업 협력   \n",
       "8      에스피시스템스, 66억 규모 로봇 자동화 시스템 공급 계약[주목 e공시]   \n",
       "9                   파씨온택, 자동화 기술 솔루션 공급업체로 '우뚝'   \n",
       "\n",
       "                                                  내용  \\\n",
       "0  협동로봇 제조기업 뉴로메카가 19일 원익로보틱스와 판교 원익빌딩에서 로봇·자동화 개...   \n",
       "1  [서울=뉴시스] 김경택 기자 = 에스피시스템스는 코넥과 66억원 규모의 산업용 로봇...   \n",
       "2  뉴로메카는 원익로보틱스와 최근 판교 원익빌딩에서 '로봇·자동화 개발 사업 추진'을 ...   \n",
       "3  [인더스트리뉴스 이건오 기자] 카이스트 장영재 교수가 6월 20일 서울 코엑스(CO...   \n",
       "4  [일간투데이 한지연 기자] 환경 엔지니어링 기업 주식회사 이노버스(대표 장진혁)가 ...   \n",
       "5  한국공인회계사회 회계현안 세미나 '빅데이터와 AI시대 회계감사' 4대 회계법인 활용...   \n",
       "6  코리아 노코드·로우코드 자동화 임팩트 2023', 21일 한국과학기술회관에서 개최....   \n",
       "7  원익로보틱스와 뉴로메카는 로봇 및 자동화 개발 사업 추진을 위한 상호 협력에 대한 ...   \n",
       "8  는 코넥과 66억원 규모의 산업용 로봇 자동화 시스템 공급계약을 체결했다고 21일 ...   \n",
       "9  업력 3년이 채 되지 않은 자동화기기 부품ㆍ기술 제공기업 ㈜파씨온택이 자동화ㆍ전력기...   \n",
       "\n",
       "                                                  링크  \n",
       "0        https://zdnet.co.kr/view/?no=20230620104928  \n",
       "1     https://www.fnnews.com/news/202306211143537130  \n",
       "2              https://www.etnews.com/20230621000154  \n",
       "3  http://www.industrynews.co.kr/news/articleView...  \n",
       "4  http://www.dtoday.co.kr/news/articleView.html?...  \n",
       "5  https://www.dnews.co.kr/uhtml/view.jsp?idxno=2...  \n",
       "6  https://www.newswire.co.kr/newsRead.php?no=969052  \n",
       "7  http://www.irobotnews.com/news/articleView.htm...  \n",
       "8  https://www.hankyung.com/finance/article/20230...  \n",
       "9  https://www.eroun.net/news/articleView.html?id...  "
      ]
     },
     "execution_count": 81,
     "metadata": {},
     "output_type": "execute_result"
    }
   ],
   "source": [
    "data = {\n",
    "    \"제목\" : title_list,\n",
    "    \"내용\" : content_list,\n",
    "    \"링크\" : link_list\n",
    "}\n",
    "\n",
    "df = pd.DataFrame(data)\n",
    "df\n",
    "# df.to_csv(\"구글 뉴스 크롤링.csv\")"
   ]
  },
  {
   "attachments": {},
   "cell_type": "markdown",
   "metadata": {},
   "source": [
    "### 네이버 뉴스 크롤링\n",
    "\n",
    "- 제목, 내용, 링크, 언론사\n",
    "- [경제 홈 : 네이버 뉴스 (naver.com)](https://news.naver.com/main/list.naver?mode=LS2D&mid=shm&sid1=101&sid2=259)\n",
    "- 엑셀 저장"
   ]
  },
  {
   "cell_type": "code",
   "execution_count": 83,
   "metadata": {},
   "outputs": [],
   "source": [
    "from selenium import webdriver\n",
    "from selenium.webdriver.common.by import By\n",
    "import pandas as pd"
   ]
  },
  {
   "cell_type": "code",
   "execution_count": 84,
   "metadata": {},
   "outputs": [],
   "source": [
    "browser = webdriver.Chrome()"
   ]
  },
  {
   "cell_type": "code",
   "execution_count": 85,
   "metadata": {},
   "outputs": [],
   "source": [
    "url = 'https://news.naver.com/main/list.naver?mode=LS2D&mid=shm&sid1=101&sid2=259'\n",
    "\n",
    "browser.get(url)"
   ]
  },
  {
   "cell_type": "code",
   "execution_count": 100,
   "metadata": {},
   "outputs": [],
   "source": [
    "# (1) 각각의 뉴스 컨테이너를 모두 불러온다.\n",
    "# (2) 컨테이너 안에서 필요한 데이터들을 뽑아낸다.\n",
    "\n",
    "frame = browser.find_element(By.CLASS_NAME, 'list_body')\n",
    "\n",
    "# len(frame.find_elements(By.TAG_NAME, 'li'))\n",
    "\n",
    "containers = frame.find_elements(By.TAG_NAME, 'li')\n",
    "\n",
    "title_list = []\n",
    "content_list = []\n",
    "company_list = []\n",
    "link_list = []\n",
    "\n",
    "for item in containers:\n",
    "    title = item.find_element(By.TAG_NAME, 'img').get_attribute('alt')\n",
    "    title_list.append(title)\n",
    "\n",
    "    content = item.find_element(By.CLASS_NAME, 'lede').text\n",
    "    content_list.append(content)\n",
    "\n",
    "    company = item.find_element(By.CLASS_NAME, 'writing').text\n",
    "    company_list.append(company)\n",
    "\n",
    "    link = item.find_element(By.TAG_NAME, 'a').get_attribute('href')\n",
    "    link_list.append(link)\n",
    "\n",
    "\n",
    "data = {\n",
    "    \"제목\" : title_list,\n",
    "    \"내용\" : content_list,\n",
    "    \"언론사\" : company_list,\n",
    "    \"링크\" : link_list\n",
    "}\n",
    "\n",
    "df = pd.DataFrame(data)\n",
    "df.to_csv(\"naver_news.csv\")"
   ]
  },
  {
   "cell_type": "code",
   "execution_count": null,
   "metadata": {},
   "outputs": [],
   "source": [
    "link_list\n",
    "\n",
    "import time\n",
    "\n",
    "for i in range(20):\n",
    "    url = link_list[i]\n",
    "\n",
    "    # browser.get(url)\n",
    "    # time.sleep(3)"
   ]
  },
  {
   "attachments": {},
   "cell_type": "markdown",
   "metadata": {},
   "source": [
    "### YES24 베스트셀러"
   ]
  },
  {
   "cell_type": "code",
   "execution_count": 104,
   "metadata": {},
   "outputs": [],
   "source": [
    "browser = webdriver.Chrome()"
   ]
  },
  {
   "cell_type": "code",
   "execution_count": 105,
   "metadata": {},
   "outputs": [],
   "source": [
    "url = 'https://www.yes24.com/24/category/bestseller?CategoryNumber=001&sumgb=06'\n",
    "browser.get(url)"
   ]
  },
  {
   "cell_type": "code",
   "execution_count": 143,
   "metadata": {},
   "outputs": [
    {
     "data": {
      "text/html": [
       "<div>\n",
       "<style scoped>\n",
       "    .dataframe tbody tr th:only-of-type {\n",
       "        vertical-align: middle;\n",
       "    }\n",
       "\n",
       "    .dataframe tbody tr th {\n",
       "        vertical-align: top;\n",
       "    }\n",
       "\n",
       "    .dataframe thead th {\n",
       "        text-align: right;\n",
       "    }\n",
       "</style>\n",
       "<table border=\"1\" class=\"dataframe\">\n",
       "  <thead>\n",
       "    <tr style=\"text-align: right;\">\n",
       "      <th></th>\n",
       "      <th>제목</th>\n",
       "      <th>저자</th>\n",
       "      <th>출판사</th>\n",
       "      <th>출판일</th>\n",
       "      <th>링크</th>\n",
       "    </tr>\n",
       "  </thead>\n",
       "  <tbody>\n",
       "    <tr>\n",
       "      <th>0</th>\n",
       "      <td>비욘드 더 스토리 BEYOND THE STORY</td>\n",
       "      <td>강명석,방탄소년단 저</td>\n",
       "      <td>빅히트뮤직(BIGHIT MUSIC)</td>\n",
       "      <td>2023년 07월</td>\n",
       "      <td>https://www.yes24.com/Product/Goods/119578103</td>\n",
       "    </tr>\n",
       "    <tr>\n",
       "      <th>1</th>\n",
       "      <td>세이노의 가르침</td>\n",
       "      <td>세이노(SayNo) 저</td>\n",
       "      <td>데이원</td>\n",
       "      <td>2023년 03월</td>\n",
       "      <td>https://www.yes24.com/Product/Goods/117014613</td>\n",
       "    </tr>\n",
       "    <tr>\n",
       "      <th>2</th>\n",
       "      <td>문과 남자의 과학 공부</td>\n",
       "      <td>유시민 저</td>\n",
       "      <td>돌베개</td>\n",
       "      <td>2023년 06월</td>\n",
       "      <td>https://www.yes24.com/Product/Goods/119608737</td>\n",
       "    </tr>\n",
       "    <tr>\n",
       "      <th>3</th>\n",
       "      <td>블루 아카이브 오피셜 아트웍스 한정판</td>\n",
       "      <td>신민섭 역/NEXON GAMES 감수</td>\n",
       "      <td>학산문화사</td>\n",
       "      <td>2023년 08월</td>\n",
       "      <td>https://www.yes24.com/Product/Goods/119709825</td>\n",
       "    </tr>\n",
       "    <tr>\n",
       "      <th>4</th>\n",
       "      <td>역행자 확장판</td>\n",
       "      <td>자청 저</td>\n",
       "      <td>웅진지식하우스</td>\n",
       "      <td>2023년 05월</td>\n",
       "      <td>https://www.yes24.com/Product/Goods/119120517</td>\n",
       "    </tr>\n",
       "    <tr>\n",
       "      <th>5</th>\n",
       "      <td>나는 어떻게 삶의 해답을 찾는가</td>\n",
       "      <td>고명환 저</td>\n",
       "      <td>라곰</td>\n",
       "      <td>2023년 06월</td>\n",
       "      <td>https://www.yes24.com/Product/Goods/119627529</td>\n",
       "    </tr>\n",
       "    <tr>\n",
       "      <th>6</th>\n",
       "      <td>사장학개론</td>\n",
       "      <td>김승호 저</td>\n",
       "      <td>스노우폭스북스</td>\n",
       "      <td>2023년 04월</td>\n",
       "      <td>https://www.yes24.com/Product/Goods/117958120</td>\n",
       "    </tr>\n",
       "    <tr>\n",
       "      <th>7</th>\n",
       "      <td>블루 아카이브 오피셜 아트웍스</td>\n",
       "      <td>신민섭 역/NEXON GAMES 감수</td>\n",
       "      <td>학산문화사</td>\n",
       "      <td>2023년 08월</td>\n",
       "      <td>https://www.yes24.com/Product/Goods/119709821</td>\n",
       "    </tr>\n",
       "    <tr>\n",
       "      <th>8</th>\n",
       "      <td>모든 삶은 흐른다</td>\n",
       "      <td>로랑스 드빌레르 저/이주영 역</td>\n",
       "      <td>피카(FIKA)</td>\n",
       "      <td>2023년 04월</td>\n",
       "      <td>https://www.yes24.com/Product/Goods/118104953</td>\n",
       "    </tr>\n",
       "    <tr>\n",
       "      <th>9</th>\n",
       "      <td>도둑맞은 집중력</td>\n",
       "      <td>요한 하리 저/김하현 역</td>\n",
       "      <td>어크로스</td>\n",
       "      <td>2023년 04월</td>\n",
       "      <td>https://www.yes24.com/Product/Goods/118579613</td>\n",
       "    </tr>\n",
       "    <tr>\n",
       "      <th>10</th>\n",
       "      <td>메리골드 마음 세탁소</td>\n",
       "      <td>윤정은 저</td>\n",
       "      <td>북로망스</td>\n",
       "      <td>2023년 03월</td>\n",
       "      <td>https://www.yes24.com/Product/Goods/117716170</td>\n",
       "    </tr>\n",
       "    <tr>\n",
       "      <th>11</th>\n",
       "      <td>열혈강호 88</td>\n",
       "      <td>전극진 글/양재현 그림</td>\n",
       "      <td>대원</td>\n",
       "      <td>2023년 06월</td>\n",
       "      <td>https://www.yes24.com/Product/Goods/119628047</td>\n",
       "    </tr>\n",
       "    <tr>\n",
       "      <th>12</th>\n",
       "      <td>명탐정 코난 103</td>\n",
       "      <td>아오야마 고쇼 글그림</td>\n",
       "      <td>서울미디어코믹스(서울문화사)</td>\n",
       "      <td>2023년 06월</td>\n",
       "      <td>https://www.yes24.com/Product/Goods/119693520</td>\n",
       "    </tr>\n",
       "    <tr>\n",
       "      <th>13</th>\n",
       "      <td>유연함의 힘</td>\n",
       "      <td>수잔 애쉬포드 저/김정혜 역</td>\n",
       "      <td>상상스퀘어</td>\n",
       "      <td>2023년 05월</td>\n",
       "      <td>https://www.yes24.com/Product/Goods/118755548</td>\n",
       "    </tr>\n",
       "    <tr>\n",
       "      <th>14</th>\n",
       "      <td>흔한남매의 흔한 호기심 9</td>\n",
       "      <td>흔한남매 원저/유난희 그림/이정모,흔한컴퍼니 감수</td>\n",
       "      <td>미래엔아이세움</td>\n",
       "      <td>2023년 06월</td>\n",
       "      <td>https://www.yes24.com/Product/Goods/119458572</td>\n",
       "    </tr>\n",
       "    <tr>\n",
       "      <th>15</th>\n",
       "      <td>돈의 속성 300쇄 리커버</td>\n",
       "      <td>김승호 저</td>\n",
       "      <td>스노우폭스북스</td>\n",
       "      <td>2020년 06월</td>\n",
       "      <td>https://www.yes24.com/Product/Goods/90428162</td>\n",
       "    </tr>\n",
       "    <tr>\n",
       "      <th>16</th>\n",
       "      <td>꿀벌의 예언 1</td>\n",
       "      <td>베르나르 베르베르 저/전미연 역</td>\n",
       "      <td>열린책들</td>\n",
       "      <td>2023년 06월</td>\n",
       "      <td>https://www.yes24.com/Product/Goods/119609441</td>\n",
       "    </tr>\n",
       "    <tr>\n",
       "      <th>17</th>\n",
       "      <td>원씽 THE ONE THING</td>\n",
       "      <td>게리 켈러,제이 파파산 저/구세희 역</td>\n",
       "      <td>비즈니스북스</td>\n",
       "      <td>2013년 08월</td>\n",
       "      <td>https://www.yes24.com/Product/Goods/9349031</td>\n",
       "    </tr>\n",
       "    <tr>\n",
       "      <th>18</th>\n",
       "      <td>최소한의 한국사</td>\n",
       "      <td>최태성 저</td>\n",
       "      <td>프런트페이지</td>\n",
       "      <td>2023년 06월</td>\n",
       "      <td>https://www.yes24.com/Product/Goods/119458052</td>\n",
       "    </tr>\n",
       "    <tr>\n",
       "      <th>19</th>\n",
       "      <td>설민석의 한국사 대모험 25</td>\n",
       "      <td>스토리박스,설민석 글/정현희 그림/강석화 감수</td>\n",
       "      <td>단꿈아이</td>\n",
       "      <td>2023년 05월</td>\n",
       "      <td>https://www.yes24.com/Product/Goods/119178012</td>\n",
       "    </tr>\n",
       "  </tbody>\n",
       "</table>\n",
       "</div>"
      ],
      "text/plain": [
       "                            제목                           저자  \\\n",
       "0   비욘드 더 스토리 BEYOND THE STORY                  강명석,방탄소년단 저   \n",
       "1                     세이노의 가르침                 세이노(SayNo) 저   \n",
       "2                 문과 남자의 과학 공부                        유시민 저   \n",
       "3         블루 아카이브 오피셜 아트웍스 한정판         신민섭 역/NEXON GAMES 감수   \n",
       "4                      역행자 확장판                         자청 저   \n",
       "5            나는 어떻게 삶의 해답을 찾는가                        고명환 저   \n",
       "6                        사장학개론                        김승호 저   \n",
       "7             블루 아카이브 오피셜 아트웍스         신민섭 역/NEXON GAMES 감수   \n",
       "8                    모든 삶은 흐른다             로랑스 드빌레르 저/이주영 역   \n",
       "9                     도둑맞은 집중력                요한 하리 저/김하현 역   \n",
       "10                 메리골드 마음 세탁소                        윤정은 저   \n",
       "11                     열혈강호 88                 전극진 글/양재현 그림   \n",
       "12                  명탐정 코난 103                  아오야마 고쇼 글그림   \n",
       "13                      유연함의 힘              수잔 애쉬포드 저/김정혜 역   \n",
       "14              흔한남매의 흔한 호기심 9  흔한남매 원저/유난희 그림/이정모,흔한컴퍼니 감수   \n",
       "15              돈의 속성 300쇄 리커버                        김승호 저   \n",
       "16                    꿀벌의 예언 1            베르나르 베르베르 저/전미연 역   \n",
       "17            원씽 THE ONE THING         게리 켈러,제이 파파산 저/구세희 역   \n",
       "18                    최소한의 한국사                        최태성 저   \n",
       "19             설민석의 한국사 대모험 25    스토리박스,설민석 글/정현희 그림/강석화 감수   \n",
       "\n",
       "                    출판사        출판일  \\\n",
       "0   빅히트뮤직(BIGHIT MUSIC)  2023년 07월   \n",
       "1                   데이원  2023년 03월   \n",
       "2                   돌베개  2023년 06월   \n",
       "3                 학산문화사  2023년 08월   \n",
       "4               웅진지식하우스  2023년 05월   \n",
       "5                    라곰  2023년 06월   \n",
       "6               스노우폭스북스  2023년 04월   \n",
       "7                 학산문화사  2023년 08월   \n",
       "8              피카(FIKA)  2023년 04월   \n",
       "9                  어크로스  2023년 04월   \n",
       "10                 북로망스  2023년 03월   \n",
       "11                   대원  2023년 06월   \n",
       "12      서울미디어코믹스(서울문화사)  2023년 06월   \n",
       "13                상상스퀘어  2023년 05월   \n",
       "14              미래엔아이세움  2023년 06월   \n",
       "15              스노우폭스북스  2020년 06월   \n",
       "16                 열린책들  2023년 06월   \n",
       "17               비즈니스북스  2013년 08월   \n",
       "18               프런트페이지  2023년 06월   \n",
       "19                 단꿈아이  2023년 05월   \n",
       "\n",
       "                                               링크  \n",
       "0   https://www.yes24.com/Product/Goods/119578103  \n",
       "1   https://www.yes24.com/Product/Goods/117014613  \n",
       "2   https://www.yes24.com/Product/Goods/119608737  \n",
       "3   https://www.yes24.com/Product/Goods/119709825  \n",
       "4   https://www.yes24.com/Product/Goods/119120517  \n",
       "5   https://www.yes24.com/Product/Goods/119627529  \n",
       "6   https://www.yes24.com/Product/Goods/117958120  \n",
       "7   https://www.yes24.com/Product/Goods/119709821  \n",
       "8   https://www.yes24.com/Product/Goods/118104953  \n",
       "9   https://www.yes24.com/Product/Goods/118579613  \n",
       "10  https://www.yes24.com/Product/Goods/117716170  \n",
       "11  https://www.yes24.com/Product/Goods/119628047  \n",
       "12  https://www.yes24.com/Product/Goods/119693520  \n",
       "13  https://www.yes24.com/Product/Goods/118755548  \n",
       "14  https://www.yes24.com/Product/Goods/119458572  \n",
       "15   https://www.yes24.com/Product/Goods/90428162  \n",
       "16  https://www.yes24.com/Product/Goods/119609441  \n",
       "17    https://www.yes24.com/Product/Goods/9349031  \n",
       "18  https://www.yes24.com/Product/Goods/119458052  \n",
       "19  https://www.yes24.com/Product/Goods/119178012  "
      ]
     },
     "execution_count": 143,
     "metadata": {},
     "output_type": "execute_result"
    }
   ],
   "source": [
    "# 도서 정보가 있는 엘리먼트인 클래스 값이 goodsTxtInfo 인 녀석을 모두 불러온다.\n",
    "containers = browser.find_elements(By.CLASS_NAME, 'goodsTxtInfo')\n",
    "\n",
    "title_list = []\n",
    "link_list = []\n",
    "writer_list = []\n",
    "company_list = []\n",
    "publishing_list = []\n",
    "\n",
    "for item in containers:\n",
    "    title = item.find_element(By.TAG_NAME, 'a').text\n",
    "    title_list.append(title)\n",
    "\n",
    "    link = item.find_element(By.TAG_NAME, 'a').get_attribute('href')\n",
    "    link_list.append(link)\n",
    "\n",
    "    info = item.find_element(By.CLASS_NAME, 'aupu').text\n",
    "    info_list = info.split(\" | \")\n",
    "\n",
    "    writer = info_list[0]\n",
    "    writer_list.append(writer)\n",
    "\n",
    "    company = info_list[1]\n",
    "    company_list.append(company)\n",
    "\n",
    "    publishing = info_list[2]\n",
    "    publishing_list.append(publishing)\n",
    "\n",
    "data = {\n",
    "    \"제목\" : title_list,\n",
    "    \"저자\" : writer_list,\n",
    "    \"출판사\" : company_list,\n",
    "    \"출판일\" : publishing_list,\n",
    "    \"링크\" : link_list\n",
    " }\n",
    "\n",
    "df = pd.DataFrame(data)\n",
    "df.to_csv(\"yes24_bestceller.csv\")\n",
    "df"
   ]
  },
  {
   "cell_type": "code",
   "execution_count": 140,
   "metadata": {},
   "outputs": [
    {
     "ename": "AttributeError",
     "evalue": "'tuple' object has no attribute 'split'",
     "output_type": "error",
     "traceback": [
      "\u001b[0;31m---------------------------------------------------------------------------\u001b[0m",
      "\u001b[0;31mAttributeError\u001b[0m                            Traceback (most recent call last)",
      "Cell \u001b[0;32mIn[140], line 6\u001b[0m\n\u001b[1;32m      2\u001b[0m \u001b[39m# word = '신민섭 역/NEXON GAMES 감수 | 학산문화사 | 2023년 08월'\u001b[39;00m\n\u001b[1;32m      3\u001b[0m \u001b[39m# word = '스토리박스,설민석 글/정현희 그림/강석화 감수 | 단꿈아이 | 2023년 05월'\u001b[39;00m\n\u001b[1;32m      4\u001b[0m word \u001b[39m=\u001b[39m \u001b[39m'\u001b[39m\u001b[39m베르나르 베르베르 저/전미연 역\u001b[39m\u001b[39m'\u001b[39m, \u001b[39m'\u001b[39m\u001b[39m열린책들\u001b[39m\u001b[39m'\u001b[39m, \u001b[39m'\u001b[39m\u001b[39m2023년 06월\u001b[39m\u001b[39m'\u001b[39m\n\u001b[0;32m----> 6\u001b[0m word_list \u001b[39m=\u001b[39m word\u001b[39m.\u001b[39;49msplit(\u001b[39m\"\u001b[39m\u001b[39m | \u001b[39m\u001b[39m\"\u001b[39m)\n\u001b[1;32m      7\u001b[0m word_list\n\u001b[1;32m      9\u001b[0m \u001b[39m# 저자 (author)\u001b[39;00m\n",
      "\u001b[0;31mAttributeError\u001b[0m: 'tuple' object has no attribute 'split'"
     ]
    }
   ],
   "source": [
    "word = '강명석,방탄소년단 저 | 빅히트뮤직(BIGHIT MUSIC) | 2023년 07월'\n",
    "# word = '신민섭 역/NEXON GAMES 감수 | 학산문화사 | 2023년 08월'\n",
    "# word = '스토리박스,설민석 글/정현희 그림/강석화 감수 | 단꿈아이 | 2023년 05월'\n",
    "word = '베르나르 베르베르 저/전미연 역', '열린책들', '2023년 06월'\n",
    "\n",
    "word_list = word.split(\" | \")\n",
    "word_list\n",
    "\n",
    "# 저자 (author)\n",
    "author = word_list[0]\n",
    "author_final = author.split(\",\")\n",
    "print(author_final)\n",
    "\n",
    "# 출판사 (company)\n",
    "# company = word_list[1]\n",
    "# company\n",
    "\n",
    "# # 출간일 (publish)\n",
    "# publish = word_list[2]\n",
    "# publish"
   ]
  },
  {
   "cell_type": "code",
   "execution_count": 129,
   "metadata": {},
   "outputs": [
    {
     "data": {
      "text/plain": [
       "'스토리박스,설민석글/정현희그림/강석화감수|단꿈아이|2023년05월'"
      ]
     },
     "execution_count": 129,
     "metadata": {},
     "output_type": "execute_result"
    }
   ],
   "source": []
  },
  {
   "cell_type": "code",
   "execution_count": 141,
   "metadata": {},
   "outputs": [
    {
     "data": {
      "text/plain": [
       "['베르나르 베르베르 저/전미연 역']"
      ]
     },
     "execution_count": 141,
     "metadata": {},
     "output_type": "execute_result"
    }
   ],
   "source": []
  },
  {
   "cell_type": "code",
   "execution_count": null,
   "metadata": {},
   "outputs": [],
   "source": []
  }
 ],
 "metadata": {
  "kernelspec": {
   "display_name": "Python 3",
   "language": "python",
   "name": "python3"
  },
  "language_info": {
   "codemirror_mode": {
    "name": "ipython",
    "version": 3
   },
   "file_extension": ".py",
   "mimetype": "text/x-python",
   "name": "python",
   "nbconvert_exporter": "python",
   "pygments_lexer": "ipython3",
   "version": "3.10.9"
  },
  "orig_nbformat": 4
 },
 "nbformat": 4,
 "nbformat_minor": 2
}
