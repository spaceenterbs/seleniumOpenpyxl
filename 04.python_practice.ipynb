{
 "cells": [
  {
   "attachments": {},
   "cell_type": "markdown",
   "metadata": {},
   "source": [
    "### DBPIA 논문 크롤링"
   ]
  },
  {
   "cell_type": "code",
   "execution_count": 1,
   "metadata": {},
   "outputs": [],
   "source": [
    "from selenium import webdriver\n",
    "from selenium.webdriver.common.by import By"
   ]
  },
  {
   "cell_type": "code",
   "execution_count": 2,
   "metadata": {},
   "outputs": [],
   "source": [
    "browser = webdriver.Chrome()"
   ]
  },
  {
   "cell_type": "code",
   "execution_count": 18,
   "metadata": {},
   "outputs": [
    {
     "name": "stdout",
     "output_type": "stream",
     "text": [
      "https://www.dbpia.co.kr/search/topSearch?searchOption=all&query=인공지능\n"
     ]
    }
   ],
   "source": [
    "keyword = input('검색하고자 하는 논문의 키워드를 입력하세요 : ')\n",
    "url = 'https://www.dbpia.co.kr/search/topSearch?searchOption=all&query={}'.format(keyword)\n",
    "# browser.get()\n",
    "print(url)"
   ]
  },
  {
   "cell_type": "code",
   "execution_count": 19,
   "metadata": {},
   "outputs": [],
   "source": [
    "browser.get(url)"
   ]
  },
  {
   "cell_type": "code",
   "execution_count": 20,
   "metadata": {},
   "outputs": [
    {
     "ename": "SyntaxError",
     "evalue": "unterminated string literal (detected at line 34) (622883476.py, line 34)",
     "output_type": "error",
     "traceback": [
      "\u001b[1;36m  Cell \u001b[1;32mIn[20], line 34\u001b[1;36m\u001b[0m\n\u001b[1;33m    xpath = '\"\u001b[0m\n\u001b[1;37m            ^\u001b[0m\n\u001b[1;31mSyntaxError\u001b[0m\u001b[1;31m:\u001b[0m unterminated string literal (detected at line 34)\n"
     ]
    }
   ],
   "source": [
    "links = browser.find_elements(By.CLASS_NAME, 'thesis__link')\n",
    "\n",
    "link_list = []\n",
    "\n",
    "for i in links:\n",
    "\n",
    "    link_list.append(i.get_attribute('href'))\n",
    "\n",
    "link_list\n",
    "\n",
    "'''\n",
    "\n",
    "# 2페이지로 가려면 클릭. address의 'q='을 바꾸면\n",
    "\n",
    "start=0 1pg\n",
    "start=10 2pg\n",
    "start=20 3pg\n",
    "\n",
    "find xpath가 싱글페이지 가져올 때 좋음.\n",
    " td[내의 숫자가 범위를 넘어가면 페이지도 달라진다]\n",
    "for i in range(2, 10):\n",
    "    xpath = ' ~~~ /td[{}]/a'.format(i)\n",
    "    print(xpath.click())\n",
    "\n",
    "(1) url 쿼리를 확인한다.\n",
    "(2) 다른 페이지로 이동하는 버튼들의 url 값을 가져온다.\n",
    "(3) 다른 페이지로 이동하는 버튼들의 xpath 값을 가져온다.\n",
    "\n",
    "어떻게 가져오면 편하겠다 싶은 포인트를 잡아서 가져오면 된다.\n",
    "\n",
    "'''\n",
    "\n",
    "for i in range(2, 10):\n",
    "    xpath = '\\'\n",
    "    #browser.find_element(By.XPATH, xpath).click()\n",
    "    print(xpath)\n",
    "\n"
   ]
  },
  {
   "cell_type": "code",
   "execution_count": null,
   "metadata": {},
   "outputs": [],
   "source": [
    "# 2 페이지\n",
    "\n",
    "browser.find_element(By.XPATH, '//*[@id=\"pageList\"]/a[2]').click()\n",
    "\n",
    "# 3 페이지\n",
    "browser.find_element(By.XPATH, '//*[@id=\"pageList\"]/a[3]').click()\n",
    "\n"
   ]
  },
  {
   "cell_type": "code",
   "execution_count": 28,
   "metadata": {},
   "outputs": [
    {
     "name": "stdout",
     "output_type": "stream",
     "text": [
      "//*[@id=\"pageList\"]/a[2]\n",
      "//*[@id=\"pageList\"]/a[3]\n"
     ]
    },
    {
     "data": {
      "text/plain": [
       "['https://www.dbpia.co.kr/journal/articleDetail?nodeId=NODE11414570',\n",
       " 'https://www.dbpia.co.kr/journal/articleDetail?nodeId=NODE11427576',\n",
       " 'https://www.dbpia.co.kr/journal/articleDetail?nodeId=NODE11412073',\n",
       " 'https://www.dbpia.co.kr/journal/articleDetail?nodeId=NODE11412922',\n",
       " 'https://www.dbpia.co.kr/journal/articleDetail?nodeId=NODE11404736',\n",
       " 'https://www.dbpia.co.kr/journal/articleDetail?nodeId=NODE11396790',\n",
       " 'https://www.dbpia.co.kr/journal/articleDetail?nodeId=NODE11402152',\n",
       " 'https://www.dbpia.co.kr/journal/articleDetail?nodeId=NODE11426731',\n",
       " 'https://www.dbpia.co.kr/journal/articleDetail?nodeId=NODE11426732',\n",
       " 'https://www.dbpia.co.kr/journal/articleDetail?nodeId=NODE11343988',\n",
       " 'https://www.dbpia.co.kr/journal/articleDetail?nodeId=NODE11426556',\n",
       " 'https://www.dbpia.co.kr/journal/articleDetail?nodeId=NODE11397808',\n",
       " 'https://www.dbpia.co.kr/journal/articleDetail?nodeId=NODE11231160',\n",
       " 'https://www.dbpia.co.kr/journal/articleDetail?nodeId=NODE11230845',\n",
       " 'https://www.dbpia.co.kr/journal/articleDetail?nodeId=NODE11337935',\n",
       " 'https://www.dbpia.co.kr/journal/articleDetail?nodeId=NODE11231192',\n",
       " 'https://www.dbpia.co.kr/journal/articleDetail?nodeId=NODE11230851',\n",
       " 'https://www.dbpia.co.kr/journal/articleDetail?nodeId=NODE11362752',\n",
       " 'https://www.dbpia.co.kr/journal/articleDetail?nodeId=NODE11230847',\n",
       " 'https://www.dbpia.co.kr/journal/articleDetail?nodeId=NODE11230844',\n",
       " 'https://www.dbpia.co.kr/journal/articleDetail?nodeId=NODE11412891',\n",
       " 'https://www.dbpia.co.kr/journal/articleDetail?nodeId=NODE11412066',\n",
       " 'https://www.dbpia.co.kr/journal/articleDetail?nodeId=NODE11404737',\n",
       " 'https://www.dbpia.co.kr/journal/articleDetail?nodeId=NODE11402176',\n",
       " 'https://www.dbpia.co.kr/journal/articleDetail?nodeId=NODE11396792',\n",
       " 'https://www.dbpia.co.kr/journal/articleDetail?nodeId=NODE11404872',\n",
       " 'https://www.dbpia.co.kr/journal/articleDetail?nodeId=NODE11406733',\n",
       " 'https://www.dbpia.co.kr/journal/articleDetail?nodeId=NODE11403919',\n",
       " 'https://www.dbpia.co.kr/journal/articleDetail?nodeId=NODE11409394',\n",
       " 'https://www.dbpia.co.kr/journal/articleDetail?nodeId=NODE11403485',\n",
       " 'https://www.dbpia.co.kr/journal/articleDetail?nodeId=NODE11395952',\n",
       " 'https://www.dbpia.co.kr/journal/articleDetail?nodeId=NODE11404617',\n",
       " 'https://www.dbpia.co.kr/journal/articleDetail?nodeId=NODE11415261',\n",
       " 'https://www.dbpia.co.kr/journal/articleDetail?nodeId=NODE11415333',\n",
       " 'https://www.dbpia.co.kr/journal/articleDetail?nodeId=NODE11415303',\n",
       " 'https://www.dbpia.co.kr/journal/articleDetail?nodeId=NODE11415326',\n",
       " 'https://www.dbpia.co.kr/journal/articleDetail?nodeId=NODE11415406',\n",
       " 'https://www.dbpia.co.kr/journal/articleDetail?nodeId=NODE11415415',\n",
       " 'https://www.dbpia.co.kr/journal/articleDetail?nodeId=NODE11415301',\n",
       " 'https://www.dbpia.co.kr/journal/articleDetail?nodeId=NODE11395950']"
      ]
     },
     "execution_count": 28,
     "metadata": {},
     "output_type": "execute_result"
    }
   ],
   "source": [
    "link_list = []\n",
    "\n",
    "import time\n",
    "\n",
    "for num in range(2, 4):\n",
    "    links = browser.find_elements(By.CLASS_NAME, 'thesis__link')\n",
    "\n",
    "    for i in links:\n",
    "        link_list.append(i.get_attribute('href'))\n",
    "\n",
    "    xpath = '//*[@id=\"pageList\"]/a[{}]'.format(num)\n",
    "    print(xpath)\n",
    "\n",
    "    browser.find_element(By.XPATH, xpath).click()\n",
    "    time.sleep(5)\n",
    "\n",
    "link_list"
   ]
  },
  {
   "cell_type": "code",
   "execution_count": 30,
   "metadata": {},
   "outputs": [
    {
     "data": {
      "text/plain": [
       "20"
      ]
     },
     "execution_count": 30,
     "metadata": {},
     "output_type": "execute_result"
    }
   ],
   "source": [
    "len(links)"
   ]
  },
  {
   "attachments": {},
   "cell_type": "markdown",
   "metadata": {},
   "source": [
    "### 쿠팡 플레이 댓글 크롤링"
   ]
  },
  {
   "cell_type": "code",
   "execution_count": 72,
   "metadata": {},
   "outputs": [
    {
     "data": {
      "text/html": [
       "<div>\n",
       "<style scoped>\n",
       "    .dataframe tbody tr th:only-of-type {\n",
       "        vertical-align: middle;\n",
       "    }\n",
       "\n",
       "    .dataframe tbody tr th {\n",
       "        vertical-align: top;\n",
       "    }\n",
       "\n",
       "    .dataframe thead th {\n",
       "        text-align: right;\n",
       "    }\n",
       "</style>\n",
       "<table border=\"1\" class=\"dataframe\">\n",
       "  <thead>\n",
       "    <tr style=\"text-align: right;\">\n",
       "      <th></th>\n",
       "      <th>닉네임</th>\n",
       "      <th>날짜</th>\n",
       "      <th>내용</th>\n",
       "      <th>평점</th>\n",
       "    </tr>\n",
       "  </thead>\n",
       "  <tbody>\n",
       "  </tbody>\n",
       "</table>\n",
       "</div>"
      ],
      "text/plain": [
       "Empty DataFrame\n",
       "Columns: [닉네임, 날짜, 내용, 평점]\n",
       "Index: []"
      ]
     },
     "execution_count": 72,
     "metadata": {},
     "output_type": "execute_result"
    }
   ],
   "source": [
    "\n",
    "# import time\n",
    "\n",
    "# browser.find_element(By.XPATH, '//*[@id=\"ow513\"]/section/header/div/div[2]/button').click()\n",
    "\n",
    "# 스크롤 내려서 뭐 하기.\n",
    "\n",
    "containers = browser.find_elements(By.CLASS_NAME, 'RHo1pe')\n",
    "\n",
    "nickname_list = []\n",
    "day_list = []\n",
    "rating_list = []\n",
    "content_list = []\n",
    "\n",
    "for i in containers:\n",
    "    \n",
    "    nickname = i.find_element(By.CLASS_NAME, 'X5PpBb').text\n",
    "    day = i.find_element(By.CLASS_NAME, 'bp9Aid').text\n",
    "    content = i.find_element(By.CLASS_NAME, 'h3YV2d').text\n",
    "    # print(content1) # 닉네임\n",
    "    # print(content2) # 날짜\n",
    "    # print(content3) # 내용\n",
    "\n",
    "    rating = i.find_element(By.CLASS_NAME, 'iXRFPc').get_attribute('aria-label')[10]\n",
    "    # print(rating) # 별\n",
    "\n",
    "import pandas as pd\n",
    "\n",
    "data = {\n",
    "    \"닉네임\" : nickname_list,\n",
    "    \"날짜\" : day_list,\n",
    "    \"내용\" : content_list,\n",
    "    \"평점\" : rating_list\n",
    "}\n",
    "\n",
    "df = pd.DataFrame(data)\n",
    "df\n",
    "# df.to_csv(\"구글 뉴스 크롤링.csv\")\n",
    "\n",
    "\n",
    "\n",
    "# X5PpBb 닉네임\n",
    "\n",
    "# bp9Aid 날짜\n",
    "\n",
    "# h3YV2d 내용\n",
    "\n",
    "# <div class=\"Jx4nYe\">\n",
    "# <div role=\"img\" aria-label=\"별표 5개 만점에 1개를 받았습니다.\" class=\"iXRFPc\">\n",
    "# <span aria-hidden=\"true\" jsname=\"fI6EEc\" class=\"F7XJmb\" data-number=\"1\">\n",
    "# <span class=\"Z1Dz7b\" aria-hidden=\"true\">\n",
    "# <svg xmlns=\"http://www.w3.org/2000/svg\" viewBox=\"0 0 24 24\">\n",
    "# <path d=\"M0 0h24v24H0z\" fill=\"none\"></path>\n",
    "# <path d=\"M0 0h24v24H0z\" fill=\"none\"></path>\n",
    "# <path d=\"M12 17.27L18.18 21l-1.64-7.03L22 9.24l-7.19-.61L12 2 9.19 8.63 2 9.24l5.46 4.73L5.82 21z\"></path></svg></span></span>\n",
    "# <span aria-hidden=\"true\" jsname=\"fI6EEc\" class=\"F7XJmb\" data-number=\"2\"><span class=\"Wi7KIe\" aria-hidden=\"true\">\n",
    "# <svg xmlns=\"http://www.w3.org/2000/svg\" viewBox=\"0 0 24 24\"><path d=\"M0 0h24v24H0z\" fill=\"none\"></path>\n",
    "# <path d=\"M0 0h24v24H0z\" fill=\"none\"></path>\n",
    "# <path d=\"M12 17.27L18.18 21l-1.64-7.03L22 9.24l-7.19-.61L12 2 9.19 8.63 2 9.24l5.46 4.73L5.82 21z\"></path></svg></span></span>\n",
    "# <span aria-hidden=\"true\" jsname=\"fI6EEc\" class=\"F7XJmb\" data-number=\"3\">\n",
    "# <span class=\"Wi7KIe\" aria-hidden=\"true\">\n",
    "# <svg xmlns=\"http://www.w3.org/2000/svg\" viewBox=\"0 0 24 24\">\n",
    "# <path d=\"M0 0h24v24H0z\" fill=\"none\"></path><path d=\"M0 0h24v24H0z\" fill=\"none\"></path>\n",
    "# <path d=\"M12 17.27L18.18 21l-1.64-7.03L22 9.24l-7.19-.61L12 2 9.19 8.63 2 9.24l5.46 4.73L5.82 21z\"></path></svg></span></span>\n",
    "# <span aria-hidden=\"true\" jsname=\"fI6EEc\" class=\"F7XJmb\" data-number=\"4\">\n",
    "# <span class=\"Wi7KIe\" aria-hidden=\"true\">\n",
    "# <svg xmlns=\"http://www.w3.org/2000/svg\" viewBox=\"0 0 24 24\">\n",
    "# <path d=\"M0 0h24v24H0z\" fill=\"none\"></path>\n",
    "# <path d=\"M0 0h24v24H0z\" fill=\"none\"></path>\n",
    "# <path d=\"M12 17.27L18.18 21l-1.64-7.03L22 9.24l-7.19-.61L12 2 9.19 8.63 2 9.24l5.46 4.73L5.82 21z\"></path></svg></span></span>\n",
    "# <span aria-hidden=\"true\" jsname=\"fI6EEc\" class=\"F7XJmb\" data-number=\"5\">\n",
    "# <span class=\"Wi7KIe\" aria-hidden=\"true\">\n",
    "# <svg xmlns=\"http://www.w3.org/2000/svg\" viewBox=\"0 0 24 24\">\n",
    "# <path d=\"M0 0h24v24H0z\" fill=\"none\"></path>\n",
    "# <path d=\"M0 0h24v24H0z\" fill=\"none\"></path>\n",
    "# <path d=\"M12 17.27L18.18 21l-1.64-7.03L22 9.24l-7.19-.61L12 2 9.19 8.63 2 9.24l5.46 4.73L5.82 21z\"></path></svg></span></span></div>\n",
    "# <span class=\"bp9Aid\">2023년 4월 16일</span></div>\n",
    "\n",
    "\n",
    "\n",
    "\n",
    "\n",
    "\n",
    "\n",
    "\n",
    "\n",
    "# time.sleep(2)\n",
    "# browser.find_element(By.XPATH, '//*[@id=\"yDmH0d\"]/div[5]/div[2]/div/div/div/div/div[1]/button').click()"
   ]
  },
  {
   "cell_type": "code",
   "execution_count": null,
   "metadata": {},
   "outputs": [],
   "source": []
  }
 ],
 "metadata": {
  "kernelspec": {
   "display_name": "Python 3",
   "language": "python",
   "name": "python3"
  },
  "language_info": {
   "codemirror_mode": {
    "name": "ipython",
    "version": 3
   },
   "file_extension": ".py",
   "mimetype": "text/x-python",
   "name": "python",
   "nbconvert_exporter": "python",
   "pygments_lexer": "ipython3",
   "version": "3.11.3"
  },
  "orig_nbformat": 4
 },
 "nbformat": 4,
 "nbformat_minor": 2
}
