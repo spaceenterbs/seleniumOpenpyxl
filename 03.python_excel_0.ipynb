{
 "cells": [
  {
   "attachments": {},
   "cell_type": "markdown",
   "metadata": {},
   "source": [
    "## 엑셀 자동화\n",
    "\n",
    "- openpyxl 라이브러리"
   ]
  },
  {
   "cell_type": "code",
   "execution_count": 1,
   "metadata": {},
   "outputs": [
    {
     "name": "stdout",
     "output_type": "stream",
     "text": [
      "Collecting openpyxl\n",
      "  Downloading openpyxl-3.1.2-py2.py3-none-any.whl (249 kB)\n",
      "\u001b[2K     \u001b[90m━━━━━━━━━━━━━━━━━━━━━━━━━━━━━━━━━━━━━━━\u001b[0m \u001b[32m250.0/250.0 kB\u001b[0m \u001b[31m7.0 MB/s\u001b[0m eta \u001b[36m0:00:00\u001b[0m00:01\u001b[0m\n",
      "\u001b[?25hCollecting et-xmlfile\n",
      "  Downloading et_xmlfile-1.1.0-py3-none-any.whl (4.7 kB)\n",
      "Installing collected packages: et-xmlfile, openpyxl\n",
      "Successfully installed et-xmlfile-1.1.0 openpyxl-3.1.2\n",
      "\n",
      "\u001b[1m[\u001b[0m\u001b[34;49mnotice\u001b[0m\u001b[1;39;49m]\u001b[0m\u001b[39;49m A new release of pip is available: \u001b[0m\u001b[31;49m23.0\u001b[0m\u001b[39;49m -> \u001b[0m\u001b[32;49m23.1.2\u001b[0m\n",
      "\u001b[1m[\u001b[0m\u001b[34;49mnotice\u001b[0m\u001b[1;39;49m]\u001b[0m\u001b[39;49m To update, run: \u001b[0m\u001b[32;49mpython3.10 -m pip install --upgrade pip\u001b[0m\n",
      "Note: you may need to restart the kernel to use updated packages.\n"
     ]
    }
   ],
   "source": [
    "%pip install openpyxl"
   ]
  },
  {
   "cell_type": "code",
   "execution_count": 2,
   "metadata": {},
   "outputs": [],
   "source": [
    "import openpyxl"
   ]
  },
  {
   "cell_type": "code",
   "execution_count": 6,
   "metadata": {},
   "outputs": [],
   "source": [
    "# 엑셀 파일 생성\n",
    "wb = openpyxl.Workbook() # 워크북 생성\n",
    "ws = wb.active # 워크시트 활성화\n",
    "\n",
    "ws.title = \"Info\"\n",
    "\n",
    "ws.append([1,2,3,4,5])\n",
    "ws.append([1,2,3,4,5])\n",
    "ws.append([1,2,3,4,5])\n",
    "ws.append([1,2,3,4,5])\n",
    "ws.append([1,2,3,4,5])\n",
    "\n",
    "ws.merge_cells(\"A1:D1\")\n",
    "\n",
    "ws.insert_rows(3) # 3행에 행추가\n",
    "ws.insert_rows(3) # 3행에 행추가\n",
    "ws.insert_rows(3) # 3행에 행추가\n",
    "\n",
    "wb.save(\"test.xlsx\")"
   ]
  },
  {
   "cell_type": "code",
   "execution_count": 21,
   "metadata": {},
   "outputs": [],
   "source": [
    "# 엑셀 파일 로드\n",
    "workbook = openpyxl.load_workbook(\"test.xlsx\")\n",
    "\n",
    "worksheet = workbook[\"Info\"]\n",
    "\n",
    "# 좌표로 값을 가져오는 방법\n",
    "worksheet.cell(3,3).value\n",
    "\n",
    "# 고유값을 통해서 데이터를 가져오는 방법\n",
    "worksheet[\"B2\"].value\n",
    "\n",
    "# 해당 시트의 최대 행 번호\n",
    "worksheet.max_row\n",
    "\n",
    "# 해당 시트의 최대 열 번호\n",
    "worksheet.max_column\n",
    "\n",
    "# 값 변경\n",
    "worksheet[\"D7\"] = \"비고\"\n",
    "\n",
    "workbook.save(\"test_final.xlsx\")"
   ]
  },
  {
   "cell_type": "code",
   "execution_count": 39,
   "metadata": {},
   "outputs": [],
   "source": [
    "# 출결 여부\n",
    "# - 45분 이상 출석\n",
    "# - 15분 이상 지각\n",
    "# - 그 외 모두 결석\n",
    "# 저장을 할 때는 오늘 날짜 기준으로 (2023-07-07.xlsx) 으로 저장을 해주세요.\n",
    "# for i in range(10):\n",
    "#     print(\"A\" + str(i))\n",
    "\n",
    "wb = openpyxl.load_workbook(\"zoom.xlsx\")\n",
    "ws = wb[\"Sheet\"]\n",
    "ws[\"E1\"] = \"출결 여부\"\n",
    "\n",
    "for i in range(2,31):\n",
    "    time = int(ws[\"C\" + str(i)].value)\n",
    "\n",
    "    attendance = \"\"\n",
    "\n",
    "    if time >= 45:\n",
    "        attendance = '출석'\n",
    "    elif time >= 15:\n",
    "        attendance = '지각'\n",
    "    else:\n",
    "        attendance = '결석'\n",
    "    \n",
    "    ws[\"E\" + str(i)] = attendance\n",
    "\n",
    "from datetime import datetime\n",
    "today = datetime.today()\n",
    "today = today.strftime(\"%Y-%m-%d\")\n",
    "\n",
    "wb.save(\"{}.xlsx\".format(today)) "
   ]
  },
  {
   "cell_type": "code",
   "execution_count": 38,
   "metadata": {},
   "outputs": [
    {
     "data": {
      "text/plain": [
       "'2023-06-22'"
      ]
     },
     "execution_count": 38,
     "metadata": {},
     "output_type": "execute_result"
    }
   ],
   "source": []
  },
  {
   "cell_type": "code",
   "execution_count": null,
   "metadata": {},
   "outputs": [],
   "source": []
  }
 ],
 "metadata": {
  "kernelspec": {
   "display_name": "Python 3",
   "language": "python",
   "name": "python3"
  },
  "language_info": {
   "codemirror_mode": {
    "name": "ipython",
    "version": 3
   },
   "file_extension": ".py",
   "mimetype": "text/x-python",
   "name": "python",
   "nbconvert_exporter": "python",
   "pygments_lexer": "ipython3",
   "version": "3.10.9"
  },
  "orig_nbformat": 4
 },
 "nbformat": 4,
 "nbformat_minor": 2
}
