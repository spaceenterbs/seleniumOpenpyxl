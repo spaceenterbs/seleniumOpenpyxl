{
 "cells": [
  {
   "attachments": {},
   "cell_type": "markdown",
   "metadata": {},
   "source": [
    "## 셀레늄\n",
    "- 데이터 크롤링"
   ]
  },
  {
   "cell_type": "code",
   "execution_count": 4,
   "metadata": {},
   "outputs": [
    {
     "name": "stdout",
     "output_type": "stream",
     "text": [
      "Requirement already satisfied: selenium in /opt/homebrew/lib/python3.10/site-packages (4.7.2)\n",
      "Requirement already satisfied: urllib3[socks]~=1.26 in /opt/homebrew/lib/python3.10/site-packages (from selenium) (1.26.14)\n",
      "Requirement already satisfied: trio-websocket~=0.9 in /opt/homebrew/lib/python3.10/site-packages (from selenium) (0.9.2)\n",
      "Requirement already satisfied: certifi>=2021.10.8 in /opt/homebrew/lib/python3.10/site-packages (from selenium) (2022.12.7)\n",
      "Requirement already satisfied: trio~=0.17 in /opt/homebrew/lib/python3.10/site-packages (from selenium) (0.22.0)\n",
      "Requirement already satisfied: async-generator>=1.9 in /opt/homebrew/lib/python3.10/site-packages (from trio~=0.17->selenium) (1.10)\n",
      "Requirement already satisfied: outcome in /opt/homebrew/lib/python3.10/site-packages (from trio~=0.17->selenium) (1.2.0)\n",
      "Requirement already satisfied: idna in /opt/homebrew/lib/python3.10/site-packages (from trio~=0.17->selenium) (3.4)\n",
      "Requirement already satisfied: exceptiongroup>=1.0.0rc9 in /opt/homebrew/lib/python3.10/site-packages (from trio~=0.17->selenium) (1.1.0)\n",
      "Requirement already satisfied: sortedcontainers in /opt/homebrew/lib/python3.10/site-packages (from trio~=0.17->selenium) (2.4.0)\n",
      "Requirement already satisfied: attrs>=19.2.0 in /opt/homebrew/lib/python3.10/site-packages (from trio~=0.17->selenium) (22.2.0)\n",
      "Requirement already satisfied: sniffio in /opt/homebrew/lib/python3.10/site-packages (from trio~=0.17->selenium) (1.3.0)\n",
      "Requirement already satisfied: wsproto>=0.14 in /opt/homebrew/lib/python3.10/site-packages (from trio-websocket~=0.9->selenium) (1.2.0)\n",
      "Requirement already satisfied: PySocks!=1.5.7,<2.0,>=1.5.6 in /opt/homebrew/lib/python3.10/site-packages (from urllib3[socks]~=1.26->selenium) (1.7.1)\n",
      "Requirement already satisfied: h11<1,>=0.9.0 in /opt/homebrew/lib/python3.10/site-packages (from wsproto>=0.14->trio-websocket~=0.9->selenium) (0.14.0)\n",
      "\n",
      "\u001b[1m[\u001b[0m\u001b[34;49mnotice\u001b[0m\u001b[1;39;49m]\u001b[0m\u001b[39;49m A new release of pip is available: \u001b[0m\u001b[31;49m23.0\u001b[0m\u001b[39;49m -> \u001b[0m\u001b[32;49m23.1.2\u001b[0m\n",
      "\u001b[1m[\u001b[0m\u001b[34;49mnotice\u001b[0m\u001b[1;39;49m]\u001b[0m\u001b[39;49m To update, run: \u001b[0m\u001b[32;49mpython3.10 -m pip install --upgrade pip\u001b[0m\n",
      "Note: you may need to restart the kernel to use updated packages.\n"
     ]
    }
   ],
   "source": [
    "%pip install selenium"
   ]
  },
  {
   "cell_type": "code",
   "execution_count": 1,
   "metadata": {},
   "outputs": [],
   "source": [
    "from selenium import webdriver\n",
    "\n",
    "browser = webdriver.Chrome()"
   ]
  },
  {
   "cell_type": "code",
   "execution_count": 2,
   "metadata": {},
   "outputs": [],
   "source": [
    "# browser.get(\"https://google.com\")\n",
    "browser.get(\"https://www.naver.com\")"
   ]
  },
  {
   "cell_type": "code",
   "execution_count": 3,
   "metadata": {},
   "outputs": [
    {
     "data": {
      "text/plain": [
       "['메일', '카페', '블로그', '쇼핑', '뉴스', '증권', '부동산', '지도', '웹툰', '바로가기 펼침']"
      ]
     },
     "execution_count": 3,
     "metadata": {},
     "output_type": "execute_result"
    }
   ],
   "source": [
    "from selenium.webdriver.common.by import By\n",
    "\n",
    "a = browser.find_element(By.CLASS_NAME, 'shortcut_list').text.split(\"\\n\")\n",
    "a"
   ]
  },
  {
   "cell_type": "code",
   "execution_count": 20,
   "metadata": {},
   "outputs": [],
   "source": [
    "browser.find_element(By.ID, 'query').click()"
   ]
  },
  {
   "cell_type": "code",
   "execution_count": 22,
   "metadata": {},
   "outputs": [],
   "source": [
    "browser.find_element(By.ID, 'query').send_keys(\"날씨\")"
   ]
  },
  {
   "cell_type": "code",
   "execution_count": 25,
   "metadata": {},
   "outputs": [],
   "source": [
    "browser.find_element(By.ID, 'search-btn').click()"
   ]
  },
  {
   "cell_type": "code",
   "execution_count": 39,
   "metadata": {},
   "outputs": [
    {
     "name": "stdout",
     "output_type": "stream",
     "text": [
      "23.1°\n",
      "95%\n",
      "0.6m/s\n"
     ]
    }
   ],
   "source": [
    "# 온도\n",
    "# 체감 습도 풍향 데이터도 가져오기\n",
    "\n",
    "parent = browser.find_element(By.CLASS_NAME, 'summary_list')\n",
    "childs = parent.find_elements(By.CLASS_NAME, 'sort')\n",
    "\n",
    "data_list = []\n",
    "for i in childs:\n",
    "    data_list.append(i.text)\n",
    "    # print(i.find_element(By.CLASS_NAME, 'desc').text)\n",
    "\n",
    "data_list"
   ]
  },
  {
   "cell_type": "code",
   "execution_count": 29,
   "metadata": {},
   "outputs": [
    {
     "ename": "AttributeError",
     "evalue": "'list' object has no attribute 'text'",
     "output_type": "error",
     "traceback": [
      "\u001b[0;31m---------------------------------------------------------------------------\u001b[0m",
      "\u001b[0;31mAttributeError\u001b[0m                            Traceback (most recent call last)",
      "Cell \u001b[0;32mIn[29], line 3\u001b[0m\n\u001b[1;32m      1\u001b[0m data \u001b[39m=\u001b[39m [\u001b[39m1\u001b[39m,\u001b[39m2\u001b[39m,\u001b[39m3\u001b[39m,\u001b[39m4\u001b[39m]\n\u001b[0;32m----> 3\u001b[0m data\u001b[39m.\u001b[39;49mtext\n",
      "\u001b[0;31mAttributeError\u001b[0m: 'list' object has no attribute 'text'"
     ]
    }
   ],
   "source": [
    "data = [\"element_1\", \"element_2\", \"element_3\", \"element_4\"]\n",
    "\n",
    "data.text"
   ]
  },
  {
   "cell_type": "code",
   "execution_count": 40,
   "metadata": {},
   "outputs": [],
   "source": [
    "# 환율 데이터 가져오기\n",
    "url = \"https://search.naver.com/search.naver?sm=tab_hty.top&where=nexearch&query=%ED%99%98%EC%9C%A8&oquery=%EB%82%A0%EC%94%A8&tqi=i55OPdprvTVssL3F9cossssst0G-208953\"\n",
    "browser.get(url)"
   ]
  },
  {
   "cell_type": "code",
   "execution_count": 41,
   "metadata": {},
   "outputs": [
    {
     "data": {
      "text/plain": [
       "'1,292.00'"
      ]
     },
     "execution_count": 41,
     "metadata": {},
     "output_type": "execute_result"
    }
   ],
   "source": [
    "browser.find_element(By.XPATH, '//*[@id=\"_cs_foreigninfo\"]/div[1]/div[2]/div/div[1]/div[1]/div[1]/div[1]/h3/a/span[2]/strong').text"
   ]
  },
  {
   "attachments": {},
   "cell_type": "markdown",
   "metadata": {},
   "source": [
    "### 구글 뉴스 크롤링 (1)"
   ]
  },
  {
   "cell_type": "code",
   "execution_count": 4,
   "metadata": {},
   "outputs": [],
   "source": [
    "browser = webdriver.Chrome()"
   ]
  },
  {
   "cell_type": "code",
   "execution_count": 5,
   "metadata": {},
   "outputs": [
    {
     "data": {
      "text/plain": [
       "'NAVER'"
      ]
     },
     "execution_count": 5,
     "metadata": {},
     "output_type": "execute_result"
    }
   ],
   "source": [
    "# url = 'https://www.google.com/search?q=%EC%9E%90%EB%8F%99%ED%99%94&rlz=1C5CHFA_enKR1038KR1039&tbm=nws&ei=FnaSZKW3Irzs2roPvOqmsAk&ved=0ahUKEwilmoeTvdP_AhU8tlYBHTy1CZYQ4dUDCA0&uact=5&oq=%EC%9E%90%EB%8F%99%ED%99%94&gs_lcp=Cgxnd3Mtd2l6LW5ld3MQAzILCAAQgAQQsQMQgwEyBQgAEIAEMgUIABCABDIFCAAQgAQyBQgAEIAEMgUIABCABDIFCAAQgAQyBQgAEIAEMgUIABCABDIFCAAQgAQ6BAgAEB46BggAEB4QDzoICAAQgAQQsQNQ6AFYxDRgx0VoAHAAeACAAZ0QiAHiMpIBDzEuNC41LTEuMC4xLjEuMZgBAKABAcABAQ&sclient=gws-wiz-news'\n",
    "url = 'https://www.naver.com/'\n",
    "browser.get(url)\n",
    "\n",
    "browser.title"
   ]
  },
  {
   "cell_type": "code",
   "execution_count": null,
   "metadata": {},
   "outputs": [],
   "source": [
    "# 첫 번째 뉴스의 (1) 뉴스 제목 (2) 뉴스 내용 (3) 링크\n",
    "# 1페이지 전체 (1) 뉴스 제목 (2) 뉴스 내용 (3) 링크"
   ]
  },
  {
   "attachments": {},
   "cell_type": "markdown",
   "metadata": {},
   "source": [
    "### 구글 뉴스 크롤링"
   ]
  },
  {
   "cell_type": "code",
   "execution_count": 6,
   "metadata": {},
   "outputs": [],
   "source": [
    "from selenium import webdriver\n",
    "from selenium.webdriver.common.by import By"
   ]
  },
  {
   "cell_type": "code",
   "execution_count": 48,
   "metadata": {},
   "outputs": [],
   "source": [
    "browser = webdriver.Chrome()"
   ]
  },
  {
   "cell_type": "code",
   "execution_count": 49,
   "metadata": {},
   "outputs": [],
   "source": [
    "url = 'https://www.google.com/search?q=%EC%9E%90%EB%8F%99%ED%99%94&rlz=1C5CHFA_enKR1038KR1039&tbm=nws&ei=FnaSZKW3Irzs2roPvOqmsAk&ved=0ahUKEwilmoeTvdP_AhU8tlYBHTy1CZYQ4dUDCA0&uact=5&oq=%EC%9E%90%EB%8F%99%ED%99%94&gs_lcp=Cgxnd3Mtd2l6LW5ld3MQAzILCAAQgAQQsQMQgwEyBQgAEIAEMgUIABCABDIFCAAQgAQyBQgAEIAEMgUIABCABDIFCAAQgAQyBQgAEIAEMgUIABCABDIFCAAQgAQ6BAgAEB46BggAEB4QDzoICAAQgAQQsQNQ6AFYxDRgx0VoAHAAeACAAZ0QiAHiMpIBDzEuNC41LTEuMC4xLjEuMZgBAKABAcABAQ&sclient=gws-wiz-news'\n",
    "browser.get(url)"
   ]
  },
  {
   "cell_type": "code",
   "execution_count": 54,
   "metadata": {},
   "outputs": [
    {
     "data": {
      "text/plain": [
       "('뉴로메카-원익로보틱스, 로봇 자동화 개발 맞손',\n",
       " '협동로봇 제조기업 뉴로메카가 19일 원익로보틱스와 판교 원익빌딩에서 로봇·자동화 개발 사업 추진을 위한 상호 협력 양해각서를 체결했다.',\n",
       " 'https://zdnet.co.kr/view/?no=20230620104928')"
      ]
     },
     "execution_count": 54,
     "metadata": {},
     "output_type": "execute_result"
    }
   ],
   "source": [
    "# 첫 번째 뉴스의 제목, 내용, 링크 가져오기\n",
    "title = browser.find_element(By.CLASS_NAME, 'n0jPhd').text\n",
    "title\n",
    "\n",
    "content = browser.find_element(By.CLASS_NAME, 'GI74Re').text\n",
    "content\n",
    "\n",
    "link = browser.find_element(By.CLASS_NAME, 'WlydOe').get_attribute('href')\n",
    "link\n",
    "\n",
    "title, content, link"
   ]
  },
  {
   "cell_type": "code",
   "execution_count": null,
   "metadata": {},
   "outputs": [],
   "source": [
    "# 1페이지에 있는 전체 뉴스 데이터를 가져오기\n",
    "titles = browser.find_elements(By.CLASS_NAME, 'n0jPhd')\n",
    "for i in titles:\n",
    "    print(i.text)"
   ]
  },
  {
   "cell_type": "code",
   "execution_count": null,
   "metadata": {},
   "outputs": [],
   "source": [
    "contents = browser.find_elements(By.CLASS_NAME, 'GI74Re')\n",
    "for i in contents:\n",
    "    print(i.text)"
   ]
  },
  {
   "cell_type": "code",
   "execution_count": null,
   "metadata": {},
   "outputs": [],
   "source": [
    "links = browser.find_elements(By.CLASS_NAME, 'WlydOe')\n",
    "\n",
    "for i in links:\n",
    "    print(i.get_attribute('href'))"
   ]
  },
  {
   "cell_type": "code",
   "execution_count": 78,
   "metadata": {},
   "outputs": [],
   "source": [
    "# 1페이지에 있는 전체 뉴스 데이터를 가져오기\n",
    "parents = browser.find_elements(By.CLASS_NAME, 'SoaBEf')\n",
    "\n",
    "title_list = []\n",
    "content_list = []\n",
    "link_list = []\n",
    "\n",
    "for elem in parents:\n",
    "    title = elem.find_element(By.CLASS_NAME, 'n0jPhd').text\n",
    "    content = elem.find_element(By.CLASS_NAME, 'GI74Re').text\n",
    "    link = elem.find_element(By.CLASS_NAME, 'WlydOe').get_attribute('href')\n",
    "\n",
    "    title_list.append(title)\n",
    "    content_list.append(content)\n",
    "    link_list.append(link)"
   ]
  },
  {
   "cell_type": "code",
   "execution_count": null,
   "metadata": {},
   "outputs": [],
   "source": [
    "%pip install pandas"
   ]
  },
  {
   "cell_type": "code",
   "execution_count": 76,
   "metadata": {},
   "outputs": [],
   "source": [
    "import pandas as pd"
   ]
  },
  {
   "cell_type": "code",
   "execution_count": 81,
   "metadata": {},
   "outputs": [
    {
     "data": {
      "text/html": [
       "<div>\n",
       "<style scoped>\n",
       "    .dataframe tbody tr th:only-of-type {\n",
       "        vertical-align: middle;\n",
       "    }\n",
       "\n",
       "    .dataframe tbody tr th {\n",
       "        vertical-align: top;\n",
       "    }\n",
       "\n",
       "    .dataframe thead th {\n",
       "        text-align: right;\n",
       "    }\n",
       "</style>\n",
       "<table border=\"1\" class=\"dataframe\">\n",
       "  <thead>\n",
       "    <tr style=\"text-align: right;\">\n",
       "      <th></th>\n",
       "      <th>제목</th>\n",
       "      <th>내용</th>\n",
       "      <th>링크</th>\n",
       "    </tr>\n",
       "  </thead>\n",
       "  <tbody>\n",
       "    <tr>\n",
       "      <th>0</th>\n",
       "      <td>뉴로메카-원익로보틱스, 로봇 자동화 개발 맞손</td>\n",
       "      <td>협동로봇 제조기업 뉴로메카가 19일 원익로보틱스와 판교 원익빌딩에서 로봇·자동화 개...</td>\n",
       "      <td>https://zdnet.co.kr/view/?no=20230620104928</td>\n",
       "    </tr>\n",
       "    <tr>\n",
       "      <th>1</th>\n",
       "      <td>에스피시스템스, 66억 규모 로봇 자동화 시스템 공급계약</td>\n",
       "      <td>[서울=뉴시스] 김경택 기자 = 에스피시스템스는 코넥과 66억원 규모의 산업용 로봇...</td>\n",
       "      <td>https://www.fnnews.com/news/202306211143537130</td>\n",
       "    </tr>\n",
       "    <tr>\n",
       "      <th>2</th>\n",
       "      <td>뉴로메카-원익로보틱스, '혁신 로봇·자동화 기술 고도화' 맞손</td>\n",
       "      <td>뉴로메카는 원익로보틱스와 최근 판교 원익빌딩에서 '로봇·자동화 개발 사업 추진'을 ...</td>\n",
       "      <td>https://www.etnews.com/20230621000154</td>\n",
       "    </tr>\n",
       "    <tr>\n",
       "      <th>3</th>\n",
       "      <td>[2023 AMWC] 자동화에서 자율화로… 디지털 트윈 통한 제조 최적화 구현</td>\n",
       "      <td>[인더스트리뉴스 이건오 기자] 카이스트 장영재 교수가 6월 20일 서울 코엑스(CO...</td>\n",
       "      <td>http://www.industrynews.co.kr/news/articleView...</td>\n",
       "    </tr>\n",
       "    <tr>\n",
       "      <th>4</th>\n",
       "      <td>이노버스, 과기부 장관 표창… AIoT 기술 통한 재활용 시스템 자동화 공로</td>\n",
       "      <td>[일간투데이 한지연 기자] 환경 엔지니어링 기업 주식회사 이노버스(대표 장진혁)가 ...</td>\n",
       "      <td>http://www.dtoday.co.kr/news/articleView.html?...</td>\n",
       "    </tr>\n",
       "    <tr>\n",
       "      <th>5</th>\n",
       "      <td>빅데이터·AI 시대 회계감사…전수 조사·자동화 등</td>\n",
       "      <td>한국공인회계사회 회계현안 세미나 '빅데이터와 AI시대 회계감사' 4대 회계법인 활용...</td>\n",
       "      <td>https://www.dnews.co.kr/uhtml/view.jsp?idxno=2...</td>\n",
       "    </tr>\n",
       "    <tr>\n",
       "      <th>6</th>\n",
       "      <td>FPT 소프트웨어 코리아 '코리아 노코드·로우코드 자동화 임팩트 2023' 참여</td>\n",
       "      <td>코리아 노코드·로우코드 자동화 임팩트 2023', 21일 한국과학기술회관에서 개최....</td>\n",
       "      <td>https://www.newswire.co.kr/newsRead.php?no=969052</td>\n",
       "    </tr>\n",
       "    <tr>\n",
       "      <th>7</th>\n",
       "      <td>뉴로메카-원익로보틱스, 로봇 자동화 개발 사업 협력</td>\n",
       "      <td>원익로보틱스와 뉴로메카는 로봇 및 자동화 개발 사업 추진을 위한 상호 협력에 대한 ...</td>\n",
       "      <td>http://www.irobotnews.com/news/articleView.htm...</td>\n",
       "    </tr>\n",
       "    <tr>\n",
       "      <th>8</th>\n",
       "      <td>에스피시스템스, 66억 규모 로봇 자동화 시스템 공급 계약[주목 e공시]</td>\n",
       "      <td>는 코넥과 66억원 규모의 산업용 로봇 자동화 시스템 공급계약을 체결했다고 21일 ...</td>\n",
       "      <td>https://www.hankyung.com/finance/article/20230...</td>\n",
       "    </tr>\n",
       "    <tr>\n",
       "      <th>9</th>\n",
       "      <td>파씨온택, 자동화 기술 솔루션 공급업체로 '우뚝'</td>\n",
       "      <td>업력 3년이 채 되지 않은 자동화기기 부품ㆍ기술 제공기업 ㈜파씨온택이 자동화ㆍ전력기...</td>\n",
       "      <td>https://www.eroun.net/news/articleView.html?id...</td>\n",
       "    </tr>\n",
       "  </tbody>\n",
       "</table>\n",
       "</div>"
      ],
      "text/plain": [
       "                                             제목  \\\n",
       "0                     뉴로메카-원익로보틱스, 로봇 자동화 개발 맞손   \n",
       "1               에스피시스템스, 66억 규모 로봇 자동화 시스템 공급계약   \n",
       "2            뉴로메카-원익로보틱스, '혁신 로봇·자동화 기술 고도화' 맞손   \n",
       "3   [2023 AMWC] 자동화에서 자율화로… 디지털 트윈 통한 제조 최적화 구현   \n",
       "4    이노버스, 과기부 장관 표창… AIoT 기술 통한 재활용 시스템 자동화 공로   \n",
       "5                   빅데이터·AI 시대 회계감사…전수 조사·자동화 등   \n",
       "6  FPT 소프트웨어 코리아 '코리아 노코드·로우코드 자동화 임팩트 2023' 참여   \n",
       "7                  뉴로메카-원익로보틱스, 로봇 자동화 개발 사업 협력   \n",
       "8      에스피시스템스, 66억 규모 로봇 자동화 시스템 공급 계약[주목 e공시]   \n",
       "9                   파씨온택, 자동화 기술 솔루션 공급업체로 '우뚝'   \n",
       "\n",
       "                                                  내용  \\\n",
       "0  협동로봇 제조기업 뉴로메카가 19일 원익로보틱스와 판교 원익빌딩에서 로봇·자동화 개...   \n",
       "1  [서울=뉴시스] 김경택 기자 = 에스피시스템스는 코넥과 66억원 규모의 산업용 로봇...   \n",
       "2  뉴로메카는 원익로보틱스와 최근 판교 원익빌딩에서 '로봇·자동화 개발 사업 추진'을 ...   \n",
       "3  [인더스트리뉴스 이건오 기자] 카이스트 장영재 교수가 6월 20일 서울 코엑스(CO...   \n",
       "4  [일간투데이 한지연 기자] 환경 엔지니어링 기업 주식회사 이노버스(대표 장진혁)가 ...   \n",
       "5  한국공인회계사회 회계현안 세미나 '빅데이터와 AI시대 회계감사' 4대 회계법인 활용...   \n",
       "6  코리아 노코드·로우코드 자동화 임팩트 2023', 21일 한국과학기술회관에서 개최....   \n",
       "7  원익로보틱스와 뉴로메카는 로봇 및 자동화 개발 사업 추진을 위한 상호 협력에 대한 ...   \n",
       "8  는 코넥과 66억원 규모의 산업용 로봇 자동화 시스템 공급계약을 체결했다고 21일 ...   \n",
       "9  업력 3년이 채 되지 않은 자동화기기 부품ㆍ기술 제공기업 ㈜파씨온택이 자동화ㆍ전력기...   \n",
       "\n",
       "                                                  링크  \n",
       "0        https://zdnet.co.kr/view/?no=20230620104928  \n",
       "1     https://www.fnnews.com/news/202306211143537130  \n",
       "2              https://www.etnews.com/20230621000154  \n",
       "3  http://www.industrynews.co.kr/news/articleView...  \n",
       "4  http://www.dtoday.co.kr/news/articleView.html?...  \n",
       "5  https://www.dnews.co.kr/uhtml/view.jsp?idxno=2...  \n",
       "6  https://www.newswire.co.kr/newsRead.php?no=969052  \n",
       "7  http://www.irobotnews.com/news/articleView.htm...  \n",
       "8  https://www.hankyung.com/finance/article/20230...  \n",
       "9  https://www.eroun.net/news/articleView.html?id...  "
      ]
     },
     "execution_count": 81,
     "metadata": {},
     "output_type": "execute_result"
    }
   ],
   "source": [
    "data = {\n",
    "    \"제목\" : title_list,\n",
    "    \"내용\" : content_list,\n",
    "    \"링크\" : link_list\n",
    "}\n",
    "\n",
    "df = pd.DataFrame(data)\n",
    "df\n",
    "# df.to_csv(\"구글 뉴스 크롤링.csv\")"
   ]
  },
  {
   "cell_type": "code",
   "execution_count": null,
   "metadata": {},
   "outputs": [],
   "source": []
  }
 ],
 "metadata": {
  "kernelspec": {
   "display_name": "Python 3",
   "language": "python",
   "name": "python3"
  },
  "language_info": {
   "codemirror_mode": {
    "name": "ipython",
    "version": 3
   },
   "file_extension": ".py",
   "mimetype": "text/x-python",
   "name": "python",
   "nbconvert_exporter": "python",
   "pygments_lexer": "ipython3",
   "version": "3.11.3"
  },
  "orig_nbformat": 4
 },
 "nbformat": 4,
 "nbformat_minor": 2
}
